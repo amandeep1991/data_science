{
 "cells": [
  {
   "cell_type": "markdown",
   "metadata": {},
   "source": [
    "![open-cv inbuilt dataset](img/06_digits-1024x512.jpeg)"
   ]
  },
  {
   "cell_type": "markdown",
   "metadata": {},
   "source": [
    "We are going to use the above image as our dataset that comes with OpenCV samples. \n",
    "\n",
    "It contains 5000 images in all — 500 images of each digit. \n",
    "\n",
    "Each image is 20×20 grayscale with a black background. \n",
    "\n",
    "4500 of these digits will be used for training and the remaining 500 will be used for testing the performance of the algorithm."
   ]
  },
  {
   "cell_type": "markdown",
   "metadata": {},
   "source": [
    " "
   ]
  },
  {
   "cell_type": "markdown",
   "metadata": {},
   "source": [
    "### Step 1: Deskewing (Pre-Processing)"
   ]
  },
  {
   "cell_type": "markdown",
   "metadata": {},
   "source": [
    "People often think of a learning algorithm as a block box.\n",
    "\n",
    "In reality, you can assist the algorithm a bit and notice huge gains in performance. For example, if you are building a face recognition system, aligning the images to a reference face often leads to a quite substantial improvement in performance.\n",
    "\n",
    "Aligning digits before building a classifier similarly produces superior results. In the case of faces, aligment is rather obvious — you can apply a similarity transformation to an image of a face to align the two corners of the eyes to the two corners of a reference face.\n",
    "\n",
    "In the case of handwritten digits, an obvious variation in writing among people is the slant of their writing. Some writers have a right or forward slant where the digits are slanted forward, some have a backward or left slant, and some have no slant at all. We can help the algorithm quite a bit by fixing this vertical slant so it does not have to learn this variation of the digits. The image on the left shows the original digit in the first column and it’s deskewed (fixed) version.\n",
    "\n",
    "This deskewing of simple grayscale images can be achieved using image moments (an image moment is a certain particular weighted average (moment) of the image pixels' intensities, or a function of such moments, usually chosen to have some attractive property or interpretation.) - [Raw Moments, Central Moments, Moment Invariants]. \n",
    "OpenCV has an implementation of moments and it comes in handy while calculating useful information like centroid, area, skewness of simple images with black backgrounds.\n",
    "\n",
    "\n",
    "It turns out that a measure of the skewness is the given by the ratio of the two central moments ( mu11 / mu02 ). The skewness thus calculated can be used in calculating an affine transform that deskews the image.\n",
    "\n",
    "@Affine Tranformation:-\n",
    "    1. Origin doesn't necessary map to origin\n",
    "    2. Lines map to lines.\n",
    "    3. Parallel lines remain parallel\n",
    "    4. Ratio are preserved\n",
    "\n",
    "        def deskew(img):\n",
    "            m = cv2.moments(img)\n",
    "            if abs(m['mu02']) < 1e-2:\n",
    "                # no deskewing needed. \n",
    "                return img.copy()\n",
    "            #// Calculate skew based on central momemts. \n",
    "            skew = m['mu11']/m['mu02']\n",
    "            #// Calculate affine transform to correct skewness. \n",
    "            M = np.float32([[1, skew, -0.5*SZ*skew], [0, 1, 0]])\n",
    "            #// Apply affine transform\n",
    "            img = cv2.warpAffine(img, M, (SZ, SZ), flags=cv2.WARP_INVERSE_MAP | cv2.INTER_LINEAR)\n",
    "            return img"
   ]
  }
 ],
 "metadata": {
  "kernelspec": {
   "display_name": "Python 3",
   "language": "python",
   "name": "python3"
  },
  "language_info": {
   "codemirror_mode": {
    "name": "ipython",
    "version": 3
   },
   "file_extension": ".py",
   "mimetype": "text/x-python",
   "name": "python",
   "nbconvert_exporter": "python",
   "pygments_lexer": "ipython3",
   "version": "3.6.2"
  }
 },
 "nbformat": 4,
 "nbformat_minor": 2
}
