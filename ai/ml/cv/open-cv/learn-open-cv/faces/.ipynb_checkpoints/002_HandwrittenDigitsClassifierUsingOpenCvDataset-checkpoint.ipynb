{
 "cells": [
  {
   "cell_type": "markdown",
   "metadata": {},
   "source": [
    "![open-cv inbuilt dataset](img/06_digits-1024x512.jpeg)"
   ]
  },
  {
   "cell_type": "markdown",
   "metadata": {},
   "source": [
    "We are going to use the above image as our dataset that comes with OpenCV samples. \n",
    "\n",
    "It contains 5000 images in all — 500 images of each digit. \n",
    "\n",
    "Each image is 20×20 grayscale with a black background. \n",
    "\n",
    "4500 of these digits will be used for training and the remaining 500 will be used for testing the performance of the algorithm."
   ]
  },
  {
   "cell_type": "markdown",
   "metadata": {},
   "source": [
    " "
   ]
  },
  {
   "cell_type": "markdown",
   "metadata": {},
   "source": [
    "### Step 1: Deskewing (Pre-Processing)"
   ]
  },
  {
   "cell_type": "markdown",
   "metadata": {},
   "source": []
  }
 ],
 "metadata": {
  "kernelspec": {
   "display_name": "Python 3",
   "language": "python",
   "name": "python3"
  },
  "language_info": {
   "codemirror_mode": {
    "name": "ipython",
    "version": 3
   },
   "file_extension": ".py",
   "mimetype": "text/x-python",
   "name": "python",
   "nbconvert_exporter": "python",
   "pygments_lexer": "ipython3",
   "version": "3.6.2"
  }
 },
 "nbformat": 4,
 "nbformat_minor": 2
}
