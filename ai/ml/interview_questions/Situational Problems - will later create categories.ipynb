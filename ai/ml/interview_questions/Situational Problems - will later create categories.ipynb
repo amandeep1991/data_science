{
 "cells": [
  {
   "cell_type": "markdown",
   "metadata": {},
   "source": [
    "#### How would you implement a recommendation system for our company’s users?\n",
    "\n",
    "A lot of machine learning interview questions of this type will involve implementation of machine learning models to a company’s problems. You’ll have to research the company and its industry in-depth, especially the revenue drivers the company has, and the types of users the company takes on in the context of the industry it’s in.\n",
    "\n",
    "\n",
    "#### How can we use your machine learning skills to generate revenue?\n",
    "This is a tricky question. The ideal answer would demonstrate knowledge of what drives the business and how your skills could relate. For example, if you were interviewing for music-streaming startup Spotify, you could remark that your skills at developing a better recommendation model would increase user retention, which would then increase revenue in the long run.\n",
    "https://www.slideshare.net/dmc500hats/startup-metrics-for-pirates-long-version\n",
    "\n",
    "\n",
    "\n",
    "\n",
    "#### What are the last machine learning papers you’ve read?\n",
    "Keeping up with the latest scientific literature on machine learning is a must if you want to demonstrate interest in a machine learning position\n",
    "http://www.cs.toronto.edu/~hinton/absps/NatureDeepReview.pdf\n",
    "https://www.quora.com/What-are-some-of-the-best-research-papers-or-books-for-Machine-learning\n",
    "\n",
    "\n",
    "#### Do you have research experience in machine learning?\n",
    "Related to the last point, most organizations hiring for machine learning positions will look for your formal experience in the field. Research papers, co-authored or supervised by leaders in the field, can make the difference between you being hired and not. Make sure you have a summary of your research experience and papers ready — and an explanation for your background and lack of formal research experience if you don’t.\n",
    "\n",
    "\n",
    "#### Where do you usually source datasets?\n",
    "Machine learning interview questions like these try to get at the heart of your machine learning interest. Somebody who is truly passionate about machine learning will have gone off and done side projects on their own, and have a good idea of what great datasets are out there. If you’re missing any, check out Quandl for economic and financial data, and Kaggle’s Datasets collection for another great list.\n",
    "https://www.springboard.com/blog/free-public-data-sets-data-science-project/\n",
    "\n",
    "\n",
    "#### How do you think Google is training data for self-driving cars?\n",
    "Machine learning interview questions like this one really test your knowledge of different machine learning methods, and your inventiveness if you don’t know the answer. Google is currently using recaptcha to source labelled data on storefronts and traffic signs. They are also building on training data collected by Sebastian Thrun at GoogleX — some of which was obtained by his grad students driving buggies on desert dunes!\n",
    "\n",
    "\n",
    "#### How would you simulate the approach AlphaGo took to beat Lee Sidol at Go?\n",
    "AlphaGo beating Lee Sidol, the best human player at Go, in a best-of-five series was a truly seminal event in the history of machine learning and deep learning. The Nature paper above describes how this was accomplished with “Monte-Carlo tree search with deep neural networks that have been trained by supervised learning, from human expert games, and by reinforcement learning from games of self-play.”"
   ]
  }
 ],
 "metadata": {
  "kernelspec": {
   "display_name": "Python 3",
   "language": "python",
   "name": "python3"
  },
  "language_info": {
   "codemirror_mode": {
    "name": "ipython",
    "version": 3
   },
   "file_extension": ".py",
   "mimetype": "text/x-python",
   "name": "python",
   "nbconvert_exporter": "python",
   "pygments_lexer": "ipython3",
   "version": "3.6.2"
  }
 },
 "nbformat": 4,
 "nbformat_minor": 2
}
