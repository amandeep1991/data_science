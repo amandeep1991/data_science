{
 "cells": [
  {
   "cell_type": "markdown",
   "metadata": {},
   "source": [
    "### What is regularization? Can you give some examples of regularization techniques?"
   ]
  },
  {
   "cell_type": "markdown",
   "metadata": {},
   "source": [
    "Regularization is any technique that aims to improve the validation score, sometimes at the cost of reducing the training score.\n",
    "\n",
    "This is another technique (in addition to cross-validation) that can help solve the issue of model overfitting. Most of the datasets have a pattern and some noise. The goal of the regularization is to reduce the influence of the noise on the model.\n",
    "\n",
    "Some regularization techniques:\n",
    "\n",
    "    1. L1 regularization (or Lasso regularization):\n",
    "            will select some features to shrink to zero, such that they will not play any role in the final model. \n",
    "            L1 can be seen as a method to select important features.\n",
    "            tries to minimize the absolute value of the parameters of the model. It produces sparse parameters.\n",
    "            \n",
    "            \n",
    "    2. L2 regularization (or Tikhonov regularization):\n",
    "            tries to minimize the square value of the parameters of the model. It produces parameters with small values.\n",
    "            will force all features to be relatively small, such that they will provide less influence on the model.\n",
    "            \n",
    "    3. Dropout is a technique applied to neural networks that randomly sets some of the neurons’ outputs to zero during training. This forces the network to learn better representations of the data by preventing complex interactions between the neurons: Each neuron needs to learn useful features.\n",
    "    4. Early stopping will stop training when the validation score stops improving, even when the training score may be improving. This prevents overfitting on the training dataset."
   ]
  }
 ],
 "metadata": {
  "kernelspec": {
   "display_name": "Python 3",
   "language": "python",
   "name": "python3"
  },
  "language_info": {
   "codemirror_mode": {
    "name": "ipython",
    "version": 3
   },
   "file_extension": ".py",
   "mimetype": "text/x-python",
   "name": "python",
   "nbconvert_exporter": "python",
   "pygments_lexer": "ipython3",
   "version": "3.6.2"
  }
 },
 "nbformat": 4,
 "nbformat_minor": 2
}
