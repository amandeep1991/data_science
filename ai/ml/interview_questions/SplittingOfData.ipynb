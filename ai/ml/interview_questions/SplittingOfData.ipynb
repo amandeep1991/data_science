{
 "cells": [
  {
   "cell_type": "markdown",
   "metadata": {},
   "source": [
    "### Why do we need a validation set and test set? What is the difference between them?"
   ]
  },
  {
   "cell_type": "markdown",
   "metadata": {},
   "source": [
    "Three types of data-sets:\n",
    "\n",
    "1. The training dataset:  for fitting the model’s parameters can't rely for the accuracy on unseen data.\n",
    "\n",
    "2. The validation dataset: \n",
    "    1. measures performance of data not part of training set. \n",
    "    2. to tune the hyperparameters of trained model. \n",
    "    3. Not reliable, as every time we evaluate the validation data and we make decisions based on those scores, we are leaking information from the validation data into our model. The more evaluations, the more information is leaked. So we can end up overfitting to the validation data, and once again the validation score won’t be reliable for predicting the behaviour of the model in the real world.\n",
    "    \n",
    "    \n",
    "3. The test dataset: \n",
    "    1. measure how well the model does on previously unseen examples. \n",
    "    2. should be used after parameters tuning using the validation set.\n",
    "\n",
    "So if we omit the test set and only use a validation set, the validation score won’t be a good estimate of the generalization of the model."
   ]
  },
  {
   "cell_type": "markdown",
   "metadata": {},
   "source": [
    "."
   ]
  },
  {
   "cell_type": "markdown",
   "metadata": {},
   "source": [
    "### What is stratified cross-validation and when should we use it?"
   ]
  },
  {
   "cell_type": "markdown",
   "metadata": {},
   "source": [
    "Cross-validation is a technique for dividing data between training and validation sets. Generally it is random but in stratified,the split preserves the ratio of the categories on both the training and validation datasets.\n",
    "\n",
    "For example, if we have a dataset with 10% of category A and 90% of category B, and we use stratified cross-validation, we will have the same proportions in training and validation. In contrast, if we use simple cross-validation, in the worst case we may find that there are no samples of category A in the validation set.\n",
    "\n",
    "Stratified cross-validation may be applied in the following scenarios:\n",
    "    1. On a dataset with multiple categories. The smaller the dataset and the more imbalanced the categories, the more important it will be to use stratified cross-validation.\n",
    "    2.  On a dataset with data of different distributions. For example, in a dataset for autonomous driving, we may have images taken during the day and at night. If we do not ensure that both types are present in training and validation, we will have generalization problems."
   ]
  }
 ],
 "metadata": {
  "kernelspec": {
   "display_name": "Python 3",
   "language": "python",
   "name": "python3"
  },
  "language_info": {
   "codemirror_mode": {
    "name": "ipython",
    "version": 3
   },
   "file_extension": ".py",
   "mimetype": "text/x-python",
   "name": "python",
   "nbconvert_exporter": "python",
   "pygments_lexer": "ipython3",
   "version": "3.6.2"
  }
 },
 "nbformat": 4,
 "nbformat_minor": 2
}
