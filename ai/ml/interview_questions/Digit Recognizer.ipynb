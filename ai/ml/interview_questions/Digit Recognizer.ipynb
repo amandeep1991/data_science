{
 "cells": [
  {
   "cell_type": "code",
   "execution_count": 1,
   "metadata": {},
   "outputs": [
    {
     "ename": "error",
     "evalue": "C:\\projects\\opencv-python\\opencv\\modules\\imgproc\\src\\color.cpp:11073: error: (-215) depth == 0 || depth == 2 || depth == 5 in function cv::cvtColor\n",
     "traceback": [
      "\u001b[1;31m---------------------------------------------------------------------------\u001b[0m",
      "\u001b[1;31merror\u001b[0m                                     Traceback (most recent call last)",
      "\u001b[1;32m<ipython-input-1-f4222315d54d>\u001b[0m in \u001b[0;36m<module>\u001b[1;34m()\u001b[0m\n\u001b[0;32m      4\u001b[0m \u001b[0mregion_of_interest\u001b[0m \u001b[1;33m=\u001b[0m \u001b[0mnp\u001b[0m\u001b[1;33m.\u001b[0m\u001b[0marray\u001b[0m\u001b[1;33m(\u001b[0m\u001b[1;33m[\u001b[0m\u001b[1;33m[\u001b[0m\u001b[1;36m1\u001b[0m\u001b[1;33m,\u001b[0m\u001b[1;36m2\u001b[0m\u001b[1;33m,\u001b[0m\u001b[1;36m3\u001b[0m\u001b[1;33m]\u001b[0m\u001b[1;33m,\u001b[0m\u001b[1;33m[\u001b[0m\u001b[1;36m1\u001b[0m\u001b[1;33m,\u001b[0m\u001b[1;36m2\u001b[0m\u001b[1;33m,\u001b[0m\u001b[1;36m3\u001b[0m\u001b[1;33m]\u001b[0m\u001b[1;33m,\u001b[0m\u001b[1;33m[\u001b[0m\u001b[1;36m1\u001b[0m\u001b[1;33m,\u001b[0m\u001b[1;36m2\u001b[0m\u001b[1;33m,\u001b[0m\u001b[1;36m3\u001b[0m\u001b[1;33m]\u001b[0m\u001b[1;33m]\u001b[0m\u001b[1;33m)\u001b[0m\u001b[1;33m\u001b[0m\u001b[0m\n\u001b[0;32m      5\u001b[0m \u001b[1;33m\u001b[0m\u001b[0m\n\u001b[1;32m----> 6\u001b[1;33m \u001b[0mregion_of_interest\u001b[0m \u001b[1;33m=\u001b[0m \u001b[0mcv2\u001b[0m\u001b[1;33m.\u001b[0m\u001b[0mcvtColor\u001b[0m\u001b[1;33m(\u001b[0m\u001b[0mregion_of_interest\u001b[0m\u001b[1;33m,\u001b[0m \u001b[0mcv2\u001b[0m\u001b[1;33m.\u001b[0m\u001b[0mCOLOR_BGR2GRAY\u001b[0m\u001b[1;33m)\u001b[0m\u001b[1;33m\u001b[0m\u001b[0m\n\u001b[0m\u001b[0;32m      7\u001b[0m \u001b[1;33m\u001b[0m\u001b[0m\n\u001b[0;32m      8\u001b[0m \u001b[0mregion_of_interest\u001b[0m \u001b[1;33m=\u001b[0m \u001b[0mcv2\u001b[0m\u001b[1;33m.\u001b[0m\u001b[0mresize\u001b[0m\u001b[1;33m(\u001b[0m\u001b[0mregion_of_interest\u001b[0m\u001b[1;33m,\u001b[0m \u001b[0mnone\u001b[0m\u001b[1;33m,\u001b[0m \u001b[0mfx\u001b[0m\u001b[1;33m=\u001b[0m\u001b[0msize_multiplier\u001b[0m\u001b[1;33m,\u001b[0m \u001b[0mfy\u001b[0m\u001b[1;33m=\u001b[0m\u001b[0msize_multiplier\u001b[0m\u001b[1;33m,\u001b[0m \u001b[0minterpolation\u001b[0m\u001b[1;33m=\u001b[0m\u001b[0mcv2\u001b[0m\u001b[1;33m.\u001b[0m\u001b[0mINTER_LINEAR\u001b[0m\u001b[1;33m)\u001b[0m\u001b[1;33m\u001b[0m\u001b[0m\n",
      "\u001b[1;31merror\u001b[0m: C:\\projects\\opencv-python\\opencv\\modules\\imgproc\\src\\color.cpp:11073: error: (-215) depth == 0 || depth == 2 || depth == 5 in function cv::cvtColor\n"
     ],
     "output_type": "error"
    }
   ],
   "source": [
    "import cv2\n",
    "import numpy as np\n",
    "\n",
    "region_of_interest = np.array([[1,2,3],[1,2,3],[1,2,3]])\n",
    "\n",
    "region_of_interest = cv2.cvtColor(region_of_interest, cv2.COLOR_BGR2GRAY)\n",
    "\n",
    "region_of_interest = cv2.resize(region_of_interest, none, fx=size_multiplier, fy=size_multiplier, interpolation=cv2.INTER_LINEAR)\n",
    "\n",
    "region_of_interest = cv2.threshold(region_of_interest, threshold_value, max_value, cv2.THRESH_BINARY + cv2.THRESH_TRIANGLE )"
   ]
  },
  {
   "cell_type": "code",
   "execution_count": null,
   "metadata": {
    "collapsed": true
   },
   "outputs": [],
   "source": [
    "def read_hand_written(image):\n",
    "    \n",
    "    img = cv2.cvtColoar(image, cv2.COLOR_BGR2GRAY)\n",
    "    img = cv2.bitwise_not(img)\n",
    "    \n",
    "    kernel = np.ones((2,2), np.uint8)\n",
    "    \n",
    "    img = cv2.morphologyEx(img, cv2.MORPH_CLOSE, kernal)\n",
    "    \n",
    "    th2 = cv2.adaptiveThreshold(img, 255, cv2.ADAPTIVE_THRESH_MEAN_C, cv2.THRESH_BINARY, 15, -2)\n",
    "    \n",
    "    (_, contours, _) = cv2.findContours(th2, cv2.RETR_EXTERNAL, cv2.CHAIN_APPROX_SIMPLE)\n",
    "    \n",
    "    \n",
    "    predicted_data = []\n",
    "    \n",
    "    contours = sorted_contours(contours, method='left-to-right')\n",
    "    \n",
    "    i = 0\n",
    "    \n",
    "    for contour in contours:\n",
    "        x,y,w,h = cv2.boundingReat(contours)\n",
    "        # Filter to extract only the digit contours, if cv2.contourArea(cnt)>100 and h <35. Extract the rectangular  region around the digit.\n",
    "        \n",
    "        if i not in (1,4):\n",
    "            roi = th2[y:y+h, x:x+w]\n",
    "            \n",
    "            #Resize the imamge\n",
    "            roi = cv2.resize(roi, (28,28), interpolation=cv2.INTER_AREA)\n",
    "            roi = cv2.dilate(roi, (3,3))\n",
    "            \n",
    "            roi_hog_fg = hog(roi, orientations=9, pixels_per_cell =(14,14), cells_per_block=(1,1), visualise=False)\n",
    "            \n",
    "            nbr = model.predict(np.array([roi_hog_64], 'float64'))\n",
    "            \n",
    "            predicted_data.append(str(nbr[0]))\n",
    "            \n",
    "        i+=1\n",
    "        \n",
    "return predicted_data"
   ]
  },
  {
   "cell_type": "code",
   "execution_count": null,
   "metadata": {
    "collapsed": true
   },
   "outputs": [],
   "source": [
    "def sort_contours(contours, method='left-to-right'):\n",
    "    reverse = False\n",
    "    \n",
    "    i = 0\n",
    "    \n",
    "    if method == 'right-to-left' or method == \"bottom-to-top\":\n",
    "        reverse=True\n",
    "        \n",
    "    if method='top-to-bottom' or method='bottom-to-top':\n",
    "        i=1\n",
    "        \n",
    "    bounding_boxes = [cv2.boundingRect(c) for c in contours]\n",
    "    \n",
    "    contours, bounding_boxes = zip(*sorted(zip(contours, bounding_boxes), key=lambda b: b[1][i], reverse=reverse))\n",
    "    \n",
    "    return contours\n",
    "    \n",
    "    "
   ]
  }
 ],
 "metadata": {
  "kernelspec": {
   "display_name": "Python 3",
   "language": "python",
   "name": "python3"
  },
  "language_info": {
   "codemirror_mode": {
    "name": "ipython",
    "version": 3
   },
   "file_extension": ".py",
   "mimetype": "text/x-python",
   "name": "python",
   "nbconvert_exporter": "python",
   "pygments_lexer": "ipython3",
   "version": "3.6.2"
  }
 },
 "nbformat": 4,
 "nbformat_minor": 2
}
