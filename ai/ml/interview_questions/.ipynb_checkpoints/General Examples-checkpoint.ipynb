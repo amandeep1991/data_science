{
 "cells": [
  {
   "cell_type": "markdown",
   "metadata": {},
   "source": [
    "### Why Machine Learning ?"
   ]
  },
  {
   "cell_type": "markdown",
   "metadata": {},
   "source": [
    "Practical Reasons:\n",
    "1. Reduce Programming Time\n",
    "2. Customize and scale products - English language spectator but moving to another language would require a lot of effort\n",
    "3. Complete seemingly \"unprogrammable\" tasks: \n",
    "\n",
    "\n",
    "Physological Reasons:\n",
    "1. Different Thinking (Mathematical Science -> Natural Science)\n",
    "2. Using statistics not logic to analyze a particular problem."
   ]
  },
  {
   "cell_type": "markdown",
   "metadata": {},
   "source": [
    "."
   ]
  },
  {
   "cell_type": "markdown",
   "metadata": {},
   "source": [
    "Linear regression is a method for finding the straight line or hyperplane that best fits a set of points.\n",
    "\n",
    "L2 Loss = Square Loss\n",
    "\n",
    "Mean square error (MSE) = 1/N sum((y-prediction) ** 2)\n",
    "\n",
    "\n",
    "Training a model simply means learning (determining) good values for all the weights and the bias from labeled examples. In supervised learning, a machine learning algorithm builds a model by examining many examples and attempting to find a model that minimizes loss; this process is called empirical risk minimization.\n",
    "\n",
    "\n"
   ]
  },
  {
   "cell_type": "markdown",
   "metadata": {},
   "source": [
    "A Machine Learning model is trained by starting with an initial guess for the weights and bias and iteratively adjusting those guesses until learning the weights and bias with the lowest possible loss."
   ]
  }
 ],
 "metadata": {
  "kernelspec": {
   "display_name": "Python 3",
   "language": "python",
   "name": "python3"
  },
  "language_info": {
   "codemirror_mode": {
    "name": "ipython",
    "version": 3
   },
   "file_extension": ".py",
   "mimetype": "text/x-python",
   "name": "python",
   "nbconvert_exporter": "python",
   "pygments_lexer": "ipython3",
   "version": "3.6.2"
  }
 },
 "nbformat": 4,
 "nbformat_minor": 2
}
