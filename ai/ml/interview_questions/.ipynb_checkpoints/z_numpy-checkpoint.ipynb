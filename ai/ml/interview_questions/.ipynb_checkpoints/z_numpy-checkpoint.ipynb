{
 "cells": [
  {
   "cell_type": "code",
   "execution_count": 3,
   "metadata": {},
   "outputs": [
    {
     "name": "stdout",
     "output_type": "stream",
     "text": [
      "[  0.           2.30258509   4.60517019   6.90775528   9.21034037\n",
      "  11.51292546]\n",
      "[ 0.  1.  2.  3.  4.  5.]\n",
      "[  0.           3.32192809   6.64385619   9.96578428  13.28771238\n",
      "  16.60964047]\n"
     ]
    }
   ],
   "source": [
    "import numpy as np\n",
    "\n",
    "list_of_numbers = [1,10,100,1000,10000,100000] # or pd.Series would also work here\n",
    "\n",
    "print(np.log(list_of_numbers)) # natural base\n",
    "\n",
    "print(np.log10(list_of_numbers)) # base 10\n",
    "\n",
    "print(np.log2(list_of_numbers)) # base 2"
   ]
  },
  {
   "cell_type": "code",
   "execution_count": 4,
   "metadata": {},
   "outputs": [
    {
     "data": {
      "text/plain": [
       "array([1, 5, 7, 4, 8, 6, 3, 2])"
      ]
     },
     "execution_count": 4,
     "metadata": {},
     "output_type": "execute_result"
    }
   ],
   "source": [
    "np.random.permutation([1,2,3,4,5,6,7,8])"
   ]
  }
 ],
 "metadata": {
  "kernelspec": {
   "display_name": "Python 3",
   "language": "python",
   "name": "python3"
  },
  "language_info": {
   "codemirror_mode": {
    "name": "ipython",
    "version": 3
   },
   "file_extension": ".py",
   "mimetype": "text/x-python",
   "name": "python",
   "nbconvert_exporter": "python",
   "pygments_lexer": "ipython3",
   "version": "3.6.2"
  }
 },
 "nbformat": 4,
 "nbformat_minor": 2
}
