{
 "cells": [
  {
   "cell_type": "markdown",
   "metadata": {},
   "source": [
    "Tensorflow is a computational framework for building machine learning models. TensorFlow provides a variety of different toolkits that allow you to construct models at your preferred level of abstraction. You can use lower-level APIs to build models by defining a series of mathematical operations. Alternatively, you can use higher-level APIs (like tf.estimator) to specify predefined architectures, such as linear regressors or neural networks.\n",
    "\n",
    "\n",
    "|Toolkit(s)|\tDescription|\n",
    "| --- | --- |\n",
    "|Estimator (tf.estimator)|\tHigh-level, OOP API.|\n",
    "| --- | --- |\n",
    "|tf.layers/tf.losses/tf.metrics|\tLibraries for common model components.|\n",
    "| --- | --- |\n",
    "|TensorFlow|\tLower-level APIs|\n",
    "\n",
    "\n",
    "Which API(s) should you use? You should use the highest level of abstraction that solves the problem. The higher levels of abstraction are easier to use, but are also (by design) less flexible."
   ]
  },
  {
   "cell_type": "markdown",
   "metadata": {},
   "source": [
    "TensorFlow consists of the following two components:\n",
    "\n",
    "a graph protocol buffer\n",
    "a runtime that executes the (distributed) graph"
   ]
  },
  {
   "cell_type": "markdown",
   "metadata": {},
   "source": [
    "."
   ]
  },
  {
   "cell_type": "markdown",
   "metadata": {},
   "source": [
    "### tf.estimator API\n",
    "\n",
    "As mentioned above tf.estimator API is the high-level api and everything can be done in lower-level (raw) TensorFlow, but using tf.estimator dramatically lowers the number of lines of code.\n",
    "\n",
    "tf.estimator is compatible with the scikit-learn API."
   ]
  }
 ],
 "metadata": {
  "kernelspec": {
   "display_name": "Python 3",
   "language": "python",
   "name": "python3"
  },
  "language_info": {
   "codemirror_mode": {
    "name": "ipython",
    "version": 3
   },
   "file_extension": ".py",
   "mimetype": "text/x-python",
   "name": "python",
   "nbconvert_exporter": "python",
   "pygments_lexer": "ipython3",
   "version": "3.6.2"
  }
 },
 "nbformat": 4,
 "nbformat_minor": 2
}
