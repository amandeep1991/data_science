{
 "cells": [
  {
   "cell_type": "markdown",
   "metadata": {},
   "source": [
    "Python Advantages:\n",
    "\n",
    "1. Readable\n",
    "2. Garbage Collected\n",
    "3. Dynamically Typed\n",
    "\n",
    "Important Topics\n",
    "    tracking Metrics & success metrics\n",
    "    A/B testing (back-testing)\n",
    "    \n",
    "    \n",
    "Most machine learning algorithms work by finding a statistical dependency in the data provided to them. This dependency is called a hypothesis and is usually denoted by h(θ)\n",
    "\n",
    "Why we use sigmoid function in Logistic Regression?\n",
    "    Using a sigmoid function, we can convert any numerical value to represent a value on the interval [−1,1].\n",
    "    \n"
   ]
  },
  {
   "cell_type": "markdown",
   "metadata": {},
   "source": [
    "### Why Machine Learning ?"
   ]
  },
  {
   "cell_type": "markdown",
   "metadata": {},
   "source": [
    "Practical Reasons:\n",
    "1. Reduce Programming Time\n",
    "2. Customize and scale products - English language spectator but moving to another language would require a lot of effort\n",
    "3. Complete seemingly \"unprogrammable\" tasks: \n",
    "\n",
    "\n",
    "Physological Reasons:\n",
    "1. Different Thinking (Mathematical Science -> Natural Science)\n",
    "2. Using statistics not logic to analyze a particular problem."
   ]
  },
  {
   "cell_type": "markdown",
   "metadata": {},
   "source": [
    "."
   ]
  },
  {
   "cell_type": "markdown",
   "metadata": {},
   "source": [
    "Linear regression is a method for finding the straight line or hyperplane that best fits a set of points.\n",
    "\n",
    "L2 Loss = Square Loss\n",
    "\n",
    "Mean square error (MSE) = 1/N sum((y-prediction) ** 2)\n",
    "\n",
    "\n",
    "Training a model simply means learning (determining) good values for all the weights and the bias from labeled examples. In supervised learning, a machine learning algorithm builds a model by examining many examples and attempting to find a model that minimizes loss; this process is called empirical risk minimization.\n",
    "\n",
    "\n"
   ]
  },
  {
   "cell_type": "markdown",
   "metadata": {},
   "source": [
    "A Machine Learning model is trained by starting with an initial guess for the weights and bias and iteratively adjusting those guesses until learning the weights and bias with the lowest possible loss."
   ]
  },
  {
   "cell_type": "markdown",
   "metadata": {},
   "source": [
    "### Define precision and recall\n",
    "\n",
    "Precision is the fraction of retrieved documents that are relevant to the query.\n",
    "Recall is the fraction of the relevant documents that are successfully retrieved."
   ]
  },
  {
   "cell_type": "markdown",
   "metadata": {},
   "source": [
    "## static and dynamic training\n",
    "\n",
    "Static:\n",
    "    1. Advantages\n",
    "        1. Easy to build and test -- use batch train & test, iterate until good.\n",
    "    2. Disadvantages\n",
    "        1. Still requires monitoring of inputs (validation that data format/type hasn't change/evolved)\n",
    "        2. Easy to let this grow stale\n",
    "    3. Usages:\n",
    "        1. When we know that data is not going to change.\n",
    "        2. Like image recognisation model, we know data is not going to change that often\n",
    " \n",
    "Dynamic:\n",
    "    1. Advantages:\n",
    "        1. Continue to feed in training data over time, regularly sync out updated version.\n",
    "        2. Use progressive validation rather than batch training & test\n",
    "        Will adapt to changes, staleness issues avoided\n",
    "    2. Disadvantages:\n",
    "        1. Needs monitoring, model rollback & data quarantine capabilities\n",
    "        2. Higher complexity of the system\n",
    "    3. Usage:\n",
    "        1. Analysis of trends or sentiments which can be changing frequently.\n",
    "    \n"
   ]
  },
  {
   "cell_type": "markdown",
   "metadata": {},
   "source": [
    "![8_scikit-learn_AlgorithmCheatSheet.jpg](img/8_scikit-learn_AlgorithmCheatSheet.jpg)"
   ]
  }
 ],
 "metadata": {
  "kernelspec": {
   "display_name": "Python 3",
   "language": "python",
   "name": "python3"
  },
  "language_info": {
   "codemirror_mode": {
    "name": "ipython",
    "version": 3
   },
   "file_extension": ".py",
   "mimetype": "text/x-python",
   "name": "python",
   "nbconvert_exporter": "python",
   "pygments_lexer": "ipython3",
   "version": "3.6.2"
  }
 },
 "nbformat": 4,
 "nbformat_minor": 2
}
