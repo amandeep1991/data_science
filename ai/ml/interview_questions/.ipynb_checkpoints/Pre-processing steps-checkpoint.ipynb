{
 "cells": [
  {
   "cell_type": "markdown",
   "metadata": {},
   "source": [
    "### Normalization (Feature Scaling)"
   ]
  },
  {
   "cell_type": "markdown",
   "metadata": {},
   "source": [
    "Feature scaling is also an important step while preprocessing the data. Our dataset may have features with values [−∞,∞] and other features with a different scale. This is a method to standardize the ranges of independent values.\n",
    "\n",
    "Advantages:\n",
    "    1. Feature scaling is also an important process to improve the performance of the learning models. \n",
    "        1. Gradient descent will converge much faster if all of the features are scaled to the same norm. \n",
    "        2. Also, a lot of algorithms—for example, support vector machines (SVM)—work by calculating the distance between two points and if one of the features has broad values, then the distance will be highly influenced by this feature."
   ]
  }
 ],
 "metadata": {
  "kernelspec": {
   "display_name": "Python 3",
   "language": "python",
   "name": "python3"
  },
  "language_info": {
   "codemirror_mode": {
    "name": "ipython",
    "version": 3
   },
   "file_extension": ".py",
   "mimetype": "text/x-python",
   "name": "python",
   "nbconvert_exporter": "python",
   "pygments_lexer": "ipython3",
   "version": "3.6.2"
  }
 },
 "nbformat": 4,
 "nbformat_minor": 2
}
