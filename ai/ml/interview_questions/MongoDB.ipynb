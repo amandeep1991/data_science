{
 "cells": [
  {
   "cell_type": "markdown",
   "metadata": {},
   "source": [
    "Databases contains collections which contains documents\n",
    "\n",
    "Format to access collection ---> <Database_name>.<Collection_name>"
   ]
  },
  {
   "cell_type": "markdown",
   "metadata": {},
   "source": [
    "."
   ]
  },
  {
   "cell_type": "markdown",
   "metadata": {},
   "source": [
    "### Sharding:\n",
    "\n",
    "is a type of database partitioning that separates very large databases the into smaller, faster, more easily managed parts called data shards\n",
    "\n",
    "data shards can be distributed across a number of much less expensive commodity servers. Data shards have comparatively little restriction as far as hardware and software requirements are concerned.\n",
    "\n",
    "In some cases, database sharding can be done fairly simply. One common example is splitting a customer database geographically.\n",
    "\n",
    "Data sharding can be a more complex process in some scenarios, however. Sharding a database that holds less structured data, for example, can be very complicated, and the resulting shards may be difficult to maintain."
   ]
  },
  {
   "cell_type": "markdown",
   "metadata": {},
   "source": [
    "Scale-up = increasing the power of CPU (scale vertical)\n",
    "\n",
    "Scale-out = increasing the number of CPUs (scale horizontally) - MongoDB natively supports Scale-out concept (as no join is needed)\n",
    "\n",
    "MongoDB also supports agile methodologies and performance needs of modern application.\n",
    "\n",
    "MongoDB University course uses following things:\n",
    "    1. MongoD (Database) - starting the server, use mongod and before that make sure to create directory \\data\\db\n",
    "    2. Mongo (Shell) - when we run it, it makes connection to local database - now can run query on this prompt\n",
    "    3. HTTP server (python, pymongo(mongo driver for python), bottle(web-framework) etc)\n",
    "    \n",
    "    \n",
    "Datatypes supported in JSON - string,int,boolean,array,objects(nested jsons)\n",
    "\n",
    "BSON - MongoDB stores data as BSON (Binary JSON) - This is the communication medium between mongoDB driver (at application side) and MOngoDB server. Below are the advantages of BSON-\n",
    "    Light weight\n",
    "    Traversable\n",
    "    Efficient\n",
    "    \n",
    "\n",
    "Limitations of JSON: - BSON removed this limitations\n",
    "    No support for date objects - must be stored as strings or numbers\n",
    "    No difference between integers or float - all are stored as numbers\n",
    "    \n",
    "\n",
    "Indexing can be done on fields/keys with value of Array type as well.\n",
    "\n",
    "Keys must be strings\n",
    "\n",
    "MongoDB is schemaless, so if no value exist for a given key simply leave it.\n",
    "\n",
    "Document size can't be more than 16 MB\n",
    "\n",
    "Python Dict vs JSON:\n",
    "    1. Ordering is maintained in JSON not in dict.\n",
    "    2. "
   ]
  },
  {
   "cell_type": "markdown",
   "metadata": {},
   "source": [
    "### Commands\n",
    "\n",
    "help - to show commands\n",
    "\n",
    "show dbs - show all available databases\n",
    "\n",
    "use <database_name> - switch database and hold the reference to db variable\n",
    "\n",
    "db.movies.insertOne({})-\n",
    "    insert a document in movies collection in the current db (if db is not created yet, it will create it first and then add document to a given collection)\n",
    "    it will return a document only (json) having information of acknowledgement and inserted id (_id is must for every document and if not provided mongo will create it by it's own)\n",
    "    \n",
    "db.movies.find() or db.movies.find().pretty() or db.movies.find({}).pretty() or db.movies.find({\"title\":\"Kick\"}).pretty() - \n",
    "    returns a cursor object not array. (hasNext & next methods)\n",
    "       - can even filter keys with given value in nested documents.\n",
    "       \n",
    "    \n",
    "Using Campus:\n",
    "    1. {\"birth year\": {\"$gte\":1985, \"$lt\":2001} }\n",
    "    \n",
    "    \n",
    "db.names.save - opens the javascript function defination\n",
    "\n",
    "var j = db.name.find() or db.name.findOne()\n",
    "j.name='Aman'\n",
    "db.name.save(j) - will update the value of cell in the tuple\n",
    "\n",
    "\n",
    "\n",
    "\n",
    "\n"
   ]
  },
  {
   "cell_type": "markdown",
   "metadata": {},
   "source": [
    "### Bottle\n",
    "\n",
    "bottle.template(\"hello_world\", {\"key1\":\"value1\"}) # \"hello_world.tpl\" is the template file name and {{variable_name}} to populate the variable"
   ]
  }
 ],
 "metadata": {
  "kernelspec": {
   "display_name": "Python 3",
   "language": "python",
   "name": "python3"
  },
  "language_info": {
   "codemirror_mode": {
    "name": "ipython",
    "version": 3
   },
   "file_extension": ".py",
   "mimetype": "text/x-python",
   "name": "python",
   "nbconvert_exporter": "python",
   "pygments_lexer": "ipython3",
   "version": "3.6.2"
  }
 },
 "nbformat": 4,
 "nbformat_minor": 2
}
