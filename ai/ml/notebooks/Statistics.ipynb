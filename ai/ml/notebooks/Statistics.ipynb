{
 "cells": [
  {
   "cell_type": "markdown",
   "metadata": {},
   "source": [
    "#### Difference b/w probability and likelihood?\n",
    "\n",
    "Probabilities are the areas under a fixed distribution. Probability is for the data.\n",
    "    pr(data|distribution)\n",
    "    \n",
    "Likelihoods are y-axis values for fixed data-points with distributions that can be moved. Likelihood is for distribution.\n",
    "    L(distribution|data)"
   ]
  }
 ],
 "metadata": {
  "kernelspec": {
   "display_name": "Python 3",
   "language": "python",
   "name": "python3"
  },
  "language_info": {
   "codemirror_mode": {
    "name": "ipython",
    "version": 3
   },
   "file_extension": ".py",
   "mimetype": "text/x-python",
   "name": "python",
   "nbconvert_exporter": "python",
   "pygments_lexer": "ipython3",
   "version": "3.6.2"
  }
 },
 "nbformat": 4,
 "nbformat_minor": 2
}
