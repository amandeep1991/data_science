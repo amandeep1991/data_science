{
 "cells": [
  {
   "cell_type": "markdown",
   "metadata": {},
   "source": [
    "### Canny edge detector:\n",
    "\n",
    "The Canny edge detector is an edge detection operator that uses a multi-stage algorithm to detect a wide range of edges in images.\n",
    "Canny edge detection is a technique to extract useful structural information from different vision objects and dramatically reduce the amount of data to be processed.\n",
    "\n",
    "This removes most of the background noise from the image and turns the text regions into bright clumps of edges. (edges in white and other stuff in black)\n",
    "\n",
    "#### Parameters: (TWO)\n",
    "    1. size of the Gaussian filter (smoothing filter) - \n",
    "            used in the first stage directly affects the results of the Canny algorithm. \n",
    "                Smaller filters cause less blurring, and allow detection of small, sharp lines. \n",
    "                A larger filter causes more blurring.\n",
    "    2. Thresholds: \n",
    "            use of two thresholds with hysteresis allows more flexibility than in a single-threshold approach.\n",
    "            But general problems of thresholding approaches still apply. \n",
    "                A threshold set too high can miss important information. \n",
    "                A threshold set too low will falsely identify irrelevant information (such as noise) as important.\n",
    "            "
   ]
  },
  {
   "cell_type": "markdown",
   "metadata": {},
   "source": [
    "### Rank Filter:\n",
    "\n",
    "This essentially replaces a pixel with something like the median of the pixels to its left and right. \n",
    "\n",
    "#### Rank filters can be used for several purposes such as:\n",
    "    1. image quality enhancement e.g. image smoothing, sharpening\n",
    "    2. image pre-processing e.g. noise reduction, contrast enhancement\n",
    "    3. feature extraction e.g. border detection, isolated point detection\n",
    "    4. post-processing e.g. small object removal, object grouping, contour smoothing\n",
    "\n",
    "    \n",
    "![6_rank_filter.jpg](img/6_rank_filter.jpg)\n",
    "\n",
    "##### How it detects border\n",
    "The text areas have lots of white pixels, but the borders consist of just a thin, 1 pixel line. The areas around the borders will be mostly black, so the rank filter will eliminate them.\n",
    "\n",
    "##### Limitations:\n",
    "While this is effective, it still leaves bits of text outside the borders (look at the top left and bottom right). \n",
    "\n",
    "\n",
    "##### Solution - Contours"
   ]
  },
  {
   "cell_type": "markdown",
   "metadata": {},
   "source": [
    "### Contours: closed curves\n",
    "\n",
    "Contours can be explained simply as a curve joining all the continuous points (along the boundary), having same color or intensity. The contours are a useful tool for shape analysis and object detection and recognition.\n",
    "\n",
    "\n",
    "#### Pre-requisites:\n",
    "    1. For better accuracy, use binary images. So before finding contours, apply threshold or canny edge detection\n",
    "    2. In OpenCV, finding contours is like finding white object from black background. \n",
    "\n",
    "\n",
    "These are sets of white pixels which are connected to one another. The border contours are easy to pick out: they’re the ones whose bounding box covers a large fraction of the image.\n",
    "\n",
    "    th,contours, h = cv2.findContours(image, cv2.RETR_LIST, cv2.CHAIN_APPROX_NONE) # h would have heirarchy of contours\n",
    "\n",
    "Above API is very sensitive to noise, so in order to remove all the noise we would blur the image before passing it to contours.\n",
    "\n",
    "        cv2.pyMeanShiftFiltering(image, 21, 51)\n",
    "        \n",
    "How to draw contours:\n",
    "        cv2.drawContours(image, contours_ds, MINUS_ONE_signifies_to_draw_all_contours, (0,0,255), width_integer)\n",
    "        \n",
    "        \n",
    "#### Third parameter in findContours method - Contour Approximation Method\n",
    "     Contours are the boundaries of a shape with same intensity. \n",
    "     It stores the (x,y) coordinates of the boundary of a shape. But does it store all the coordinates ? \n",
    "     That is specified by this contour approximation method.\n",
    "     \n",
    "     If you pass cv2.CHAIN_APPROX_NONE, all the boundary points are stored.\n",
    "     \n",
    "     But actually do we need all the points? For eg, you found the contour of a straight line. \n",
    "     Do you need all the points on the line to represent that line? No, we need just two end points of that line. \n",
    "     This is what cv2.CHAIN_APPROX_SIMPLE does. \n",
    "     It removes all redundant points and compresses the contour, thereby saving memory."
   ]
  }
 ],
 "metadata": {
  "kernelspec": {
   "display_name": "Python 3",
   "language": "python",
   "name": "python3"
  },
  "language_info": {
   "codemirror_mode": {
    "name": "ipython",
    "version": 3
   },
   "file_extension": ".py",
   "mimetype": "text/x-python",
   "name": "python",
   "nbconvert_exporter": "python",
   "pygments_lexer": "ipython3",
   "version": "3.6.2"
  }
 },
 "nbformat": 4,
 "nbformat_minor": 2
}
