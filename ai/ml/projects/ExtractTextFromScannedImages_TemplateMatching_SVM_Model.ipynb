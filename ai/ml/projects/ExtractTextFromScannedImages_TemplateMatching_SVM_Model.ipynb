{
 "cells": [
  {
   "cell_type": "code",
   "execution_count": 1,
   "metadata": {
    "collapsed": true
   },
   "outputs": [],
   "source": [
    "%config IPCompleter.greedy=True # To enable intellisense in Jupyter Notebook\n",
    "# to make matplotlib figures inline\n",
    "%matplotlib inline "
   ]
  },
  {
   "cell_type": "code",
   "execution_count": 2,
   "metadata": {
    "collapsed": true
   },
   "outputs": [],
   "source": [
    "# import neccessary packages\n",
    "\n",
    "import pandas as pd\n",
    "import numpy as np\n",
    "import cv2\n",
    "import matplotlib.pyplot as plt"
   ]
  },
  {
   "cell_type": "code",
   "execution_count": 3,
   "metadata": {
    "collapsed": true
   },
   "outputs": [],
   "source": [
    "# Utility Methods\n",
    "\n",
    "def show_high_resolution_picture_in_two_parts(image_in_numpy_format, image_name):\n",
    "    height, width = image_in_numpy_format.shape[:2]\n",
    "    \n",
    "    if len(image_in_numpy_format.shape)==3:\n",
    "        cv2.imshow(image_name+\" Part-1\", cv2.resize(image_in_numpy_format[:height//2, :, :], (0,0), fx=0.4, fy=0.4)) \n",
    "        cv2.waitKey() #This is required for showing opencv images\n",
    "        #cv2.imshow(image_name+\" Part-2\", cv2.resize(image_in_numpy_format[height//2:, :, :], (0,0), fx=0.4, fy=0.4)) \n",
    "        #cv2.waitKey() #This is required for showing opencv images\n",
    "    else:\n",
    "        cv2.imshow(image_name+\" Part-1\", cv2.resize(image_in_numpy_format[:height//2, :], (0,0), fx=0.4, fy=0.4)) \n",
    "        cv2.waitKey() #This is required for showing opencv images\n",
    "        #cv2.imshow(image_name+\" Part-2\", cv2.resize(image_in_numpy_format[height//2:, :], (0,0), fx=0.4, fy=0.4)) \n",
    "        #cv2.waitKey() #This is required for showing opencv images\n",
    "\n",
    "    # Drawing the image using matplotlib will give options to zoom-in or zoom-out (so better for analysis)\n",
    "    # plt.imshow(input_image[:height/2, :width/2, :])"
   ]
  },
  {
   "cell_type": "code",
   "execution_count": 4,
   "metadata": {
    "collapsed": true
   },
   "outputs": [],
   "source": [
    "# Read input Form\n",
    "\n",
    "scanned_form_image_template_path = \"data/ScannedForm_For_TextExtraction_Template.jpg\"\n",
    "\n",
    "img = cv2.imread(scanned_form_image_template_path)\n",
    "\n",
    "## convert to hsv\n",
    "hsv = cv2.cvtColor(img, cv2.COLOR_BGR2HSV)\n",
    "\n",
    "## mask of green (36,0,0) ~ (70, 255,255)\n",
    "# mask1 = cv2.inRange(hsv, (36, 0, 0), (70, 255,255))\n",
    "mask1 = cv2.inRange(hsv, (45, 100, 100), (75, 255,255))\n",
    "\n",
    "## mask o yellow (15,0,0) ~ (36, 255, 255)\n",
    "mask2 = cv2.inRange(hsv, (15,0,0), (36, 255, 255))\n",
    "\n",
    "# define range of blue color in HSV\n",
    "lower_blue = np.array([110,50,50])\n",
    "upper_blue = np.array([130,255,255])\n",
    "# Threshold the HSV image to get only blue colors\n",
    "mask3 = cv2.inRange(hsv, lower_blue, upper_blue)\n",
    "\n",
    "# define range of red color in HSV\n",
    "lower_red = np.array([0, 100, 100])\n",
    "upper_red = np.array([10, 255, 255])\n",
    "# Threshold the HSV image to get only red colors\n",
    "mask4 = cv2.inRange(hsv, lower_red, upper_red)\n",
    "\n",
    "show_high_resolution_picture_in_two_parts(mask1, \"Green\")\n",
    "#show_high_resolution_picture_in_two_parts(mask2, \"Yellow\")\n",
    "show_high_resolution_picture_in_two_parts(mask3, \"Blue\")\n",
    "show_high_resolution_picture_in_two_parts(mask4, \"Red\")"
   ]
  },
  {
   "cell_type": "code",
   "execution_count": 5,
   "metadata": {
    "collapsed": true
   },
   "outputs": [],
   "source": [
    "def find_all_regions_of_interest(mask, mask_name):\n",
    "    _, contours, _ = cv2.findContours(mask, cv2.RETR_EXTERNAL, cv2.CHAIN_APPROX_NONE)\n",
    "\n",
    "    print(\"Number of Contours Received for ({}): \".format(mask_name), len(contours))\n",
    "\n",
    "    my_list = []\n",
    "\n",
    "    for counter in range(0,len(contours)):\n",
    "        (x, y, w, h) = cv2.boundingRect(contours[counter])\n",
    "        if h>20 and w>20:\n",
    "            my_list.append((x, y, w, h))\n",
    "            # Thickness should be passed as -1 (or any negative value) for complete fill\n",
    "            # cv2.rectangle(img, (x, y), (x + w, y + h), (255, 0, 0), 2)\n",
    "            \n",
    "            #cv2.imshow(mask_name+\" Section\", img[y:y+h, x:x+w, :])\n",
    "            #cv2.waitKey()\n",
    "        \n",
    "        # show_high_resolution_picture_in_two_parts(img1, \"contours for green\")\n",
    "        \n",
    "    # [ print(i) for i in my_list]\n",
    "    return my_list"
   ]
  },
  {
   "cell_type": "code",
   "execution_count": 6,
   "metadata": {},
   "outputs": [
    {
     "name": "stdout",
     "output_type": "stream",
     "text": [
      "Number of Contours Received for (GREEN):  16\n",
      "Number of Contours Received for (RED):  17\n",
      "Number of Contours Received for (BLUE):  639\n",
      "Valid Contours Count (GREEN):  16\n",
      "Valid Contours Count (RED):  15\n",
      "Valid Contours Count (BLUE):  15\n"
     ]
    }
   ],
   "source": [
    "coordinates_for_label_values = find_all_regions_of_interest(mask1, \"GREEN\")\n",
    "coordinates_for_labels = find_all_regions_of_interest(mask4, \"RED\")\n",
    "coordinates_of_enclosing_boundary = find_all_regions_of_interest(mask3, \"BLUE\")\n",
    "\n",
    "print(\"Valid Contours Count ({}): \".format(\"GREEN\"), len(coordinates_for_label_values))\n",
    "print(\"Valid Contours Count ({}): \".format(\"RED\"), len(coordinates_for_labels))\n",
    "print(\"Valid Contours Count ({}): \".format(\"BLUE\"), len(coordinates_of_enclosing_boundary))\n"
   ]
  },
  {
   "cell_type": "code",
   "execution_count": null,
   "metadata": {
    "collapsed": true
   },
   "outputs": [],
   "source": [
    "def return_extreme_x_and_y(points_tuple):\n",
    "    \n",
    "    print(\"What's Going On: \", sep=\"\")\n",
    "    print(points_tuple)\n",
    "    \n",
    "    left_top_x_boundary = points_tuple[0]\n",
    "    left_top_y_boundary = points_tuple[1]\n",
    "            \n",
    "    right_bottom_x_boundary = left_top_x_boundary + points_tuple[2]\n",
    "    right_bottom_y_boundary = left_top_y_boundary + points_tuple[3]\n",
    "    \n",
    "    # print(\"Returning Values: \", (left_top_x_boundary, left_top_y_boundary, right_bottom_x_boundary, right_bottom_y_boundary))\n",
    "    \n",
    "    return (left_top_x_boundary, left_top_y_boundary, right_bottom_x_boundary, right_bottom_y_boundary)"
   ]
  },
  {
   "cell_type": "code",
   "execution_count": null,
   "metadata": {
    "collapsed": true
   },
   "outputs": [],
   "source": [
    "\n",
    "coordinates_for_labels_with_values = []\n",
    "\n",
    "for labels in coordinates_for_labels:\n",
    "    for values in coordinates_for_label_values:\n",
    "        for boundaries in coordinates_of_enclosing_boundary:\n",
    "            xb1,yb1,xb2,yb2 = return_extreme_x_and_y(boundaries)\n",
    "            new_values = xv1,yv1,xv2,yv2 = return_extreme_x_and_y(values)\n",
    "            new_labels = xl1,yl1,xl2,yl2 = return_extreme_x_and_y(labels)\n",
    "        \n",
    "            is_value_valid = xb1<xv1<xb2 and yb1<yv1<yb2 and xb1<xv2<xb2 and yb1<yv2<yb2\n",
    "            is_label_valid = xb1<xl1<xb2 and yb1<yl1<yb2 and xb1<xl2<xb2 and yb1<yl2<yb2\n",
    "\n",
    "            if is_value_valid and is_label_valid:\n",
    "                coordinates_for_labels_with_values.append((new_labels, new_values))\n",
    "                \n",
    "                \n",
    "\n",
    "# print(\"######## Values with labels:: \", sep=\"\")\n",
    "# print(len(coordinates_for_labels_with_values))"
   ]
  },
  {
   "cell_type": "code",
   "execution_count": 10,
   "metadata": {},
   "outputs": [],
   "source": [
    "\n",
    "my_mapped_dictionary = {}\n",
    "\n",
    "for index, tuple_of_tuples in enumerate(coordinates_for_labels_with_values):\n",
    "    labels,values = tuple_of_tuples\n",
    "    xl1, yl1, xl2, yl2 = labels\n",
    "    xv1, yv1, xv2, yv2 = values\n",
    "    # print(xl1, yl1, xl2, yl2)\n",
    "    # print(xv1, yv1, xv2, yv2)\n",
    "    # cv2.imshow(\"Field Number [Labels]: (\"+str(index) + \")\", img[yl1:yl2, xl1:xl2, :])\n",
    "    # cv2.waitKey()\n",
    "    # cv2.imshow(\"Field Number [Value]: (\"+str(index) + \")\", img[yv1:yv2, xv1:xv2, :])\n",
    "    # cv2.waitKey()\n",
    "    my_mapped_dictionary[index] = (img[yl1:yl2, xl1:xl2, :], img[yv1:yv2, xv1:xv2, :])\n",
    "\n",
    "\n"
   ]
  },
  {
   "cell_type": "code",
   "execution_count": 11,
   "metadata": {},
   "outputs": [
    {
     "name": "stderr",
     "output_type": "stream",
     "text": [
      "Using TensorFlow backend.\n"
     ]
    }
   ],
   "source": []
  }
 ],
 "metadata": {
  "kernelspec": {
   "display_name": "Python 3",
   "language": "python",
   "name": "python3"
  },
  "language_info": {
   "codemirror_mode": {
    "name": "ipython",
    "version": 3
   },
   "file_extension": ".py",
   "mimetype": "text/x-python",
   "name": "python",
   "nbconvert_exporter": "python",
   "pygments_lexer": "ipython3",
   "version": "3.6.2"
  }
 },
 "nbformat": 4,
 "nbformat_minor": 2
}
