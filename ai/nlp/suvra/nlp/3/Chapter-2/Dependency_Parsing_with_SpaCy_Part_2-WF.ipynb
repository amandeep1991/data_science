{
 "cells": [
  {
   "cell_type": "code",
   "execution_count": 2,
   "metadata": {
    "collapsed": false,
    "_datascience": {}
   },
   "outputs": [
    {
     "name": "stdout",
     "output_type": "stream",
     "text": [
      "Uninstalling networkx-1.11:\n  Successfully uninstalled networkx-1.11\n\u001b[31mCannot uninstall requirement pydot, not installed\u001b[0m\nReading package lists... Done\nBuilding dependency tree       \nReading state information... Done\nThe following packages were automatically installed and are no longer required:\n  fonts-liberation libcdt5 libcgraph6 libgd3 libgvc6 libgvpr2 libltdl7\n  libpathplan4 libvpx3\nUse 'sudo apt autoremove' to remove them.\nThe following packages will be REMOVED:\n  graphviz*\n0 upgraded, 0 newly installed, 1 to remove and 70 not upgraded.\nAfter this operation, 9,736 kB disk space will be freed.\n(Reading database ... 29552 files and directories currently installed.)\nRemoving graphviz (2.38.0-12ubuntu2.1) ...\nPurging configuration files for graphviz (2.38.0-12ubuntu2.1) ...\nProcessing triggers for man-db (2.7.5-1) ...\nNot uninstalling pyparsing at /usr/local/lib/python2.7/dist-packages, outside environment /tmp/7310121c-ea7a-4135-bea2-8ae97baf1f0f\nCollecting networkx\n  Using cached networkx-1.11-py2.py3-none-any.whl\nRequirement already satisfied: decorator>=3.4.0 in /usr/local/lib/python2.7/dist-packages (from networkx)\nInstalling collected packages: networkx\nSuccessfully installed networkx-1.11\nRequirement already satisfied: pydotplus in /tmp/7310121c-ea7a-4135-bea2-8ae97baf1f0f/lib/python2.7/site-packages\nRequirement already satisfied: pyparsing>=2.0.1 in /usr/local/lib/python2.7/dist-packages (from pydotplus)\n/bin/sh: 1: agt-get: not found\nReading package lists... Done\nBuilding dependency tree       \nReading state information... Done\nSuggested packages:\n  gsfonts graphviz-doc\nThe following NEW packages will be installed:\n  graphviz\n0 upgraded, 1 newly installed, 0 to remove and 70 not upgraded.\nNeed to get 680 kB of archives.\nAfter this operation, 9,736 kB of additional disk space will be used.\nGet:1 http://archive.ubuntu.com/ubuntu xenial-updates/main amd64 graphviz amd64 2.38.0-12ubuntu2.1 [680 kB]\nFetched 680 kB in 0s (683 kB/s)\ndebconf: delaying package configuration, since apt-utils is not installed\nSelecting previously unselected package graphviz.\n(Reading database ... 29452 files and directories currently installed.)\nPreparing to unpack .../graphviz_2.38.0-12ubuntu2.1_amd64.deb ...\nUnpacking graphviz (2.38.0-12ubuntu2.1) ...\nProcessing triggers for man-db (2.7.5-1) ...\nSetting up graphviz (2.38.0-12ubuntu2.1) ...\n"
     ]
    }
   ],
   "source": [
    "import warnings \n",
    "warnings.filterwarnings('ignore')\n",
    "def get_materials(spacy = False, networkx = False, materials = False):\n",
    "    \n",
    "    if networkx:\n",
    "        !pip uninstall networkx -yy\n",
    "        !pip uninstall pydot -yy\n",
    "        !sudo apt-get purge graphviz -yy\n",
    "        !pip uninstall pyparsing -yy\n",
    "        !pip install networkx\n",
    "        !pip install pydotplus\n",
    "        !agt-get update\n",
    "        !sudo apt-get install graphviz -yy\n",
    "        \n",
    "    if spacy:   \n",
    "        !pip install spacy\n",
    "        !python -m spacy.en.download\n",
    "        \n",
    "        \n",
    "# import sys\n",
    "# sys.path.append('/home/jupyter/site-packages/')\n",
    "get_materials(spacy=True, networkx=True)"
   ]
  },
  {
   "cell_type": "markdown",
   "metadata": {
    "_datascience": {}
   },
   "source": [
    "### Examples of Traversing the Tree\n\n##### Merge compound verb phrases\n\nI, do, not, like, pizza, . $\\rightarrow$ I, do not like, pizza, .\n"
   ]
  },
  {
   "cell_type": "code",
   "execution_count": 3,
   "metadata": {
    "collapsed": false,
    "_datascience": {}
   },
   "outputs": [],
   "source": [
    "import spacy\n",
    "from spacy.symbols import aux, auxpass, neg, VERB\n",
    "\n",
    "is_auxiliary_to_verb = lambda token: token.dep in (aux, auxpass, neg)\n",
    "is_non_auxiliary_verb = lambda token: token.pos == VERB and not is_auxiliary_to_verb(token)\n",
    "\n",
    "def merge_compound_verb_phrases(doc):\n",
    "    #find all non auxiliary verbs in document\n",
    "    verbs = filter(is_non_auxiliary_verb, doc)\n",
    "    \n",
    "    #get surrounding spans of verbs\n",
    "    verb_spans = map(get_span_of_surrounding_verbs, verbs)\n",
    "    \n",
    "    #merge each span\n",
    "    for span in verb_spans:\n",
    "        span.merge()\n",
    "\n",
    "\n",
    "\n",
    "def get_span_of_surrounding_verbs(verb):\n",
    "    left_idx, right_idx = 0,0\n",
    "    \n",
    "    #grab left dependencies (closest first) that are auxiliary verbs\n",
    "    for left in list(verb.lefts)[::-1]:\n",
    "        if is_auxiliary_to_verb(left):\n",
    "            left_idx -= 1 #expand span to include word\n",
    "        else:\n",
    "            break\n",
    "       \n",
    "    #grab right dependencies (closest first) that are auxiliary verbs\n",
    "    for right in verb.rights:\n",
    "        if is_auxiliary_to_verb(right):\n",
    "            right_idx += 1 #expand span to include word\n",
    "        else:\n",
    "            break            \n",
    "        \n",
    "    #return slice of contiguous, related verbs\n",
    "    span = verb.doc[verb.i + left_idx: verb.i + 1 + right_idx]\n",
    "    return span\n",
    "\n"
   ]
  },
  {
   "cell_type": "code",
   "execution_count": 4,
   "metadata": {
    "collapsed": true,
    "_datascience": {}
   },
   "outputs": [],
   "source": [
    "def new_pipeline(nlp):\n",
    "    return (\n",
    "        nlp.tagger,\n",
    "        nlp.parser,\n",
    "        nlp.matcher,\n",
    "        nlp.entity,\n",
    "        merge_compound_verb_phrases\n",
    "        )\n",
    "\n",
    "nlp_with_verb_merging = spacy.load('en', create_pipeline = new_pipeline)"
   ]
  },
  {
   "cell_type": "code",
   "execution_count": 5,
   "metadata": {
    "collapsed": false,
    "_datascience": {}
   },
   "outputs": [
    {
     "name": "stdout",
     "output_type": "stream",
     "text": [
      "[the, man, does not like, the, pizza]\n"
     ]
    }
   ],
   "source": [
    "doc = nlp_with_verb_merging(u'the man does not like the pizza')\n",
    "print list(doc)"
   ]
  },
  {
   "cell_type": "code",
   "execution_count": 7,
   "metadata": {
    "collapsed": false,
    "_datascience": {}
   },
   "outputs": [
    {
     "data": {
      "text/html": [
       "\n        <iframe\n            width=\"800\"\n            height=\"400\"\n            src=\"https://demos.explosion.ai/displacy/?text=The%20man%20ate.&model=en&cpu=1&cph=1\"\n            frameborder=\"0\"\n            allowfullscreen\n        ></iframe>\n        "
      ],
      "text/plain": [
       "<IPython.lib.display.IFrame at 0x7f15d9834f50>"
      ]
     },
     "execution_count": 7,
     "metadata": {},
     "output_type": "execute_result"
    }
   ],
   "source": [
    "from IPython.display import IFrame\n",
    "IFrame(src='https://demos.explosion.ai/displacy/?text=The%20man%20ate.&model=en&cpu=1&cph=1', width = 800, height = 400)"
   ]
  },
  {
   "cell_type": "code",
   "execution_count": 11,
   "metadata": {
    "collapsed": false,
    "_datascience": {}
   },
   "outputs": [],
   "source": [
    "%matplotlib inline\n",
    "import networkx as nx\n",
    "import matplotlib.pyplot as plt\n",
    "plt.rcParams['figure.figsize'] = (16, 7)\n",
    "\n",
    "class DependencyGraph(object):\n",
    "    \"\"\"\n",
    "    Create networkx object holding parse. Plot the graph\n",
    "    \"\"\"\n",
    "    \n",
    "    \n",
    "    def __init__(self, spacy_sentence):\n",
    "        \"\"\"\n",
    "        Parameters\n",
    "        ----------\n",
    "        spacy_sentence (spacy.span.span.Span):\n",
    "            Span of a sentence or phrase in spacy\n",
    "        \"\"\"\n",
    "        self.sentence = spacy_sentence\n",
    "        self.graph = self.sentToGraph()\n",
    "        \n",
    "        \n",
    "    \n",
    "    def sentToGraph(self):\n",
    "        \n",
    "        def recurseOnGraph(token, graph):\n",
    "            for child in token.children:\n",
    "                graph.add_node(child.i, {'word':child.orth_,'tag':child.tag_})\n",
    "                graph.add_edge(token.i, child.i, {'dep':child.dep_})\n",
    "                recurseOnGraph(child, graph)\n",
    "            return graph\n",
    "        \n",
    "        graph = nx.DiGraph()\n",
    "        root = self.sentence.root\n",
    "        graph.add_node(root.i, {'word':root.orth_,'tag':root.tag_})        \n",
    "        return recurseOnGraph(root, graph)   \n",
    "    \n",
    "    def plot_graph(self, with_labels=True,arrows=False, font_size=18, node_size=2000, **kwargs):\n",
    "        f, ax = plt.subplots(1)\n",
    "        edge_labels = edge_labels=dict([((u,v,),d['dep']) for u,v,d in self.graph.edges(data=True)])\n",
    "        node_labels = {i:g.graph.node[i]['word'] for i in g.graph.node.keys()}\n",
    "\n",
    "        #pos = nx.graphviz_layout(self.graph,prog='dot')\n",
    "        pos = nx.nx_pydot.graphviz_layout(self.graph,prog='dot')\n",
    "        \n",
    "        nx.draw(self.graph,\n",
    "                pos,\n",
    "                labels = node_labels,\n",
    "                with_labels = with_labels,\n",
    "                arrows=arrows, \n",
    "                font_size=font_size, \n",
    "                node_size=node_size, \n",
    "                ax=ax, \n",
    "                **kwargs\n",
    "        )\n",
    "        \n",
    "        nx.draw_networkx_edge_labels(self.graph, pos, edge_labels=edge_labels,ax=ax, font_size=14)\n",
    "        \n",
    "        ax.set_title(self.sentence.text_with_ws, size = 22)\n",
    "        return ax"
   ]
  },
  {
   "cell_type": "code",
   "execution_count": 12,
   "metadata": {
    "collapsed": false,
    "_datascience": {}
   },
   "outputs": [
    {
     "data": {
      "image/png": "[encoded data removed]",
      "text/plain": [
       "<matplotlib.figure.Figure at 0x7f15b3825ad0>"
      ]
     },
     "metadata": {},
     "output_type": "display_data"
    }
   ],
   "source": [
    "g = DependencyGraph(list(doc.sents)[0])\n",
    "g.plot_graph()\n",
    "plt.show()"
   ]
  },
  {
   "cell_type": "code",
   "execution_count": null,
   "metadata": {
    "collapsed": true,
    "_datascience": {}
   },
   "outputs": [],
   "source": [
    ""
   ]
  },
  {
   "cell_type": "code",
   "execution_count": null,
   "metadata": {
    "collapsed": true,
    "_datascience": {}
   },
   "outputs": [],
   "source": [
    ""
   ]
  },
  {
   "cell_type": "code",
   "execution_count": null,
   "metadata": {
    "collapsed": true,
    "_datascience": {}
   },
   "outputs": [],
   "source": [
    ""
   ]
  }
 ],
 "metadata": {
  "language_info": {
   "pygments_lexer": "ipython2",
   "codemirror_mode": {
    "name": "ipython",
    "version": 2
   },
   "version": "2.7.12",
   "file_extension": ".py",
   "name": "python",
   "mimetype": "text/x-python",
   "nbconvert_exporter": "python"
  },
  "_datascience": {
   "notebookId": 762.0
  },
  "kernelspec": {
   "language": "python",
   "name": "python2",
   "display_name": "Python 2"
  }
 },
 "nbformat": 4,
 "nbformat_minor": 2
}
