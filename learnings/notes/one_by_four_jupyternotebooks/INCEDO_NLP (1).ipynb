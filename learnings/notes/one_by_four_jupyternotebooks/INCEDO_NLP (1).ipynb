{
  "nbformat": 4,
  "nbformat_minor": 0,
  "metadata": {
    "colab": {
      "name": "INCEDO_NLP.ipynb",
      "version": "0.3.2",
      "provenance": [],
      "collapsed_sections": []
    },
    "kernelspec": {
      "name": "python3",
      "display_name": "Python 3"
    },
    "accelerator": "GPU"
  },
  "cells": [
    {
      "metadata": {
        "id": "GITsA9WpmUk5",
        "colab_type": "code",
        "colab": {}
      },
      "cell_type": "code",
      "source": [
        "import numpy as np\n",
        "import pandas as pd\n",
        "import tensorflow as tf\n",
        "\n",
        "from tensorflow.python.keras.preprocessing.text import Tokenizer\n",
        "from tensorflow.python.keras.layers import Dense, Input, LSTM, Embedding, Dropout, Activation,GRU\n",
        "from tensorflow.python.keras.layers import Bidirectional, GlobalMaxPool1D\n",
        "from tensorflow.python.keras.models import Model\n",
        "from tensorflow.python.keras import initializers, regularizers, constraints, optimizers, layers\n",
        "import re\n",
        "tf.keras.backend.clear_session()"
      ],
      "execution_count": 0,
      "outputs": []
    },
    {
      "metadata": {
        "id": "l1tSFn0MJ4mi",
        "colab_type": "code",
        "colab": {}
      },
      "cell_type": "code",
      "source": [
        "data=pd.read_csv('train_dataset.csv')"
      ],
      "execution_count": 0,
      "outputs": []
    },
    {
      "metadata": {
        "id": "1r5XQR5EJ4tj",
        "colab_type": "code",
        "outputId": "86a18cf3-99b3-47f8-ff3e-932eb8387356",
        "colab": {
          "base_uri": "https://localhost:8080/",
          "height": 281
        }
      },
      "cell_type": "code",
      "source": [
        "data.head()"
      ],
      "execution_count": 3,
      "outputs": [
        {
          "output_type": "execute_result",
          "data": {
            "text/html": [
              "<div>\n",
              "<style scoped>\n",
              "    .dataframe tbody tr th:only-of-type {\n",
              "        vertical-align: middle;\n",
              "    }\n",
              "\n",
              "    .dataframe tbody tr th {\n",
              "        vertical-align: top;\n",
              "    }\n",
              "\n",
              "    .dataframe thead th {\n",
              "        text-align: right;\n",
              "    }\n",
              "</style>\n",
              "<table border=\"1\" class=\"dataframe\">\n",
              "  <thead>\n",
              "    <tr style=\"text-align: right;\">\n",
              "      <th></th>\n",
              "      <th>ID</th>\n",
              "      <th>Essayset</th>\n",
              "      <th>min_score</th>\n",
              "      <th>max_score</th>\n",
              "      <th>score_1</th>\n",
              "      <th>score_2</th>\n",
              "      <th>score_3</th>\n",
              "      <th>score_4</th>\n",
              "      <th>score_5</th>\n",
              "      <th>clarity</th>\n",
              "      <th>coherent</th>\n",
              "      <th>EssayText</th>\n",
              "    </tr>\n",
              "  </thead>\n",
              "  <tbody>\n",
              "    <tr>\n",
              "      <th>0</th>\n",
              "      <td>1</td>\n",
              "      <td>1.0</td>\n",
              "      <td>0</td>\n",
              "      <td>3</td>\n",
              "      <td>1</td>\n",
              "      <td>1</td>\n",
              "      <td>1.0</td>\n",
              "      <td>1.0</td>\n",
              "      <td>1.0</td>\n",
              "      <td>average</td>\n",
              "      <td>worst</td>\n",
              "      <td>Some additional information that we would need...</td>\n",
              "    </tr>\n",
              "    <tr>\n",
              "      <th>1</th>\n",
              "      <td>2</td>\n",
              "      <td>1.0</td>\n",
              "      <td>0</td>\n",
              "      <td>3</td>\n",
              "      <td>1</td>\n",
              "      <td>1</td>\n",
              "      <td>NaN</td>\n",
              "      <td>1.5</td>\n",
              "      <td>1.0</td>\n",
              "      <td>excellent</td>\n",
              "      <td>worst</td>\n",
              "      <td>After reading the expirement, I realized that ...</td>\n",
              "    </tr>\n",
              "    <tr>\n",
              "      <th>2</th>\n",
              "      <td>3</td>\n",
              "      <td>1.0</td>\n",
              "      <td>0</td>\n",
              "      <td>3</td>\n",
              "      <td>1</td>\n",
              "      <td>1</td>\n",
              "      <td>1.0</td>\n",
              "      <td>1.0</td>\n",
              "      <td>1.5</td>\n",
              "      <td>worst</td>\n",
              "      <td>above_average</td>\n",
              "      <td>What you need is more trials, a control set up...</td>\n",
              "    </tr>\n",
              "    <tr>\n",
              "      <th>3</th>\n",
              "      <td>4</td>\n",
              "      <td>1.0</td>\n",
              "      <td>0</td>\n",
              "      <td>3</td>\n",
              "      <td>0</td>\n",
              "      <td>0</td>\n",
              "      <td>0.0</td>\n",
              "      <td>0.0</td>\n",
              "      <td>1.0</td>\n",
              "      <td>worst</td>\n",
              "      <td>worst</td>\n",
              "      <td>The student should list what rock is better an...</td>\n",
              "    </tr>\n",
              "    <tr>\n",
              "      <th>4</th>\n",
              "      <td>5</td>\n",
              "      <td>1.0</td>\n",
              "      <td>0</td>\n",
              "      <td>3</td>\n",
              "      <td>2</td>\n",
              "      <td>2</td>\n",
              "      <td>2.0</td>\n",
              "      <td>2.5</td>\n",
              "      <td>1.0</td>\n",
              "      <td>above_average</td>\n",
              "      <td>worst</td>\n",
              "      <td>For the students to be able to make a replicat...</td>\n",
              "    </tr>\n",
              "  </tbody>\n",
              "</table>\n",
              "</div>"
            ],
            "text/plain": [
              "   ID  Essayset  min_score  max_score  score_1  score_2  score_3  score_4  \\\n",
              "0   1       1.0          0          3        1        1      1.0      1.0   \n",
              "1   2       1.0          0          3        1        1      NaN      1.5   \n",
              "2   3       1.0          0          3        1        1      1.0      1.0   \n",
              "3   4       1.0          0          3        0        0      0.0      0.0   \n",
              "4   5       1.0          0          3        2        2      2.0      2.5   \n",
              "\n",
              "   score_5        clarity       coherent  \\\n",
              "0      1.0        average          worst   \n",
              "1      1.0      excellent          worst   \n",
              "2      1.5          worst  above_average   \n",
              "3      1.0          worst          worst   \n",
              "4      1.0  above_average          worst   \n",
              "\n",
              "                                           EssayText  \n",
              "0  Some additional information that we would need...  \n",
              "1  After reading the expirement, I realized that ...  \n",
              "2  What you need is more trials, a control set up...  \n",
              "3  The student should list what rock is better an...  \n",
              "4  For the students to be able to make a replicat...  "
            ]
          },
          "metadata": {
            "tags": []
          },
          "execution_count": 3
        }
      ]
    },
    {
      "metadata": {
        "id": "r8pScbfHRWci",
        "colab_type": "code",
        "outputId": "ae2b83cc-baed-4154-f87b-fdeb544c0526",
        "colab": {
          "base_uri": "https://localhost:8080/",
          "height": 247
        }
      },
      "cell_type": "code",
      "source": [
        "data.isnull().sum()"
      ],
      "execution_count": 4,
      "outputs": [
        {
          "output_type": "execute_result",
          "data": {
            "text/plain": [
              "ID             0\n",
              "Essayset     157\n",
              "min_score      0\n",
              "max_score      0\n",
              "score_1        0\n",
              "score_2        0\n",
              "score_3      147\n",
              "score_4      136\n",
              "score_5      144\n",
              "clarity      138\n",
              "coherent     145\n",
              "EssayText      0\n",
              "dtype: int64"
            ]
          },
          "metadata": {
            "tags": []
          },
          "execution_count": 4
        }
      ]
    },
    {
      "metadata": {
        "id": "j0QZreeHTCPp",
        "colab_type": "code",
        "colab": {}
      },
      "cell_type": "code",
      "source": [
        "data=data.dropna()"
      ],
      "execution_count": 0,
      "outputs": []
    },
    {
      "metadata": {
        "id": "5P_Kp3ZVM2Ai",
        "colab_type": "code",
        "colab": {}
      },
      "cell_type": "code",
      "source": [
        "#data=data.fillna('0')"
      ],
      "execution_count": 0,
      "outputs": []
    },
    {
      "metadata": {
        "id": "5wrqFWhaM4kV",
        "colab_type": "code",
        "outputId": "a5f857aa-c759-4f03-f0a5-08840bc87b01",
        "colab": {
          "base_uri": "https://localhost:8080/",
          "height": 318
        }
      },
      "cell_type": "code",
      "source": [
        "data.info()"
      ],
      "execution_count": 7,
      "outputs": [
        {
          "output_type": "stream",
          "text": [
            "<class 'pandas.core.frame.DataFrame'>\n",
            "Int64Index: 16176 entries, 0 to 17042\n",
            "Data columns (total 12 columns):\n",
            "ID           16176 non-null int64\n",
            "Essayset     16176 non-null float64\n",
            "min_score    16176 non-null int64\n",
            "max_score    16176 non-null int64\n",
            "score_1      16176 non-null int64\n",
            "score_2      16176 non-null int64\n",
            "score_3      16176 non-null float64\n",
            "score_4      16176 non-null float64\n",
            "score_5      16176 non-null float64\n",
            "clarity      16176 non-null object\n",
            "coherent     16176 non-null object\n",
            "EssayText    16176 non-null object\n",
            "dtypes: float64(4), int64(5), object(3)\n",
            "memory usage: 1.6+ MB\n"
          ],
          "name": "stdout"
        }
      ]
    },
    {
      "metadata": {
        "id": "_Oo0sxDCOLqe",
        "colab_type": "code",
        "colab": {}
      },
      "cell_type": "code",
      "source": [
        "X=data[['Essayset','EssayText']]"
      ],
      "execution_count": 0,
      "outputs": []
    },
    {
      "metadata": {
        "id": "j8DJMIF4OL0X",
        "colab_type": "code",
        "colab": {}
      },
      "cell_type": "code",
      "source": [
        "data['AVG']=data[['score_1','score_2','score_3','score_4','score_5']].mean(axis=1)"
      ],
      "execution_count": 0,
      "outputs": []
    },
    {
      "metadata": {
        "id": "hgmcvOUhcEwP",
        "colab_type": "code",
        "outputId": "2832e7ec-c4e8-4011-e38a-ef0394e60519",
        "colab": {
          "base_uri": "https://localhost:8080/",
          "height": 364
        }
      },
      "cell_type": "code",
      "source": [
        "data.head()"
      ],
      "execution_count": 10,
      "outputs": [
        {
          "output_type": "execute_result",
          "data": {
            "text/html": [
              "<div>\n",
              "<style scoped>\n",
              "    .dataframe tbody tr th:only-of-type {\n",
              "        vertical-align: middle;\n",
              "    }\n",
              "\n",
              "    .dataframe tbody tr th {\n",
              "        vertical-align: top;\n",
              "    }\n",
              "\n",
              "    .dataframe thead th {\n",
              "        text-align: right;\n",
              "    }\n",
              "</style>\n",
              "<table border=\"1\" class=\"dataframe\">\n",
              "  <thead>\n",
              "    <tr style=\"text-align: right;\">\n",
              "      <th></th>\n",
              "      <th>ID</th>\n",
              "      <th>Essayset</th>\n",
              "      <th>min_score</th>\n",
              "      <th>max_score</th>\n",
              "      <th>score_1</th>\n",
              "      <th>score_2</th>\n",
              "      <th>score_3</th>\n",
              "      <th>score_4</th>\n",
              "      <th>score_5</th>\n",
              "      <th>clarity</th>\n",
              "      <th>coherent</th>\n",
              "      <th>EssayText</th>\n",
              "      <th>AVG</th>\n",
              "    </tr>\n",
              "  </thead>\n",
              "  <tbody>\n",
              "    <tr>\n",
              "      <th>0</th>\n",
              "      <td>1</td>\n",
              "      <td>1.0</td>\n",
              "      <td>0</td>\n",
              "      <td>3</td>\n",
              "      <td>1</td>\n",
              "      <td>1</td>\n",
              "      <td>1.0</td>\n",
              "      <td>1.0</td>\n",
              "      <td>1.0</td>\n",
              "      <td>average</td>\n",
              "      <td>worst</td>\n",
              "      <td>Some additional information that we would need...</td>\n",
              "      <td>1.0</td>\n",
              "    </tr>\n",
              "    <tr>\n",
              "      <th>2</th>\n",
              "      <td>3</td>\n",
              "      <td>1.0</td>\n",
              "      <td>0</td>\n",
              "      <td>3</td>\n",
              "      <td>1</td>\n",
              "      <td>1</td>\n",
              "      <td>1.0</td>\n",
              "      <td>1.0</td>\n",
              "      <td>1.5</td>\n",
              "      <td>worst</td>\n",
              "      <td>above_average</td>\n",
              "      <td>What you need is more trials, a control set up...</td>\n",
              "      <td>1.1</td>\n",
              "    </tr>\n",
              "    <tr>\n",
              "      <th>3</th>\n",
              "      <td>4</td>\n",
              "      <td>1.0</td>\n",
              "      <td>0</td>\n",
              "      <td>3</td>\n",
              "      <td>0</td>\n",
              "      <td>0</td>\n",
              "      <td>0.0</td>\n",
              "      <td>0.0</td>\n",
              "      <td>1.0</td>\n",
              "      <td>worst</td>\n",
              "      <td>worst</td>\n",
              "      <td>The student should list what rock is better an...</td>\n",
              "      <td>0.2</td>\n",
              "    </tr>\n",
              "    <tr>\n",
              "      <th>4</th>\n",
              "      <td>5</td>\n",
              "      <td>1.0</td>\n",
              "      <td>0</td>\n",
              "      <td>3</td>\n",
              "      <td>2</td>\n",
              "      <td>2</td>\n",
              "      <td>2.0</td>\n",
              "      <td>2.5</td>\n",
              "      <td>1.0</td>\n",
              "      <td>above_average</td>\n",
              "      <td>worst</td>\n",
              "      <td>For the students to be able to make a replicat...</td>\n",
              "      <td>1.9</td>\n",
              "    </tr>\n",
              "    <tr>\n",
              "      <th>5</th>\n",
              "      <td>6</td>\n",
              "      <td>1.0</td>\n",
              "      <td>0</td>\n",
              "      <td>3</td>\n",
              "      <td>1</td>\n",
              "      <td>0</td>\n",
              "      <td>0.0</td>\n",
              "      <td>0.0</td>\n",
              "      <td>0.0</td>\n",
              "      <td>worst</td>\n",
              "      <td>worst</td>\n",
              "      <td>I would need the information of why you would ...</td>\n",
              "      <td>0.2</td>\n",
              "    </tr>\n",
              "  </tbody>\n",
              "</table>\n",
              "</div>"
            ],
            "text/plain": [
              "   ID  Essayset  min_score  max_score  score_1  score_2  score_3  score_4  \\\n",
              "0   1       1.0          0          3        1        1      1.0      1.0   \n",
              "2   3       1.0          0          3        1        1      1.0      1.0   \n",
              "3   4       1.0          0          3        0        0      0.0      0.0   \n",
              "4   5       1.0          0          3        2        2      2.0      2.5   \n",
              "5   6       1.0          0          3        1        0      0.0      0.0   \n",
              "\n",
              "   score_5        clarity       coherent  \\\n",
              "0      1.0        average          worst   \n",
              "2      1.5          worst  above_average   \n",
              "3      1.0          worst          worst   \n",
              "4      1.0  above_average          worst   \n",
              "5      0.0          worst          worst   \n",
              "\n",
              "                                           EssayText  AVG  \n",
              "0  Some additional information that we would need...  1.0  \n",
              "2  What you need is more trials, a control set up...  1.1  \n",
              "3  The student should list what rock is better an...  0.2  \n",
              "4  For the students to be able to make a replicat...  1.9  \n",
              "5  I would need the information of why you would ...  0.2  "
            ]
          },
          "metadata": {
            "tags": []
          },
          "execution_count": 10
        }
      ]
    },
    {
      "metadata": {
        "id": "VTtqFHC9c8VA",
        "colab_type": "code",
        "colab": {}
      },
      "cell_type": "code",
      "source": [
        "#data['NORMAVG']=[row['AVG']/3 if row['Essayset'] in([1,2,5,6]) else row['AVG']/2 for index, row in data.iterrows()]"
      ],
      "execution_count": 0,
      "outputs": []
    },
    {
      "metadata": {
        "id": "YVJOkpnZbvCu",
        "colab_type": "code",
        "colab": {}
      },
      "cell_type": "code",
      "source": [
        "#[row['AVG']/3 if row['Essayset'] in([1,2,5,6]) else row['AVG']/2 for index, row in data.iterrows()]"
      ],
      "execution_count": 0,
      "outputs": []
    },
    {
      "metadata": {
        "id": "WIn55FwvdDvi",
        "colab_type": "code",
        "colab": {}
      },
      "cell_type": "code",
      "source": [
        "data1=data[data.Essayset.isin([1,2,5,6])]"
      ],
      "execution_count": 0,
      "outputs": []
    },
    {
      "metadata": {
        "id": "EZ54uv2Oce5k",
        "colab_type": "code",
        "colab": {}
      },
      "cell_type": "code",
      "source": [
        "X1=data1[['Essayset','EssayText']]"
      ],
      "execution_count": 0,
      "outputs": []
    },
    {
      "metadata": {
        "id": "VDRPzJozcgdO",
        "colab_type": "code",
        "colab": {}
      },
      "cell_type": "code",
      "source": [
        "Y1=round(data1[['AVG']] )"
      ],
      "execution_count": 0,
      "outputs": []
    },
    {
      "metadata": {
        "id": "XgVet3TYe96a",
        "colab_type": "code",
        "colab": {}
      },
      "cell_type": "code",
      "source": [
        "data2=data[~data.Essayset.isin([1,2,5,6])]"
      ],
      "execution_count": 0,
      "outputs": []
    },
    {
      "metadata": {
        "id": "qGKB7WtGfHSV",
        "colab_type": "code",
        "colab": {}
      },
      "cell_type": "code",
      "source": [
        "X2=data2[['Essayset','EssayText']]"
      ],
      "execution_count": 0,
      "outputs": []
    },
    {
      "metadata": {
        "id": "mTWUf-rdfHdU",
        "colab_type": "code",
        "colab": {}
      },
      "cell_type": "code",
      "source": [
        "Y2=round(data2[['AVG']])"
      ],
      "execution_count": 0,
      "outputs": []
    },
    {
      "metadata": {
        "id": "jn3Xtt7CJDww",
        "colab_type": "code",
        "outputId": "81dcbb54-fdbe-4da6-bbe5-1b572b38b441",
        "colab": {
          "base_uri": "https://localhost:8080/",
          "height": 34
        }
      },
      "cell_type": "code",
      "source": [
        "Y2.AVG.unique()"
      ],
      "execution_count": 19,
      "outputs": [
        {
          "output_type": "execute_result",
          "data": {
            "text/plain": [
              "array([1., 2., 0.])"
            ]
          },
          "metadata": {
            "tags": []
          },
          "execution_count": 19
        }
      ]
    },
    {
      "metadata": {
        "id": "lTxB4Qw3OL4T",
        "colab_type": "code",
        "outputId": "11773788-c4b1-4408-f240-b27cfe0ea041",
        "colab": {
          "base_uri": "https://localhost:8080/",
          "height": 34
        }
      },
      "cell_type": "code",
      "source": [
        "X.EssayText.str.len().max()"
      ],
      "execution_count": 20,
      "outputs": [
        {
          "output_type": "execute_result",
          "data": {
            "text/plain": [
              "1819"
            ]
          },
          "metadata": {
            "tags": []
          },
          "execution_count": 20
        }
      ]
    },
    {
      "metadata": {
        "id": "msZQte9jOLx0",
        "colab_type": "code",
        "colab": {}
      },
      "cell_type": "code",
      "source": [
        ""
      ],
      "execution_count": 0,
      "outputs": []
    },
    {
      "metadata": {
        "id": "B-q5ZgkaJ49d",
        "colab_type": "code",
        "colab": {
          "base_uri": "https://localhost:8080/",
          "height": 90
        },
        "outputId": "9f0af4db-1aa6-4003-fa0c-25118e45d564"
      },
      "cell_type": "code",
      "source": [
        "#Subtopic column\n",
        "input_2 = tf.keras.layers.Input(shape=(1,))\n",
        "embed_2 = tf.keras.layers.Embedding(input_dim=4, \n",
        "                                    output_dim=10, \n",
        "                                    input_length=1\n",
        "                                   )(input_2)"
      ],
      "execution_count": 21,
      "outputs": [
        {
          "output_type": "stream",
          "text": [
            "WARNING:tensorflow:From /usr/local/lib/python3.6/dist-packages/tensorflow/python/ops/resource_variable_ops.py:435: colocate_with (from tensorflow.python.framework.ops) is deprecated and will be removed in a future version.\n",
            "Instructions for updating:\n",
            "Colocations handled automatically by placer.\n"
          ],
          "name": "stdout"
        }
      ]
    },
    {
      "metadata": {
        "id": "1GzGUJ7E3Jyv",
        "colab_type": "code",
        "colab": {}
      },
      "cell_type": "code",
      "source": [
        "#Subtopic column\n",
        "input_3 = tf.keras.layers.Input(shape=(1,))\n",
        "embed_3 = tf.keras.layers.Embedding(input_dim=6, \n",
        "                                    output_dim=10, \n",
        "                                    input_length=1\n",
        "                                   )(input_3)"
      ],
      "execution_count": 0,
      "outputs": []
    },
    {
      "metadata": {
        "id": "FvuOwMTGVlM2",
        "colab_type": "code",
        "colab": {}
      },
      "cell_type": "code",
      "source": [
        "embed_2=tf.keras.layers.Flatten()(embed_2)"
      ],
      "execution_count": 0,
      "outputs": []
    },
    {
      "metadata": {
        "id": "ycROoE9z3b4I",
        "colab_type": "code",
        "colab": {}
      },
      "cell_type": "code",
      "source": [
        "embed_3=tf.keras.layers.Flatten()(embed_3)"
      ],
      "execution_count": 0,
      "outputs": []
    },
    {
      "metadata": {
        "id": "gIYBSuXvULFe",
        "colab_type": "code",
        "colab": {}
      },
      "cell_type": "code",
      "source": [
        "#Vocab size\n",
        "top_words = 1000\n",
        "\n",
        "t = Tokenizer(num_words=top_words)\n",
        "t.fit_on_texts(X1.EssayText.tolist())\n",
        "\n",
        "#Get the word index for each of the word in the review\n",
        "desc1 = t.texts_to_sequences(X1.EssayText.tolist())"
      ],
      "execution_count": 0,
      "outputs": []
    },
    {
      "metadata": {
        "id": "YMRDrw3jUOT7",
        "colab_type": "code",
        "colab": {}
      },
      "cell_type": "code",
      "source": [
        "from tensorflow.python.keras.preprocessing import sequence\n",
        "\n",
        "#Each review size\n",
        "max_review_length = 2000\n",
        "\n",
        "desc1 = sequence.pad_sequences(desc1,maxlen=max_review_length,padding='post')"
      ],
      "execution_count": 0,
      "outputs": []
    },
    {
      "metadata": {
        "id": "eGv-M5dufzoc",
        "colab_type": "code",
        "colab": {}
      },
      "cell_type": "code",
      "source": [
        ""
      ],
      "execution_count": 0,
      "outputs": []
    },
    {
      "metadata": {
        "id": "cB43-N1lfz1m",
        "colab_type": "code",
        "colab": {}
      },
      "cell_type": "code",
      "source": [
        "#Vocab size\n",
        "top_words = 1000\n",
        "\n",
        "t = Tokenizer(num_words=top_words)\n",
        "t.fit_on_texts(X2.EssayText.tolist())\n",
        "\n",
        "#Get the word index for each of the word in the review\n",
        "desc2 = t.texts_to_sequences(X2.EssayText.tolist())"
      ],
      "execution_count": 0,
      "outputs": []
    },
    {
      "metadata": {
        "id": "TSZ3x0Vzf0GQ",
        "colab_type": "code",
        "colab": {}
      },
      "cell_type": "code",
      "source": [
        "from tensorflow.python.keras.preprocessing import sequence\n",
        "\n",
        "#Each review size\n",
        "max_review_length = 2000\n",
        "\n",
        "desc2 = sequence.pad_sequences(desc2,maxlen=max_review_length,padding='post')"
      ],
      "execution_count": 0,
      "outputs": []
    },
    {
      "metadata": {
        "id": "qMuMgM1Vf5qC",
        "colab_type": "code",
        "colab": {}
      },
      "cell_type": "code",
      "source": [
        ""
      ],
      "execution_count": 0,
      "outputs": []
    },
    {
      "metadata": {
        "id": "ylNr7Y_fKDrM",
        "colab_type": "code",
        "colab": {}
      },
      "cell_type": "code",
      "source": [
        "input_12 = tf.keras.layers.Input(shape=(max_review_length,))\n",
        "embed_12 = tf.keras.layers.Embedding(top_words, 100,   input_length=max_review_length)(input_12)\n",
        "#embed_12 = GRU(128, dropout=0.3, recurrent_dropout=0.3, kernel_regularizer=regularizers.l2(0.01))(embed_12)"
      ],
      "execution_count": 0,
      "outputs": []
    },
    {
      "metadata": {
        "id": "TTreaZzIVWV6",
        "colab_type": "code",
        "colab": {}
      },
      "cell_type": "code",
      "source": [
        "embedding=tf.keras.layers.Flatten()(embed_12)"
      ],
      "execution_count": 0,
      "outputs": []
    },
    {
      "metadata": {
        "id": "CbqqvzgLJ4lc",
        "colab_type": "code",
        "colab": {}
      },
      "cell_type": "code",
      "source": [
        "x = tf.keras.layers.concatenate([ embed_2,embedding])"
      ],
      "execution_count": 0,
      "outputs": []
    },
    {
      "metadata": {
        "id": "gCHoSzqJMFPl",
        "colab_type": "code",
        "outputId": "36c05361-2366-4e65-d44d-63fb3c77d2c9",
        "colab": {
          "base_uri": "https://localhost:8080/",
          "height": 34
        }
      },
      "cell_type": "code",
      "source": [
        "x"
      ],
      "execution_count": 32,
      "outputs": [
        {
          "output_type": "execute_result",
          "data": {
            "text/plain": [
              "<tf.Tensor 'concatenate/concat:0' shape=(?, 200010) dtype=float32>"
            ]
          },
          "metadata": {
            "tags": []
          },
          "execution_count": 32
        }
      ]
    },
    {
      "metadata": {
        "id": "2XjB8u8FKLiz",
        "colab_type": "code",
        "colab": {}
      },
      "cell_type": "code",
      "source": [
        "x= tf.keras.layers.BatchNormalization()(x)\n",
        "\n",
        "\n",
        "\n",
        "\n",
        "x = tf.keras.layers.Dense(30, activation='relu')(x)\n",
        "x= tf.keras.layers.BatchNormalization()(x)"
      ],
      "execution_count": 0,
      "outputs": []
    },
    {
      "metadata": {
        "id": "OS0uB0RSKPtN",
        "colab_type": "code",
        "colab": {}
      },
      "cell_type": "code",
      "source": [
        "# Add output \n",
        "model_output = tf.keras.layers.Dense(4, activation='softmax')(x)"
      ],
      "execution_count": 0,
      "outputs": []
    },
    {
      "metadata": {
        "id": "_hUuaCngKTDN",
        "colab_type": "code",
        "colab": {}
      },
      "cell_type": "code",
      "source": [
        "model = tf.keras.Model(inputs=[input_2,input_12], outputs=model_output)"
      ],
      "execution_count": 0,
      "outputs": []
    },
    {
      "metadata": {
        "id": "qrqSlD_rKXF9",
        "colab_type": "code",
        "colab": {}
      },
      "cell_type": "code",
      "source": [
        "sgd_optimizer = tf.keras.optimizers.SGD(lr=0.03, momentum=0.9, nesterov=True)\n",
        "\n"
      ],
      "execution_count": 0,
      "outputs": []
    },
    {
      "metadata": {
        "id": "7apjbDlDhtdo",
        "colab_type": "code",
        "colab": {}
      },
      "cell_type": "code",
      "source": [
        "#Compile the model\n",
        "\n",
        "model.compile(optimizer='adam',\n",
        "              loss='categorical_crossentropy',\n",
        "              metrics=['accuracy'])"
      ],
      "execution_count": 0,
      "outputs": []
    },
    {
      "metadata": {
        "id": "0lg72PwDKaBG",
        "colab_type": "code",
        "outputId": "f7071adc-eba4-4f1f-d2f0-635e80bbec6c",
        "colab": {
          "base_uri": "https://localhost:8080/",
          "height": 550
        }
      },
      "cell_type": "code",
      "source": [
        "model.summary()"
      ],
      "execution_count": 38,
      "outputs": [
        {
          "output_type": "stream",
          "text": [
            "__________________________________________________________________________________________________\n",
            "Layer (type)                    Output Shape         Param #     Connected to                     \n",
            "==================================================================================================\n",
            "input_1 (InputLayer)            (None, 1)            0                                            \n",
            "__________________________________________________________________________________________________\n",
            "input_3 (InputLayer)            (None, 2000)         0                                            \n",
            "__________________________________________________________________________________________________\n",
            "embedding (Embedding)           (None, 1, 10)        40          input_1[0][0]                    \n",
            "__________________________________________________________________________________________________\n",
            "embedding_2 (Embedding)         (None, 2000, 100)    100000      input_3[0][0]                    \n",
            "__________________________________________________________________________________________________\n",
            "flatten (Flatten)               (None, 10)           0           embedding[0][0]                  \n",
            "__________________________________________________________________________________________________\n",
            "flatten_2 (Flatten)             (None, 200000)       0           embedding_2[0][0]                \n",
            "__________________________________________________________________________________________________\n",
            "concatenate (Concatenate)       (None, 200010)       0           flatten[0][0]                    \n",
            "                                                                 flatten_2[0][0]                  \n",
            "__________________________________________________________________________________________________\n",
            "batch_normalization_v1 (BatchNo (None, 200010)       800040      concatenate[0][0]                \n",
            "__________________________________________________________________________________________________\n",
            "dense (Dense)                   (None, 30)           6000330     batch_normalization_v1[0][0]     \n",
            "__________________________________________________________________________________________________\n",
            "batch_normalization_v1_1 (Batch (None, 30)           120         dense[0][0]                      \n",
            "__________________________________________________________________________________________________\n",
            "dense_1 (Dense)                 (None, 4)            124         batch_normalization_v1_1[0][0]   \n",
            "==================================================================================================\n",
            "Total params: 6,900,654\n",
            "Trainable params: 6,500,574\n",
            "Non-trainable params: 400,080\n",
            "__________________________________________________________________________________________________\n"
          ],
          "name": "stdout"
        }
      ]
    },
    {
      "metadata": {
        "id": "iEEsumC_KbV_",
        "colab_type": "code",
        "colab": {}
      },
      "cell_type": "code",
      "source": [
        "callbacks = tf.keras.callbacks.EarlyStopping(monitor='val_acc', patience=10)"
      ],
      "execution_count": 0,
      "outputs": []
    },
    {
      "metadata": {
        "id": "xqp-OikiZe2Z",
        "colab_type": "code",
        "colab": {}
      },
      "cell_type": "code",
      "source": [
        "Y1=tf.keras.utils.to_categorical(Y1, num_classes=4)"
      ],
      "execution_count": 0,
      "outputs": []
    },
    {
      "metadata": {
        "id": "JKzAl7ycpohg",
        "colab_type": "code",
        "colab": {
          "base_uri": "https://localhost:8080/",
          "height": 141
        },
        "outputId": "3a3fd82b-3c13-445f-83a0-723b6628f20d"
      },
      "cell_type": "code",
      "source": [
        "Y1"
      ],
      "execution_count": 41,
      "outputs": [
        {
          "output_type": "execute_result",
          "data": {
            "text/plain": [
              "array([[0., 1., 0., 0.],\n",
              "       [0., 1., 0., 0.],\n",
              "       [1., 0., 0., 0.],\n",
              "       ...,\n",
              "       [1., 0., 0., 0.],\n",
              "       [1., 0., 0., 0.],\n",
              "       [1., 0., 0., 0.]], dtype=float32)"
            ]
          },
          "metadata": {
            "tags": []
          },
          "execution_count": 41
        }
      ]
    },
    {
      "metadata": {
        "id": "YhdPUUaYKhQD",
        "colab_type": "code",
        "outputId": "2928a839-3720-45c2-c603-9e9fb502d766",
        "colab": {
          "base_uri": "https://localhost:8080/",
          "height": 481
        }
      },
      "cell_type": "code",
      "source": [
        "model.fit([X1[['Essayset']],desc1],\n",
        "          Y1, \n",
        "          validation_split=0.2,\n",
        "          epochs=10, \n",
        "          batch_size=100,callbacks=[callbacks])"
      ],
      "execution_count": 42,
      "outputs": [
        {
          "output_type": "stream",
          "text": [
            "Train on 4979 samples, validate on 1245 samples\n",
            "WARNING:tensorflow:From /usr/local/lib/python3.6/dist-packages/tensorflow/python/ops/math_ops.py:3066: to_int32 (from tensorflow.python.ops.math_ops) is deprecated and will be removed in a future version.\n",
            "Instructions for updating:\n",
            "Use tf.cast instead.\n",
            "Epoch 1/10\n",
            "4979/4979 [==============================] - 2s 405us/sample - loss: 1.3114 - acc: 0.5156 - val_loss: 0.6382 - val_acc: 0.8410\n",
            "Epoch 2/10\n",
            "4979/4979 [==============================] - 1s 283us/sample - loss: 0.8192 - acc: 0.6515 - val_loss: 2.3274 - val_acc: 0.0273\n",
            "Epoch 3/10\n",
            "4979/4979 [==============================] - 1s 281us/sample - loss: 0.4846 - acc: 0.8291 - val_loss: 15.5015 - val_acc: 0.0273\n",
            "Epoch 4/10\n",
            "4979/4979 [==============================] - 1s 284us/sample - loss: 0.2392 - acc: 0.9488 - val_loss: 14.4094 - val_acc: 0.0940\n",
            "Epoch 5/10\n",
            "4979/4979 [==============================] - 1s 290us/sample - loss: 5.3794 - acc: 0.6252 - val_loss: 2.2416 - val_acc: 0.8410\n",
            "Epoch 6/10\n",
            "4979/4979 [==============================] - 1s 290us/sample - loss: 8.8782 - acc: 0.4433 - val_loss: 14.6049 - val_acc: 0.0940\n",
            "Epoch 7/10\n",
            "4979/4979 [==============================] - 1s 291us/sample - loss: 8.9347 - acc: 0.4457 - val_loss: 14.6049 - val_acc: 0.0940\n",
            "Epoch 8/10\n",
            "4979/4979 [==============================] - 1s 283us/sample - loss: 8.9347 - acc: 0.4457 - val_loss: 2.5636 - val_acc: 0.8410\n",
            "Epoch 9/10\n",
            "4979/4979 [==============================] - 1s 281us/sample - loss: 8.9347 - acc: 0.4457 - val_loss: 2.5636 - val_acc: 0.8410\n",
            "Epoch 10/10\n",
            "4979/4979 [==============================] - 1s 282us/sample - loss: 8.9347 - acc: 0.4457 - val_loss: 2.5636 - val_acc: 0.8410\n"
          ],
          "name": "stdout"
        },
        {
          "output_type": "execute_result",
          "data": {
            "text/plain": [
              "<tensorflow.python.keras.callbacks.History at 0x7f18e8062588>"
            ]
          },
          "metadata": {
            "tags": []
          },
          "execution_count": 42
        }
      ]
    },
    {
      "metadata": {
        "id": "vmqHP1T-lM8Z",
        "colab_type": "code",
        "colab": {}
      },
      "cell_type": "code",
      "source": [
        "x1 = tf.keras.layers.concatenate([ embed_3,embedding])"
      ],
      "execution_count": 0,
      "outputs": []
    },
    {
      "metadata": {
        "id": "BdNOZm3wLpC-",
        "colab_type": "code",
        "colab": {}
      },
      "cell_type": "code",
      "source": [
        "x1= tf.keras.layers.BatchNormalization()(x1)\n",
        "\n",
        "x1 = tf.keras.layers.Dense(30, activation='relu')(x1)\n"
      ],
      "execution_count": 0,
      "outputs": []
    },
    {
      "metadata": {
        "id": "4j01jd5HLzG7",
        "colab_type": "code",
        "colab": {}
      },
      "cell_type": "code",
      "source": [
        ""
      ],
      "execution_count": 0,
      "outputs": []
    },
    {
      "metadata": {
        "id": "I4VIuTHQp55y",
        "colab_type": "code",
        "colab": {}
      },
      "cell_type": "code",
      "source": [
        "Y2=tf.keras.utils.to_categorical(Y2, num_classes=3)"
      ],
      "execution_count": 0,
      "outputs": []
    },
    {
      "metadata": {
        "id": "O7jy8ulall6A",
        "colab_type": "code",
        "colab": {}
      },
      "cell_type": "code",
      "source": [
        "#Model 2\n",
        "model_output1 = tf.keras.layers.Dense(3, activation='softmax')(x1)\n",
        "model2 = tf.keras.Model(inputs=[input_3,input_12], outputs=model_output1)"
      ],
      "execution_count": 0,
      "outputs": []
    },
    {
      "metadata": {
        "id": "aDA_Su6slmHl",
        "colab_type": "code",
        "colab": {}
      },
      "cell_type": "code",
      "source": [
        "#Compile the model\n",
        "\n",
        "model2.compile(optimizer='adam',\n",
        "              loss='categorical_crossentropy',\n",
        "              metrics=['accuracy'])"
      ],
      "execution_count": 0,
      "outputs": []
    },
    {
      "metadata": {
        "id": "UBOaHTmjlNjD",
        "colab_type": "code",
        "outputId": "95e8d781-2619-42e9-daa4-e4b8044a9213",
        "colab": {
          "base_uri": "https://localhost:8080/",
          "height": 514
        }
      },
      "cell_type": "code",
      "source": [
        "model2.summary()"
      ],
      "execution_count": 48,
      "outputs": [
        {
          "output_type": "stream",
          "text": [
            "__________________________________________________________________________________________________\n",
            "Layer (type)                    Output Shape         Param #     Connected to                     \n",
            "==================================================================================================\n",
            "input_2 (InputLayer)            (None, 1)            0                                            \n",
            "__________________________________________________________________________________________________\n",
            "input_3 (InputLayer)            (None, 2000)         0                                            \n",
            "__________________________________________________________________________________________________\n",
            "embedding_1 (Embedding)         (None, 1, 10)        60          input_2[0][0]                    \n",
            "__________________________________________________________________________________________________\n",
            "embedding_2 (Embedding)         (None, 2000, 100)    100000      input_3[0][0]                    \n",
            "__________________________________________________________________________________________________\n",
            "flatten_1 (Flatten)             (None, 10)           0           embedding_1[0][0]                \n",
            "__________________________________________________________________________________________________\n",
            "flatten_2 (Flatten)             (None, 200000)       0           embedding_2[0][0]                \n",
            "__________________________________________________________________________________________________\n",
            "concatenate_1 (Concatenate)     (None, 200010)       0           flatten_1[0][0]                  \n",
            "                                                                 flatten_2[0][0]                  \n",
            "__________________________________________________________________________________________________\n",
            "batch_normalization_v1_2 (Batch (None, 200010)       800040      concatenate_1[0][0]              \n",
            "__________________________________________________________________________________________________\n",
            "dense_2 (Dense)                 (None, 30)           6000330     batch_normalization_v1_2[0][0]   \n",
            "__________________________________________________________________________________________________\n",
            "dense_3 (Dense)                 (None, 3)            93          dense_2[0][0]                    \n",
            "==================================================================================================\n",
            "Total params: 6,900,523\n",
            "Trainable params: 6,500,503\n",
            "Non-trainable params: 400,020\n",
            "__________________________________________________________________________________________________\n"
          ],
          "name": "stdout"
        }
      ]
    },
    {
      "metadata": {
        "id": "Xx-M75rJXDCf",
        "colab_type": "code",
        "colab": {
          "base_uri": "https://localhost:8080/",
          "height": 141
        },
        "outputId": "1a4ec500-5284-4a00-cb6b-d8abddc1b63c"
      },
      "cell_type": "code",
      "source": [
        "Y2"
      ],
      "execution_count": 49,
      "outputs": [
        {
          "output_type": "execute_result",
          "data": {
            "text/plain": [
              "array([[0., 1., 0.],\n",
              "       [0., 0., 1.],\n",
              "       [0., 1., 0.],\n",
              "       ...,\n",
              "       [0., 1., 0.],\n",
              "       [1., 0., 0.],\n",
              "       [0., 1., 0.]], dtype=float32)"
            ]
          },
          "metadata": {
            "tags": []
          },
          "execution_count": 49
        }
      ]
    },
    {
      "metadata": {
        "id": "AoSV9yD6osz0",
        "colab_type": "code",
        "outputId": "045c88a7-4ea2-44ab-9b96-d553eb96ff1b",
        "colab": {
          "base_uri": "https://localhost:8080/",
          "height": 550
        }
      },
      "cell_type": "code",
      "source": [
        "model2.fit([X2[['Essayset']],desc2],\n",
        "          Y2, \n",
        "          validation_split=0.2,\n",
        "          epochs=50, \n",
        "          batch_size=100,callbacks=[callbacks])"
      ],
      "execution_count": 50,
      "outputs": [
        {
          "output_type": "stream",
          "text": [
            "Train on 7961 samples, validate on 1991 samples\n",
            "Epoch 1/50\n",
            "7961/7961 [==============================] - 2s 314us/sample - loss: 0.8866 - acc: 0.5774 - val_loss: 1.1026 - val_acc: 0.4671\n",
            "Epoch 2/50\n",
            "7961/7961 [==============================] - 2s 277us/sample - loss: 0.8880 - acc: 0.7062 - val_loss: 1.1115 - val_acc: 0.4711\n",
            "Epoch 3/50\n",
            "7961/7961 [==============================] - 2s 278us/sample - loss: 0.4162 - acc: 0.8479 - val_loss: 1.4997 - val_acc: 0.4656\n",
            "Epoch 4/50\n",
            "7961/7961 [==============================] - 2s 281us/sample - loss: 0.3327 - acc: 0.8887 - val_loss: 1.3535 - val_acc: 0.4736\n",
            "Epoch 5/50\n",
            "7961/7961 [==============================] - 2s 282us/sample - loss: 0.4312 - acc: 0.9033 - val_loss: 1.4668 - val_acc: 0.4485\n",
            "Epoch 6/50\n",
            "7961/7961 [==============================] - 2s 279us/sample - loss: 0.1575 - acc: 0.9720 - val_loss: 1.4460 - val_acc: 0.4324\n",
            "Epoch 7/50\n",
            "7961/7961 [==============================] - 2s 286us/sample - loss: 0.1134 - acc: 0.9869 - val_loss: 1.8822 - val_acc: 0.3988\n",
            "Epoch 8/50\n",
            "7961/7961 [==============================] - 2s 286us/sample - loss: 0.0898 - acc: 0.9920 - val_loss: 2.4370 - val_acc: 0.3702\n",
            "Epoch 9/50\n",
            "7961/7961 [==============================] - 2s 287us/sample - loss: 0.0767 - acc: 0.9931 - val_loss: 2.7634 - val_acc: 0.3717\n",
            "Epoch 10/50\n",
            "7961/7961 [==============================] - 2s 282us/sample - loss: 0.0612 - acc: 0.9935 - val_loss: 2.3507 - val_acc: 0.4626\n",
            "Epoch 11/50\n",
            "7961/7961 [==============================] - 2s 284us/sample - loss: 0.2405 - acc: 0.9544 - val_loss: 5.3348 - val_acc: 0.3139\n",
            "Epoch 12/50\n",
            "7961/7961 [==============================] - 2s 281us/sample - loss: 0.0761 - acc: 0.9764 - val_loss: 4.4303 - val_acc: 0.3531\n",
            "Epoch 13/50\n",
            "7961/7961 [==============================] - 2s 282us/sample - loss: 0.0314 - acc: 0.9936 - val_loss: 4.5888 - val_acc: 0.3606\n",
            "Epoch 14/50\n",
            "7961/7961 [==============================] - 2s 277us/sample - loss: 0.0170 - acc: 0.9976 - val_loss: 4.1090 - val_acc: 0.3752\n"
          ],
          "name": "stdout"
        },
        {
          "output_type": "execute_result",
          "data": {
            "text/plain": [
              "<tensorflow.python.keras.callbacks.History at 0x7f18d02e4da0>"
            ]
          },
          "metadata": {
            "tags": []
          },
          "execution_count": 50
        }
      ]
    },
    {
      "metadata": {
        "id": "iVjc7yn7V3Dc",
        "colab_type": "code",
        "colab": {}
      },
      "cell_type": "code",
      "source": [
        "test=pd.read_csv('test_dataset.csv')"
      ],
      "execution_count": 0,
      "outputs": []
    },
    {
      "metadata": {
        "id": "M_NQpf4tEyv1",
        "colab_type": "code",
        "outputId": "c6291e13-c0f1-45a1-96fc-4b007be460c5",
        "colab": {
          "base_uri": "https://localhost:8080/",
          "height": 230
        }
      },
      "cell_type": "code",
      "source": [
        "test.info()"
      ],
      "execution_count": 52,
      "outputs": [
        {
          "output_type": "stream",
          "text": [
            "<class 'pandas.core.frame.DataFrame'>\n",
            "RangeIndex: 5224 entries, 0 to 5223\n",
            "Data columns (total 7 columns):\n",
            "ID           5224 non-null int64\n",
            "Essayset     5224 non-null int64\n",
            "min_score    5224 non-null int64\n",
            "max_score    5224 non-null int64\n",
            "clarity      5224 non-null object\n",
            "coherent     5224 non-null object\n",
            "EssayText    5224 non-null object\n",
            "dtypes: int64(4), object(3)\n",
            "memory usage: 285.8+ KB\n"
          ],
          "name": "stdout"
        }
      ]
    },
    {
      "metadata": {
        "id": "VmYJWDmlmbKb",
        "colab_type": "code",
        "colab": {}
      },
      "cell_type": "code",
      "source": [
        "test1=test[test.Essayset.isin([1,2,5,6])]\n",
        "test2=test[~test.Essayset.isin([1,2,5,6])]"
      ],
      "execution_count": 0,
      "outputs": []
    },
    {
      "metadata": {
        "id": "is-0HSqAtF4V",
        "colab_type": "code",
        "colab": {}
      },
      "cell_type": "code",
      "source": [
        "desc11 = t.texts_to_sequences(test1.EssayText.tolist())\n",
        "desc12 = t.texts_to_sequences(test2.EssayText.tolist())"
      ],
      "execution_count": 0,
      "outputs": []
    },
    {
      "metadata": {
        "id": "pdmDkX50tF2F",
        "colab_type": "code",
        "colab": {}
      },
      "cell_type": "code",
      "source": [
        "desc11 = sequence.pad_sequences(desc11,maxlen=max_review_length,padding='post')"
      ],
      "execution_count": 0,
      "outputs": []
    },
    {
      "metadata": {
        "id": "3Wf8m8X6mW7c",
        "colab_type": "code",
        "colab": {}
      },
      "cell_type": "code",
      "source": [
        "desc12 = sequence.pad_sequences(desc12,maxlen=max_review_length,padding='post')"
      ],
      "execution_count": 0,
      "outputs": []
    },
    {
      "metadata": {
        "id": "ie8q5tDqtXOI",
        "colab_type": "code",
        "outputId": "e23e16bd-4361-4458-9e40-28f4cf3628ac",
        "colab": {
          "base_uri": "https://localhost:8080/",
          "height": 123
        }
      },
      "cell_type": "code",
      "source": [
        "#Prediction\n",
        "CATEGORIES = [0,1,2,3]\n",
        "CATEGORIES2 = [0,1,2]\n",
        "\n",
        "test2['essay_score']=[CATEGORIES2[i] for i in np.argmax(model2.predict([test2[['Essayset']],desc12]),axis=1)]\n"
      ],
      "execution_count": 57,
      "outputs": [
        {
          "output_type": "stream",
          "text": [
            "/usr/local/lib/python3.6/dist-packages/ipykernel_launcher.py:4: SettingWithCopyWarning: \n",
            "A value is trying to be set on a copy of a slice from a DataFrame.\n",
            "Try using .loc[row_indexer,col_indexer] = value instead\n",
            "\n",
            "See the caveats in the documentation: http://pandas.pydata.org/pandas-docs/stable/indexing.html#indexing-view-versus-copy\n",
            "  after removing the cwd from sys.path.\n"
          ],
          "name": "stderr"
        }
      ]
    },
    {
      "metadata": {
        "id": "JBK7tneixur2",
        "colab_type": "code",
        "outputId": "328e4eaf-69a1-4b21-b3a5-24d60e887df3",
        "colab": {
          "base_uri": "https://localhost:8080/",
          "height": 123
        }
      },
      "cell_type": "code",
      "source": [
        "test1['essay_score']=[CATEGORIES[i] for i in np.argmax(model.predict([test1[['Essayset']],desc11]),axis=1)]\n"
      ],
      "execution_count": 58,
      "outputs": [
        {
          "output_type": "stream",
          "text": [
            "/usr/local/lib/python3.6/dist-packages/ipykernel_launcher.py:1: SettingWithCopyWarning: \n",
            "A value is trying to be set on a copy of a slice from a DataFrame.\n",
            "Try using .loc[row_indexer,col_indexer] = value instead\n",
            "\n",
            "See the caveats in the documentation: http://pandas.pydata.org/pandas-docs/stable/indexing.html#indexing-view-versus-copy\n",
            "  \"\"\"Entry point for launching an IPython kernel.\n"
          ],
          "name": "stderr"
        }
      ]
    },
    {
      "metadata": {
        "id": "qkAWRyfNmXrK",
        "colab_type": "code",
        "colab": {}
      },
      "cell_type": "code",
      "source": [
        "final=pd.concat([test1,test2],sort='ID')"
      ],
      "execution_count": 0,
      "outputs": []
    },
    {
      "metadata": {
        "id": "adyO8NgxVdHx",
        "colab_type": "code",
        "colab": {}
      },
      "cell_type": "code",
      "source": [
        "#test['essay_score']=[row['essay_score']*3 if row['Essayset'] in([1,2,5,6]) else row['essay_score']*2 for index, row in test.iterrows()]"
      ],
      "execution_count": 0,
      "outputs": []
    },
    {
      "metadata": {
        "id": "Kqo0AVxnYIkz",
        "colab_type": "code",
        "colab": {}
      },
      "cell_type": "code",
      "source": [
        "final=final.rename(index=str, columns={'ID': \"id\", 'Essayset': 'essay_set',})"
      ],
      "execution_count": 0,
      "outputs": []
    },
    {
      "metadata": {
        "id": "5vF_2veh1nUK",
        "colab_type": "code",
        "colab": {}
      },
      "cell_type": "code",
      "source": [
        "final['essay_set']=round(final.essay_set)"
      ],
      "execution_count": 0,
      "outputs": []
    },
    {
      "metadata": {
        "id": "xkoh5yhNEpnn",
        "colab_type": "code",
        "colab": {}
      },
      "cell_type": "code",
      "source": [
        "final=final.sort_values(['id'])"
      ],
      "execution_count": 0,
      "outputs": []
    },
    {
      "metadata": {
        "id": "Nbz5BQLNuPZe",
        "colab_type": "code",
        "colab": {}
      },
      "cell_type": "code",
      "source": [
        "final[['id','essay_set','essay_score']].to_csv('output_NLP.csv', index=False)"
      ],
      "execution_count": 0,
      "outputs": []
    },
    {
      "metadata": {
        "id": "xDrNCWDvXxHh",
        "colab_type": "code",
        "colab": {}
      },
      "cell_type": "code",
      "source": [
        ""
      ],
      "execution_count": 0,
      "outputs": []
    }
  ]
}