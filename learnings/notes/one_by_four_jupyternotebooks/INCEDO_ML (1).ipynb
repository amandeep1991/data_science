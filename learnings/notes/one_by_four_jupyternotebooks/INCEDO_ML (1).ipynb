{
 "cells": [
  {
   "cell_type": "code",
   "execution_count": null,
   "metadata": {
    "colab": {},
    "colab_type": "code",
    "id": "VsOiOIC0UgeQ"
   },
   "outputs": [],
   "source": [
    "import numpy as np\n",
    "import pandas as pd\n",
    "from sklearn.pipeline import Pipeline\n",
    "import re\n",
    "from sklearn import preprocessing\n"
   ]
  },
  {
   "cell_type": "code",
   "execution_count": null,
   "metadata": {
    "colab": {},
    "colab_type": "code",
    "id": "fNJFv1VnUgee"
   },
   "outputs": [],
   "source": [
    "data=pd.read_csv('train_file.csv')"
   ]
  },
  {
   "cell_type": "code",
   "execution_count": 8,
   "metadata": {
    "colab": {
     "base_uri": "https://localhost:8080/",
     "height": 467
    },
    "colab_type": "code",
    "id": "DoCGWZwTWSYe",
    "outputId": "c73a2c73-5a34-4601-8329-236e232a93f5"
   },
   "outputs": [
    {
     "data": {
      "text/html": [
       "<div>\n",
       "<style scoped>\n",
       "    .dataframe tbody tr th:only-of-type {\n",
       "        vertical-align: middle;\n",
       "    }\n",
       "\n",
       "    .dataframe tbody tr th {\n",
       "        vertical-align: top;\n",
       "    }\n",
       "\n",
       "    .dataframe thead th {\n",
       "        text-align: right;\n",
       "    }\n",
       "</style>\n",
       "<table border=\"1\" class=\"dataframe\">\n",
       "  <thead>\n",
       "    <tr style=\"text-align: right;\">\n",
       "      <th></th>\n",
       "      <th>Patient_ID</th>\n",
       "      <th>YEAR</th>\n",
       "      <th>LocationDesc</th>\n",
       "      <th>Subtopic</th>\n",
       "      <th>Greater_Risk_Question</th>\n",
       "      <th>Description</th>\n",
       "      <th>Sample_Size</th>\n",
       "      <th>Sex</th>\n",
       "      <th>Race</th>\n",
       "      <th>Grade</th>\n",
       "      <th>GeoLocation</th>\n",
       "      <th>QuestionCode</th>\n",
       "      <th>StratID1</th>\n",
       "      <th>StratID2</th>\n",
       "      <th>StratID3</th>\n",
       "      <th>StratificationType</th>\n",
       "      <th>Greater_Risk_Probability</th>\n",
       "    </tr>\n",
       "  </thead>\n",
       "  <tbody>\n",
       "    <tr>\n",
       "      <th>0</th>\n",
       "      <td>1</td>\n",
       "      <td>1995</td>\n",
       "      <td>Houston, TX</td>\n",
       "      <td>1</td>\n",
       "      <td>Ever used cocaine</td>\n",
       "      <td>any form of cocaine, such as powder, crack, or...</td>\n",
       "      <td>335.0</td>\n",
       "      <td>Female</td>\n",
       "      <td>Hispanic or Latino</td>\n",
       "      <td>4</td>\n",
       "      <td>(29.760427, -95.369803)</td>\n",
       "      <td>H49</td>\n",
       "      <td>1</td>\n",
       "      <td>4</td>\n",
       "      <td>0</td>\n",
       "      <td>Local</td>\n",
       "      <td>7.4793</td>\n",
       "    </tr>\n",
       "    <tr>\n",
       "      <th>1</th>\n",
       "      <td>2</td>\n",
       "      <td>1997</td>\n",
       "      <td>Houston, TX</td>\n",
       "      <td>0</td>\n",
       "      <td>Currently drank alcohol</td>\n",
       "      <td>at least one drink of alcohol, on at least 1 d...</td>\n",
       "      <td>382.0</td>\n",
       "      <td>Total</td>\n",
       "      <td>Black or African American</td>\n",
       "      <td>4</td>\n",
       "      <td>(29.760427, -95.369803)</td>\n",
       "      <td>H42</td>\n",
       "      <td>0</td>\n",
       "      <td>3</td>\n",
       "      <td>0</td>\n",
       "      <td>Local</td>\n",
       "      <td>49.6852</td>\n",
       "    </tr>\n",
       "    <tr>\n",
       "      <th>2</th>\n",
       "      <td>3</td>\n",
       "      <td>1993</td>\n",
       "      <td>Nevada</td>\n",
       "      <td>0</td>\n",
       "      <td>Had their first drink of alcohol before age 13...</td>\n",
       "      <td>other than a few sips</td>\n",
       "      <td>196.0</td>\n",
       "      <td>Female</td>\n",
       "      <td>White</td>\n",
       "      <td>0</td>\n",
       "      <td>(39.493240390000494, -117.07184056399967)</td>\n",
       "      <td>H41</td>\n",
       "      <td>1</td>\n",
       "      <td>6</td>\n",
       "      <td>2</td>\n",
       "      <td>State</td>\n",
       "      <td>47.8132</td>\n",
       "    </tr>\n",
       "    <tr>\n",
       "      <th>3</th>\n",
       "      <td>4</td>\n",
       "      <td>2017</td>\n",
       "      <td>Pennsylvania</td>\n",
       "      <td>1</td>\n",
       "      <td>Ever used cocaine</td>\n",
       "      <td>any form of cocaine, such as powder, crack, or...</td>\n",
       "      <td>104.0</td>\n",
       "      <td>Male</td>\n",
       "      <td>Asian</td>\n",
       "      <td>4</td>\n",
       "      <td>(40.79373015200048, -77.86070029399963)</td>\n",
       "      <td>H49</td>\n",
       "      <td>2</td>\n",
       "      <td>2</td>\n",
       "      <td>0</td>\n",
       "      <td>State</td>\n",
       "      <td>3.4554</td>\n",
       "    </tr>\n",
       "    <tr>\n",
       "      <th>4</th>\n",
       "      <td>5</td>\n",
       "      <td>2007</td>\n",
       "      <td>San Francisco, CA</td>\n",
       "      <td>1</td>\n",
       "      <td>Ever took steroids without a doctor's prescrip...</td>\n",
       "      <td>pills or shots, one or more times during their...</td>\n",
       "      <td>100.0</td>\n",
       "      <td>Female</td>\n",
       "      <td>Multiple Race</td>\n",
       "      <td>4</td>\n",
       "      <td>(37.77493, -122.419416)</td>\n",
       "      <td>H55</td>\n",
       "      <td>1</td>\n",
       "      <td>7</td>\n",
       "      <td>0</td>\n",
       "      <td>Local</td>\n",
       "      <td>0.0000</td>\n",
       "    </tr>\n",
       "  </tbody>\n",
       "</table>\n",
       "</div>"
      ],
      "text/plain": [
       "   Patient_ID  YEAR       LocationDesc  Subtopic  \\\n",
       "0           1  1995        Houston, TX         1   \n",
       "1           2  1997        Houston, TX         0   \n",
       "2           3  1993             Nevada         0   \n",
       "3           4  2017       Pennsylvania         1   \n",
       "4           5  2007  San Francisco, CA         1   \n",
       "\n",
       "                               Greater_Risk_Question  \\\n",
       "0                                  Ever used cocaine   \n",
       "1                            Currently drank alcohol   \n",
       "2  Had their first drink of alcohol before age 13...   \n",
       "3                                  Ever used cocaine   \n",
       "4  Ever took steroids without a doctor's prescrip...   \n",
       "\n",
       "                                         Description  Sample_Size     Sex  \\\n",
       "0  any form of cocaine, such as powder, crack, or...        335.0  Female   \n",
       "1  at least one drink of alcohol, on at least 1 d...        382.0   Total   \n",
       "2                              other than a few sips        196.0  Female   \n",
       "3  any form of cocaine, such as powder, crack, or...        104.0    Male   \n",
       "4  pills or shots, one or more times during their...        100.0  Female   \n",
       "\n",
       "                        Race  Grade  \\\n",
       "0         Hispanic or Latino      4   \n",
       "1  Black or African American      4   \n",
       "2                      White      0   \n",
       "3                      Asian      4   \n",
       "4              Multiple Race      4   \n",
       "\n",
       "                                 GeoLocation QuestionCode  StratID1  StratID2  \\\n",
       "0                    (29.760427, -95.369803)          H49         1         4   \n",
       "1                    (29.760427, -95.369803)          H42         0         3   \n",
       "2  (39.493240390000494, -117.07184056399967)          H41         1         6   \n",
       "3    (40.79373015200048, -77.86070029399963)          H49         2         2   \n",
       "4                    (37.77493, -122.419416)          H55         1         7   \n",
       "\n",
       "   StratID3 StratificationType  Greater_Risk_Probability  \n",
       "0         0              Local                    7.4793  \n",
       "1         0              Local                   49.6852  \n",
       "2         2              State                   47.8132  \n",
       "3         0              State                    3.4554  \n",
       "4         0              Local                    0.0000  "
      ]
     },
     "execution_count": 8,
     "metadata": {
      "tags": []
     },
     "output_type": "execute_result"
    }
   ],
   "source": [
    "data.head()"
   ]
  },
  {
   "cell_type": "code",
   "execution_count": 9,
   "metadata": {
    "colab": {
     "base_uri": "https://localhost:8080/",
     "height": 317
    },
    "colab_type": "code",
    "id": "HxydD5tSnpyr",
    "outputId": "9104b9dd-b0b1-4537-834e-e26ca24a5689"
   },
   "outputs": [
    {
     "data": {
      "text/html": [
       "<div>\n",
       "<style scoped>\n",
       "    .dataframe tbody tr th:only-of-type {\n",
       "        vertical-align: middle;\n",
       "    }\n",
       "\n",
       "    .dataframe tbody tr th {\n",
       "        vertical-align: top;\n",
       "    }\n",
       "\n",
       "    .dataframe thead th {\n",
       "        text-align: right;\n",
       "    }\n",
       "</style>\n",
       "<table border=\"1\" class=\"dataframe\">\n",
       "  <thead>\n",
       "    <tr style=\"text-align: right;\">\n",
       "      <th></th>\n",
       "      <th>Patient_ID</th>\n",
       "      <th>YEAR</th>\n",
       "      <th>Subtopic</th>\n",
       "      <th>Sample_Size</th>\n",
       "      <th>Grade</th>\n",
       "      <th>StratID1</th>\n",
       "      <th>StratID2</th>\n",
       "      <th>StratID3</th>\n",
       "      <th>Greater_Risk_Probability</th>\n",
       "    </tr>\n",
       "  </thead>\n",
       "  <tbody>\n",
       "    <tr>\n",
       "      <th>Patient_ID</th>\n",
       "      <td>1.000000</td>\n",
       "      <td>-0.000281</td>\n",
       "      <td>-0.003243</td>\n",
       "      <td>-0.001443</td>\n",
       "      <td>0.008751</td>\n",
       "      <td>0.003434</td>\n",
       "      <td>-0.000104</td>\n",
       "      <td>-0.002017</td>\n",
       "      <td>0.008597</td>\n",
       "    </tr>\n",
       "    <tr>\n",
       "      <th>YEAR</th>\n",
       "      <td>-0.000281</td>\n",
       "      <td>1.000000</td>\n",
       "      <td>-0.010074</td>\n",
       "      <td>0.043256</td>\n",
       "      <td>0.014627</td>\n",
       "      <td>-0.004517</td>\n",
       "      <td>0.018079</td>\n",
       "      <td>-0.013943</td>\n",
       "      <td>-0.164593</td>\n",
       "    </tr>\n",
       "    <tr>\n",
       "      <th>Subtopic</th>\n",
       "      <td>-0.003243</td>\n",
       "      <td>-0.010074</td>\n",
       "      <td>1.000000</td>\n",
       "      <td>0.011631</td>\n",
       "      <td>-0.003501</td>\n",
       "      <td>0.008718</td>\n",
       "      <td>0.013676</td>\n",
       "      <td>0.003798</td>\n",
       "      <td>-0.578662</td>\n",
       "    </tr>\n",
       "    <tr>\n",
       "      <th>Sample_Size</th>\n",
       "      <td>-0.001443</td>\n",
       "      <td>0.043256</td>\n",
       "      <td>0.011631</td>\n",
       "      <td>1.000000</td>\n",
       "      <td>0.178166</td>\n",
       "      <td>-0.099638</td>\n",
       "      <td>-0.114970</td>\n",
       "      <td>-0.190650</td>\n",
       "      <td>-0.065806</td>\n",
       "    </tr>\n",
       "    <tr>\n",
       "      <th>Grade</th>\n",
       "      <td>0.008751</td>\n",
       "      <td>0.014627</td>\n",
       "      <td>-0.003501</td>\n",
       "      <td>0.178166</td>\n",
       "      <td>1.000000</td>\n",
       "      <td>0.018457</td>\n",
       "      <td>0.079887</td>\n",
       "      <td>-0.685156</td>\n",
       "      <td>-0.026786</td>\n",
       "    </tr>\n",
       "    <tr>\n",
       "      <th>StratID1</th>\n",
       "      <td>0.003434</td>\n",
       "      <td>-0.004517</td>\n",
       "      <td>0.008718</td>\n",
       "      <td>-0.099638</td>\n",
       "      <td>0.018457</td>\n",
       "      <td>1.000000</td>\n",
       "      <td>-0.066423</td>\n",
       "      <td>-0.027575</td>\n",
       "      <td>0.033488</td>\n",
       "    </tr>\n",
       "    <tr>\n",
       "      <th>StratID2</th>\n",
       "      <td>-0.000104</td>\n",
       "      <td>0.018079</td>\n",
       "      <td>0.013676</td>\n",
       "      <td>-0.114970</td>\n",
       "      <td>0.079887</td>\n",
       "      <td>-0.066423</td>\n",
       "      <td>1.000000</td>\n",
       "      <td>-0.095217</td>\n",
       "      <td>0.017677</td>\n",
       "    </tr>\n",
       "    <tr>\n",
       "      <th>StratID3</th>\n",
       "      <td>-0.002017</td>\n",
       "      <td>-0.013943</td>\n",
       "      <td>0.003798</td>\n",
       "      <td>-0.190650</td>\n",
       "      <td>-0.685156</td>\n",
       "      <td>-0.027575</td>\n",
       "      <td>-0.095217</td>\n",
       "      <td>1.000000</td>\n",
       "      <td>0.054824</td>\n",
       "    </tr>\n",
       "    <tr>\n",
       "      <th>Greater_Risk_Probability</th>\n",
       "      <td>0.008597</td>\n",
       "      <td>-0.164593</td>\n",
       "      <td>-0.578662</td>\n",
       "      <td>-0.065806</td>\n",
       "      <td>-0.026786</td>\n",
       "      <td>0.033488</td>\n",
       "      <td>0.017677</td>\n",
       "      <td>0.054824</td>\n",
       "      <td>1.000000</td>\n",
       "    </tr>\n",
       "  </tbody>\n",
       "</table>\n",
       "</div>"
      ],
      "text/plain": [
       "                          Patient_ID      YEAR  Subtopic  Sample_Size  \\\n",
       "Patient_ID                  1.000000 -0.000281 -0.003243    -0.001443   \n",
       "YEAR                       -0.000281  1.000000 -0.010074     0.043256   \n",
       "Subtopic                   -0.003243 -0.010074  1.000000     0.011631   \n",
       "Sample_Size                -0.001443  0.043256  0.011631     1.000000   \n",
       "Grade                       0.008751  0.014627 -0.003501     0.178166   \n",
       "StratID1                    0.003434 -0.004517  0.008718    -0.099638   \n",
       "StratID2                   -0.000104  0.018079  0.013676    -0.114970   \n",
       "StratID3                   -0.002017 -0.013943  0.003798    -0.190650   \n",
       "Greater_Risk_Probability    0.008597 -0.164593 -0.578662    -0.065806   \n",
       "\n",
       "                             Grade  StratID1  StratID2  StratID3  \\\n",
       "Patient_ID                0.008751  0.003434 -0.000104 -0.002017   \n",
       "YEAR                      0.014627 -0.004517  0.018079 -0.013943   \n",
       "Subtopic                 -0.003501  0.008718  0.013676  0.003798   \n",
       "Sample_Size               0.178166 -0.099638 -0.114970 -0.190650   \n",
       "Grade                     1.000000  0.018457  0.079887 -0.685156   \n",
       "StratID1                  0.018457  1.000000 -0.066423 -0.027575   \n",
       "StratID2                  0.079887 -0.066423  1.000000 -0.095217   \n",
       "StratID3                 -0.685156 -0.027575 -0.095217  1.000000   \n",
       "Greater_Risk_Probability -0.026786  0.033488  0.017677  0.054824   \n",
       "\n",
       "                          Greater_Risk_Probability  \n",
       "Patient_ID                                0.008597  \n",
       "YEAR                                     -0.164593  \n",
       "Subtopic                                 -0.578662  \n",
       "Sample_Size                              -0.065806  \n",
       "Grade                                    -0.026786  \n",
       "StratID1                                  0.033488  \n",
       "StratID2                                  0.017677  \n",
       "StratID3                                  0.054824  \n",
       "Greater_Risk_Probability                  1.000000  "
      ]
     },
     "execution_count": 9,
     "metadata": {
      "tags": []
     },
     "output_type": "execute_result"
    }
   ],
   "source": [
    "data.corr()"
   ]
  },
  {
   "cell_type": "code",
   "execution_count": 10,
   "metadata": {
    "colab": {
     "base_uri": "https://localhost:8080/",
     "height": 34
    },
    "colab_type": "code",
    "id": "AETa0NVWUgen",
    "outputId": "897fa1ff-e301-406f-fb90-40bdfc267840"
   },
   "outputs": [
    {
     "data": {
      "text/plain": [
       "(55399, 17)"
      ]
     },
     "execution_count": 10,
     "metadata": {
      "tags": []
     },
     "output_type": "execute_result"
    }
   ],
   "source": [
    "data.shape"
   ]
  },
  {
   "cell_type": "code",
   "execution_count": 11,
   "metadata": {
    "colab": {
     "base_uri": "https://localhost:8080/",
     "height": 336
    },
    "colab_type": "code",
    "id": "QRcBB_2VVqEz",
    "outputId": "b90642b1-8539-430e-9268-70ce73368e9d"
   },
   "outputs": [
    {
     "data": {
      "text/plain": [
       "Patient_ID                     0\n",
       "YEAR                           0\n",
       "LocationDesc                   0\n",
       "Subtopic                       0\n",
       "Greater_Risk_Question          0\n",
       "Description                    0\n",
       "Sample_Size                    0\n",
       "Sex                            0\n",
       "Race                           0\n",
       "Grade                          0\n",
       "GeoLocation                 3301\n",
       "QuestionCode                   0\n",
       "StratID1                       0\n",
       "StratID2                       0\n",
       "StratID3                       0\n",
       "StratificationType             0\n",
       "Greater_Risk_Probability       0\n",
       "dtype: int64"
      ]
     },
     "execution_count": 11,
     "metadata": {
      "tags": []
     },
     "output_type": "execute_result"
    }
   ],
   "source": [
    "data.isnull().sum()"
   ]
  },
  {
   "cell_type": "code",
   "execution_count": null,
   "metadata": {
    "colab": {},
    "colab_type": "code",
    "id": "SLxvy-BIVx3V"
   },
   "outputs": [],
   "source": [
    "# We will impute zero at GeoLocation where it has null values\n",
    "\n",
    "data=data.fillna('(0,0)')"
   ]
  },
  {
   "cell_type": "code",
   "execution_count": 13,
   "metadata": {
    "colab": {
     "base_uri": "https://localhost:8080/",
     "height": 336
    },
    "colab_type": "code",
    "id": "0TSJcRNGUghR",
    "outputId": "0c65908a-ed68-44d0-f0c5-8784943eeae5"
   },
   "outputs": [
    {
     "data": {
      "text/plain": [
       "Patient_ID                  0\n",
       "YEAR                        0\n",
       "LocationDesc                0\n",
       "Subtopic                    0\n",
       "Greater_Risk_Question       0\n",
       "Description                 0\n",
       "Sample_Size                 0\n",
       "Sex                         0\n",
       "Race                        0\n",
       "Grade                       0\n",
       "GeoLocation                 0\n",
       "QuestionCode                0\n",
       "StratID1                    0\n",
       "StratID2                    0\n",
       "StratID3                    0\n",
       "StratificationType          0\n",
       "Greater_Risk_Probability    0\n",
       "dtype: int64"
      ]
     },
     "execution_count": 13,
     "metadata": {
      "tags": []
     },
     "output_type": "execute_result"
    }
   ],
   "source": [
    "data.isna().sum()"
   ]
  },
  {
   "cell_type": "code",
   "execution_count": 14,
   "metadata": {
    "colab": {
     "base_uri": "https://localhost:8080/",
     "height": 407
    },
    "colab_type": "code",
    "id": "ay6hoKxmXImI",
    "outputId": "d25eb088-c00b-4ccb-c3d7-db09a372a184"
   },
   "outputs": [
    {
     "name": "stdout",
     "output_type": "stream",
     "text": [
      "<class 'pandas.core.frame.DataFrame'>\n",
      "RangeIndex: 55399 entries, 0 to 55398\n",
      "Data columns (total 17 columns):\n",
      "Patient_ID                  55399 non-null int64\n",
      "YEAR                        55399 non-null int64\n",
      "LocationDesc                55399 non-null object\n",
      "Subtopic                    55399 non-null int64\n",
      "Greater_Risk_Question       55399 non-null object\n",
      "Description                 55399 non-null object\n",
      "Sample_Size                 55399 non-null float64\n",
      "Sex                         55399 non-null object\n",
      "Race                        55399 non-null object\n",
      "Grade                       55399 non-null int64\n",
      "GeoLocation                 55399 non-null object\n",
      "QuestionCode                55399 non-null object\n",
      "StratID1                    55399 non-null int64\n",
      "StratID2                    55399 non-null int64\n",
      "StratID3                    55399 non-null int64\n",
      "StratificationType          55399 non-null object\n",
      "Greater_Risk_Probability    55399 non-null float64\n",
      "dtypes: float64(2), int64(7), object(8)\n",
      "memory usage: 7.2+ MB\n"
     ]
    }
   ],
   "source": [
    "data.info()"
   ]
  },
  {
   "cell_type": "code",
   "execution_count": null,
   "metadata": {
    "colab": {},
    "colab_type": "code",
    "id": "ZLB1XuK-YKQA"
   },
   "outputs": [],
   "source": [
    "# Store target variable into Y\n",
    "\n",
    "Y=data[['Greater_Risk_Probability']]"
   ]
  },
  {
   "cell_type": "code",
   "execution_count": null,
   "metadata": {
    "colab": {},
    "colab_type": "code",
    "id": "7SLQkN4rXOIP"
   },
   "outputs": [],
   "source": [
    "# We will drop the unnecessary columns and target variable \n",
    "\n",
    "X=data.drop(['Patient_ID','YEAR','LocationDesc','Greater_Risk_Question','Greater_Risk_Probability'], axis=1)"
   ]
  },
  {
   "cell_type": "code",
   "execution_count": 17,
   "metadata": {
    "colab": {
     "base_uri": "https://localhost:8080/",
     "height": 164
    },
    "colab_type": "code",
    "id": "RxxOyhYSYlg7",
    "outputId": "78ab338f-1403-4250-e1d0-23f7c61bdc72"
   },
   "outputs": [
    {
     "data": {
      "text/html": [
       "<div>\n",
       "<style scoped>\n",
       "    .dataframe tbody tr th:only-of-type {\n",
       "        vertical-align: middle;\n",
       "    }\n",
       "\n",
       "    .dataframe tbody tr th {\n",
       "        vertical-align: top;\n",
       "    }\n",
       "\n",
       "    .dataframe thead th {\n",
       "        text-align: right;\n",
       "    }\n",
       "</style>\n",
       "<table border=\"1\" class=\"dataframe\">\n",
       "  <thead>\n",
       "    <tr style=\"text-align: right;\">\n",
       "      <th></th>\n",
       "      <th>Subtopic</th>\n",
       "      <th>Description</th>\n",
       "      <th>Sample_Size</th>\n",
       "      <th>Sex</th>\n",
       "      <th>Race</th>\n",
       "      <th>Grade</th>\n",
       "      <th>GeoLocation</th>\n",
       "      <th>QuestionCode</th>\n",
       "      <th>StratID1</th>\n",
       "      <th>StratID2</th>\n",
       "      <th>StratID3</th>\n",
       "      <th>StratificationType</th>\n",
       "    </tr>\n",
       "  </thead>\n",
       "  <tbody>\n",
       "    <tr>\n",
       "      <th>0</th>\n",
       "      <td>1</td>\n",
       "      <td>any form of cocaine, such as powder, crack, or...</td>\n",
       "      <td>335.0</td>\n",
       "      <td>Female</td>\n",
       "      <td>Hispanic or Latino</td>\n",
       "      <td>4</td>\n",
       "      <td>(29.760427, -95.369803)</td>\n",
       "      <td>H49</td>\n",
       "      <td>1</td>\n",
       "      <td>4</td>\n",
       "      <td>0</td>\n",
       "      <td>Local</td>\n",
       "    </tr>\n",
       "  </tbody>\n",
       "</table>\n",
       "</div>"
      ],
      "text/plain": [
       "   Subtopic                                        Description  Sample_Size  \\\n",
       "0         1  any form of cocaine, such as powder, crack, or...        335.0   \n",
       "\n",
       "      Sex                Race  Grade              GeoLocation QuestionCode  \\\n",
       "0  Female  Hispanic or Latino      4  (29.760427, -95.369803)          H49   \n",
       "\n",
       "   StratID1  StratID2  StratID3 StratificationType  \n",
       "0         1         4         0              Local  "
      ]
     },
     "execution_count": 17,
     "metadata": {
      "tags": []
     },
     "output_type": "execute_result"
    }
   ],
   "source": [
    "X.head(1)"
   ]
  },
  {
   "cell_type": "code",
   "execution_count": null,
   "metadata": {
    "colab": {},
    "colab_type": "code",
    "id": "wN7_xxzUYoau"
   },
   "outputs": [],
   "source": [
    "# We will split GeoLocation in to 2 columns\n",
    "X['GeoLocation']=X['GeoLocation'].str.replace(\" \", \"\").str.strip('(').str.strip(')')\n",
    "X['latitude']=X['GeoLocation'].str.split(',').str[0].astype(float)\n",
    "X['longitude']=X['GeoLocation'].str.split(',').str[1].astype(float)"
   ]
  },
  {
   "cell_type": "code",
   "execution_count": null,
   "metadata": {
    "colab": {},
    "colab_type": "code",
    "id": "pIbWMfBeY-JA"
   },
   "outputs": [],
   "source": [
    "X=X.drop('GeoLocation',axis=1)"
   ]
  },
  {
   "cell_type": "code",
   "execution_count": 20,
   "metadata": {
    "colab": {
     "base_uri": "https://localhost:8080/",
     "height": 164
    },
    "colab_type": "code",
    "id": "p0b5PHIcZAk5",
    "outputId": "47726cf8-bab9-431b-d058-87add06eb8a7"
   },
   "outputs": [
    {
     "data": {
      "text/html": [
       "<div>\n",
       "<style scoped>\n",
       "    .dataframe tbody tr th:only-of-type {\n",
       "        vertical-align: middle;\n",
       "    }\n",
       "\n",
       "    .dataframe tbody tr th {\n",
       "        vertical-align: top;\n",
       "    }\n",
       "\n",
       "    .dataframe thead th {\n",
       "        text-align: right;\n",
       "    }\n",
       "</style>\n",
       "<table border=\"1\" class=\"dataframe\">\n",
       "  <thead>\n",
       "    <tr style=\"text-align: right;\">\n",
       "      <th></th>\n",
       "      <th>Subtopic</th>\n",
       "      <th>Description</th>\n",
       "      <th>Sample_Size</th>\n",
       "      <th>Sex</th>\n",
       "      <th>Race</th>\n",
       "      <th>Grade</th>\n",
       "      <th>QuestionCode</th>\n",
       "      <th>StratID1</th>\n",
       "      <th>StratID2</th>\n",
       "      <th>StratID3</th>\n",
       "      <th>StratificationType</th>\n",
       "      <th>latitude</th>\n",
       "      <th>longitude</th>\n",
       "    </tr>\n",
       "  </thead>\n",
       "  <tbody>\n",
       "    <tr>\n",
       "      <th>0</th>\n",
       "      <td>1</td>\n",
       "      <td>any form of cocaine, such as powder, crack, or...</td>\n",
       "      <td>335.0</td>\n",
       "      <td>Female</td>\n",
       "      <td>Hispanic or Latino</td>\n",
       "      <td>4</td>\n",
       "      <td>H49</td>\n",
       "      <td>1</td>\n",
       "      <td>4</td>\n",
       "      <td>0</td>\n",
       "      <td>Local</td>\n",
       "      <td>29.760427</td>\n",
       "      <td>-95.369803</td>\n",
       "    </tr>\n",
       "  </tbody>\n",
       "</table>\n",
       "</div>"
      ],
      "text/plain": [
       "   Subtopic                                        Description  Sample_Size  \\\n",
       "0         1  any form of cocaine, such as powder, crack, or...        335.0   \n",
       "\n",
       "      Sex                Race  Grade QuestionCode  StratID1  StratID2  \\\n",
       "0  Female  Hispanic or Latino      4          H49         1         4   \n",
       "\n",
       "   StratID3 StratificationType   latitude  longitude  \n",
       "0         0              Local  29.760427 -95.369803  "
      ]
     },
     "execution_count": 20,
     "metadata": {
      "tags": []
     },
     "output_type": "execute_result"
    }
   ],
   "source": [
    "X.head(1)"
   ]
  },
  {
   "cell_type": "code",
   "execution_count": 21,
   "metadata": {
    "colab": {
     "base_uri": "https://localhost:8080/",
     "height": 34
    },
    "colab_type": "code",
    "id": "vLXfGI7yZC4T",
    "outputId": "184ac778-f5e0-4296-afe2-6f39c84e65c0"
   },
   "outputs": [
    {
     "data": {
      "text/plain": [
       "array([1, 0])"
      ]
     },
     "execution_count": 21,
     "metadata": {
      "tags": []
     },
     "output_type": "execute_result"
    }
   ],
   "source": [
    "#Handling Categorical Data\n",
    "#Some of the columns in the dataset have categorical values i.e only few possible values.\n",
    "\n",
    "#e.g season column can be either 0 or 1 .\n",
    "\n",
    "#We will need to deal with Categorical data differently. Lets identify categorical columns by checking the unique values in them. \n",
    "\n",
    "X.Subtopic.unique()"
   ]
  },
  {
   "cell_type": "code",
   "execution_count": 22,
   "metadata": {
    "colab": {
     "base_uri": "https://localhost:8080/",
     "height": 34
    },
    "colab_type": "code",
    "id": "8S3O1eIBgH3f",
    "outputId": "1cca98a7-e88b-4fba-9c67-0821e4f84f71"
   },
   "outputs": [
    {
     "data": {
      "text/plain": [
       "array(['Female', 'Total', 'Male'], dtype=object)"
      ]
     },
     "execution_count": 22,
     "metadata": {
      "tags": []
     },
     "output_type": "execute_result"
    }
   ],
   "source": [
    "X.Sex.unique()"
   ]
  },
  {
   "cell_type": "code",
   "execution_count": null,
   "metadata": {
    "colab": {},
    "colab_type": "code",
    "id": "HLQtdrQF4bSe"
   },
   "outputs": [],
   "source": [
    "X11=X[['Sex','Race','QuestionCode','StratificationType']]"
   ]
  },
  {
   "cell_type": "code",
   "execution_count": null,
   "metadata": {
    "colab": {},
    "colab_type": "code",
    "id": "KQYE09lo5Fzd"
   },
   "outputs": [],
   "source": [
    "from sklearn.preprocessing import LabelEncoder\n",
    "labelencoder = LabelEncoder()"
   ]
  },
  {
   "cell_type": "code",
   "execution_count": null,
   "metadata": {
    "colab": {},
    "colab_type": "code",
    "id": "WEVi_ltg2ErG"
   },
   "outputs": [],
   "source": [
    "\n",
    "label = LabelEncoder()\n",
    "X11=X11.apply(label.fit_transform)"
   ]
  },
  {
   "cell_type": "code",
   "execution_count": 26,
   "metadata": {
    "colab": {
     "base_uri": "https://localhost:8080/",
     "height": 197
    },
    "colab_type": "code",
    "id": "lha7hve55JGU",
    "outputId": "ad048393-0af2-47d4-aeef-1f8ec0074ff6"
   },
   "outputs": [
    {
     "data": {
      "text/html": [
       "<div>\n",
       "<style scoped>\n",
       "    .dataframe tbody tr th:only-of-type {\n",
       "        vertical-align: middle;\n",
       "    }\n",
       "\n",
       "    .dataframe tbody tr th {\n",
       "        vertical-align: top;\n",
       "    }\n",
       "\n",
       "    .dataframe thead th {\n",
       "        text-align: right;\n",
       "    }\n",
       "</style>\n",
       "<table border=\"1\" class=\"dataframe\">\n",
       "  <thead>\n",
       "    <tr style=\"text-align: right;\">\n",
       "      <th></th>\n",
       "      <th>Sex</th>\n",
       "      <th>Race</th>\n",
       "      <th>QuestionCode</th>\n",
       "      <th>StratificationType</th>\n",
       "    </tr>\n",
       "  </thead>\n",
       "  <tbody>\n",
       "    <tr>\n",
       "      <th>0</th>\n",
       "      <td>0</td>\n",
       "      <td>3</td>\n",
       "      <td>9</td>\n",
       "      <td>0</td>\n",
       "    </tr>\n",
       "    <tr>\n",
       "      <th>1</th>\n",
       "      <td>2</td>\n",
       "      <td>2</td>\n",
       "      <td>2</td>\n",
       "      <td>0</td>\n",
       "    </tr>\n",
       "    <tr>\n",
       "      <th>2</th>\n",
       "      <td>0</td>\n",
       "      <td>7</td>\n",
       "      <td>1</td>\n",
       "      <td>3</td>\n",
       "    </tr>\n",
       "    <tr>\n",
       "      <th>3</th>\n",
       "      <td>1</td>\n",
       "      <td>1</td>\n",
       "      <td>9</td>\n",
       "      <td>3</td>\n",
       "    </tr>\n",
       "    <tr>\n",
       "      <th>4</th>\n",
       "      <td>0</td>\n",
       "      <td>4</td>\n",
       "      <td>15</td>\n",
       "      <td>0</td>\n",
       "    </tr>\n",
       "  </tbody>\n",
       "</table>\n",
       "</div>"
      ],
      "text/plain": [
       "   Sex  Race  QuestionCode  StratificationType\n",
       "0    0     3             9                   0\n",
       "1    2     2             2                   0\n",
       "2    0     7             1                   3\n",
       "3    1     1             9                   3\n",
       "4    0     4            15                   0"
      ]
     },
     "execution_count": 26,
     "metadata": {
      "tags": []
     },
     "output_type": "execute_result"
    }
   ],
   "source": [
    "X11.head()"
   ]
  },
  {
   "cell_type": "code",
   "execution_count": 27,
   "metadata": {
    "colab": {
     "base_uri": "https://localhost:8080/",
     "height": 34
    },
    "colab_type": "code",
    "id": "A6t5wnu0gIKp",
    "outputId": "46ed347c-cbaa-4ed0-9c3f-9c4e5bf75ca2"
   },
   "outputs": [
    {
     "data": {
      "text/plain": [
       "8"
      ]
     },
     "execution_count": 27,
     "metadata": {
      "tags": []
     },
     "output_type": "execute_result"
    }
   ],
   "source": [
    "len(X.Race.unique())"
   ]
  },
  {
   "cell_type": "code",
   "execution_count": 28,
   "metadata": {
    "colab": {
     "base_uri": "https://localhost:8080/",
     "height": 34
    },
    "colab_type": "code",
    "id": "CoU_adPkgIO9",
    "outputId": "5132325d-f98c-4a13-d84d-63993c679191"
   },
   "outputs": [
    {
     "data": {
      "text/plain": [
       "5"
      ]
     },
     "execution_count": 28,
     "metadata": {
      "tags": []
     },
     "output_type": "execute_result"
    }
   ],
   "source": [
    "len(X.Grade.unique())"
   ]
  },
  {
   "cell_type": "code",
   "execution_count": 29,
   "metadata": {
    "colab": {
     "base_uri": "https://localhost:8080/",
     "height": 34
    },
    "colab_type": "code",
    "id": "3ndbcz6KgV3W",
    "outputId": "24707c52-4ad4-4286-de98-f4177155114c"
   },
   "outputs": [
    {
     "data": {
      "text/plain": [
       "20"
      ]
     },
     "execution_count": 29,
     "metadata": {
      "tags": []
     },
     "output_type": "execute_result"
    }
   ],
   "source": [
    "len(X.QuestionCode.unique())"
   ]
  },
  {
   "cell_type": "code",
   "execution_count": 30,
   "metadata": {
    "colab": {
     "base_uri": "https://localhost:8080/",
     "height": 34
    },
    "colab_type": "code",
    "id": "tGLocXnQgV6L",
    "outputId": "05f47b5e-3ea4-483b-d267-cc2101ce9ab3"
   },
   "outputs": [
    {
     "data": {
      "text/plain": [
       "3"
      ]
     },
     "execution_count": 30,
     "metadata": {
      "tags": []
     },
     "output_type": "execute_result"
    }
   ],
   "source": [
    "len(X.StratID1.unique())"
   ]
  },
  {
   "cell_type": "code",
   "execution_count": 31,
   "metadata": {
    "colab": {
     "base_uri": "https://localhost:8080/",
     "height": 34
    },
    "colab_type": "code",
    "id": "spBtQqXGgWJt",
    "outputId": "459b0260-1e13-4bfe-e68a-7a0200dea7bf"
   },
   "outputs": [
    {
     "data": {
      "text/plain": [
       "8"
      ]
     },
     "execution_count": 31,
     "metadata": {
      "tags": []
     },
     "output_type": "execute_result"
    }
   ],
   "source": [
    "len(X.StratID2.unique())"
   ]
  },
  {
   "cell_type": "code",
   "execution_count": 32,
   "metadata": {
    "colab": {
     "base_uri": "https://localhost:8080/",
     "height": 34
    },
    "colab_type": "code",
    "id": "vyVVn-EEgkS4",
    "outputId": "ce88ff51-5019-4561-b6eb-02879794aedb"
   },
   "outputs": [
    {
     "data": {
      "text/plain": [
       "5"
      ]
     },
     "execution_count": 32,
     "metadata": {
      "tags": []
     },
     "output_type": "execute_result"
    }
   ],
   "source": [
    "len(X.StratID3.unique())"
   ]
  },
  {
   "cell_type": "code",
   "execution_count": 33,
   "metadata": {
    "colab": {
     "base_uri": "https://localhost:8080/",
     "height": 34
    },
    "colab_type": "code",
    "id": "8NvA8u4rgkVk",
    "outputId": "0a94292d-2b56-4992-c672-325a27df4345"
   },
   "outputs": [
    {
     "data": {
      "text/plain": [
       "5"
      ]
     },
     "execution_count": 33,
     "metadata": {
      "tags": []
     },
     "output_type": "execute_result"
    }
   ],
   "source": [
    "len(X.StratificationType.unique())"
   ]
  },
  {
   "cell_type": "code",
   "execution_count": 34,
   "metadata": {
    "colab": {
     "base_uri": "https://localhost:8080/",
     "height": 34
    },
    "colab_type": "code",
    "id": "dFHpVc6LaO7O",
    "outputId": "3d75db1b-eb8d-456d-8fb9-7e26f69a2b6a"
   },
   "outputs": [
    {
     "data": {
      "text/plain": [
       "array([ 335.,  382.,  196., ..., 2874., 2487., 3424.])"
      ]
     },
     "execution_count": 34,
     "metadata": {
      "tags": []
     },
     "output_type": "execute_result"
    }
   ],
   "source": [
    "X.Sample_Size.unique()"
   ]
  },
  {
   "cell_type": "code",
   "execution_count": 35,
   "metadata": {
    "colab": {
     "base_uri": "https://localhost:8080/",
     "height": 34
    },
    "colab_type": "code",
    "id": "nwVZc9ABab0U",
    "outputId": "38381f7f-75a1-499a-8bc9-fcf276e031e4"
   },
   "outputs": [
    {
     "data": {
      "text/plain": [
       "array([4, 0, 3, 1, 2])"
      ]
     },
     "execution_count": 35,
     "metadata": {
      "tags": []
     },
     "output_type": "execute_result"
    }
   ],
   "source": [
    "X.Grade.unique()"
   ]
  },
  {
   "cell_type": "code",
   "execution_count": null,
   "metadata": {
    "colab": {},
    "colab_type": "code",
    "id": "oBFEl9K8ahKc"
   },
   "outputs": [],
   "source": [
    "#List of catagorical variable are \n",
    "#['Subtopic','Grade','Sex','Race','Grade','QuestionCode','StratID1','StratID2','StratID3','StratificationType']\n",
    "\n",
    "# List of Continuous Variable \n",
    "#['Sample_Size','latitude','longitude']\n",
    "\n",
    "# List of text Variable \n",
    "#['Description']"
   ]
  },
  {
   "cell_type": "code",
   "execution_count": null,
   "metadata": {
    "colab": {},
    "colab_type": "code",
    "id": "kPryH7pihsU-"
   },
   "outputs": [],
   "source": [
    "XC=X[['Sample_Size','latitude','longitude']]\n",
    "scaler = preprocessing.StandardScaler()\n",
    "scaled_df = scaler.fit_transform(XC)\n",
    "X[['Sample_Size','latitude','longitude']] = pd.DataFrame(scaled_df, columns=['Sample_Size','latitude','longitude'])"
   ]
  },
  {
   "cell_type": "code",
   "execution_count": 38,
   "metadata": {
    "colab": {
     "base_uri": "https://localhost:8080/",
     "height": 4893
    },
    "colab_type": "code",
    "id": "8oC1QTuHiS3i",
    "outputId": "3b874b75-0161-4736-b3ef-058f9051da25"
   },
   "outputs": [
    {
     "data": {
      "text/html": [
       "<div>\n",
       "<style scoped>\n",
       "    .dataframe tbody tr th:only-of-type {\n",
       "        vertical-align: middle;\n",
       "    }\n",
       "\n",
       "    .dataframe tbody tr th {\n",
       "        vertical-align: top;\n",
       "    }\n",
       "\n",
       "    .dataframe thead th {\n",
       "        text-align: right;\n",
       "    }\n",
       "</style>\n",
       "<table border=\"1\" class=\"dataframe\">\n",
       "  <thead>\n",
       "    <tr style=\"text-align: right;\">\n",
       "      <th></th>\n",
       "      <th>Subtopic</th>\n",
       "      <th>Description</th>\n",
       "      <th>Sample_Size</th>\n",
       "      <th>Sex</th>\n",
       "      <th>Race</th>\n",
       "      <th>Grade</th>\n",
       "      <th>QuestionCode</th>\n",
       "      <th>StratID1</th>\n",
       "      <th>StratID2</th>\n",
       "      <th>StratID3</th>\n",
       "      <th>StratificationType</th>\n",
       "      <th>latitude</th>\n",
       "      <th>longitude</th>\n",
       "    </tr>\n",
       "  </thead>\n",
       "  <tbody>\n",
       "    <tr>\n",
       "      <th>0</th>\n",
       "      <td>1</td>\n",
       "      <td>any form of cocaine, such as powder, crack, or...</td>\n",
       "      <td>-0.201274</td>\n",
       "      <td>Female</td>\n",
       "      <td>Hispanic or Latino</td>\n",
       "      <td>4</td>\n",
       "      <td>H49</td>\n",
       "      <td>1</td>\n",
       "      <td>4</td>\n",
       "      <td>0</td>\n",
       "      <td>Local</td>\n",
       "      <td>-0.350586</td>\n",
       "      <td>-0.376035</td>\n",
       "    </tr>\n",
       "    <tr>\n",
       "      <th>1</th>\n",
       "      <td>0</td>\n",
       "      <td>at least one drink of alcohol, on at least 1 d...</td>\n",
       "      <td>-0.160358</td>\n",
       "      <td>Total</td>\n",
       "      <td>Black or African American</td>\n",
       "      <td>4</td>\n",
       "      <td>H42</td>\n",
       "      <td>0</td>\n",
       "      <td>3</td>\n",
       "      <td>0</td>\n",
       "      <td>Local</td>\n",
       "      <td>-0.350586</td>\n",
       "      <td>-0.376035</td>\n",
       "    </tr>\n",
       "    <tr>\n",
       "      <th>2</th>\n",
       "      <td>0</td>\n",
       "      <td>other than a few sips</td>\n",
       "      <td>-0.322278</td>\n",
       "      <td>Female</td>\n",
       "      <td>White</td>\n",
       "      <td>0</td>\n",
       "      <td>H41</td>\n",
       "      <td>1</td>\n",
       "      <td>6</td>\n",
       "      <td>2</td>\n",
       "      <td>State</td>\n",
       "      <td>0.414092</td>\n",
       "      <td>-0.803752</td>\n",
       "    </tr>\n",
       "    <tr>\n",
       "      <th>3</th>\n",
       "      <td>1</td>\n",
       "      <td>any form of cocaine, such as powder, crack, or...</td>\n",
       "      <td>-0.402367</td>\n",
       "      <td>Male</td>\n",
       "      <td>Asian</td>\n",
       "      <td>4</td>\n",
       "      <td>H49</td>\n",
       "      <td>2</td>\n",
       "      <td>2</td>\n",
       "      <td>0</td>\n",
       "      <td>State</td>\n",
       "      <td>0.516268</td>\n",
       "      <td>-0.030955</td>\n",
       "    </tr>\n",
       "    <tr>\n",
       "      <th>4</th>\n",
       "      <td>1</td>\n",
       "      <td>pills or shots, one or more times during their...</td>\n",
       "      <td>-0.405850</td>\n",
       "      <td>Female</td>\n",
       "      <td>Multiple Race</td>\n",
       "      <td>4</td>\n",
       "      <td>H55</td>\n",
       "      <td>1</td>\n",
       "      <td>7</td>\n",
       "      <td>0</td>\n",
       "      <td>Local</td>\n",
       "      <td>0.279090</td>\n",
       "      <td>-0.909146</td>\n",
       "    </tr>\n",
       "    <tr>\n",
       "      <th>5</th>\n",
       "      <td>1</td>\n",
       "      <td>sniffed glue, breathed the contents of aerosol...</td>\n",
       "      <td>-0.398885</td>\n",
       "      <td>Male</td>\n",
       "      <td>Black or African American</td>\n",
       "      <td>3</td>\n",
       "      <td>H50</td>\n",
       "      <td>2</td>\n",
       "      <td>3</td>\n",
       "      <td>1</td>\n",
       "      <td>Local</td>\n",
       "      <td>0.450182</td>\n",
       "      <td>0.022169</td>\n",
       "    </tr>\n",
       "    <tr>\n",
       "      <th>6</th>\n",
       "      <td>0</td>\n",
       "      <td>at least one drink of alcohol, on at least 1 d...</td>\n",
       "      <td>-0.292680</td>\n",
       "      <td>Female</td>\n",
       "      <td>Total</td>\n",
       "      <td>1</td>\n",
       "      <td>H42</td>\n",
       "      <td>1</td>\n",
       "      <td>0</td>\n",
       "      <td>3</td>\n",
       "      <td>Local</td>\n",
       "      <td>-0.118396</td>\n",
       "      <td>-0.805511</td>\n",
       "    </tr>\n",
       "    <tr>\n",
       "      <th>7</th>\n",
       "      <td>0</td>\n",
       "      <td>at least one drink of alcohol, on at least 1 d...</td>\n",
       "      <td>-0.336207</td>\n",
       "      <td>Male</td>\n",
       "      <td>Total</td>\n",
       "      <td>1</td>\n",
       "      <td>H42</td>\n",
       "      <td>2</td>\n",
       "      <td>0</td>\n",
       "      <td>3</td>\n",
       "      <td>State</td>\n",
       "      <td>0.403679</td>\n",
       "      <td>-0.695656</td>\n",
       "    </tr>\n",
       "    <tr>\n",
       "      <th>8</th>\n",
       "      <td>1</td>\n",
       "      <td>during the 12 months before the survey</td>\n",
       "      <td>-0.121184</td>\n",
       "      <td>Total</td>\n",
       "      <td>Total</td>\n",
       "      <td>1</td>\n",
       "      <td>H58</td>\n",
       "      <td>0</td>\n",
       "      <td>0</td>\n",
       "      <td>3</td>\n",
       "      <td>State</td>\n",
       "      <td>0.349060</td>\n",
       "      <td>-0.087163</td>\n",
       "    </tr>\n",
       "    <tr>\n",
       "      <th>9</th>\n",
       "      <td>1</td>\n",
       "      <td>sniffed glue, breathed the contents of aerosol...</td>\n",
       "      <td>-0.219555</td>\n",
       "      <td>Total</td>\n",
       "      <td>Total</td>\n",
       "      <td>1</td>\n",
       "      <td>H50</td>\n",
       "      <td>0</td>\n",
       "      <td>0</td>\n",
       "      <td>3</td>\n",
       "      <td>State</td>\n",
       "      <td>-1.014916</td>\n",
       "      <td>-1.607586</td>\n",
       "    </tr>\n",
       "    <tr>\n",
       "      <th>10</th>\n",
       "      <td>0</td>\n",
       "      <td>other than a few sips</td>\n",
       "      <td>-0.395403</td>\n",
       "      <td>Male</td>\n",
       "      <td>Asian</td>\n",
       "      <td>2</td>\n",
       "      <td>H41</td>\n",
       "      <td>2</td>\n",
       "      <td>2</td>\n",
       "      <td>4</td>\n",
       "      <td>Local</td>\n",
       "      <td>0.509908</td>\n",
       "      <td>0.045017</td>\n",
       "    </tr>\n",
       "    <tr>\n",
       "      <th>11</th>\n",
       "      <td>1</td>\n",
       "      <td>sniffed glue, breathed the contents of aerosol...</td>\n",
       "      <td>-0.407591</td>\n",
       "      <td>Male</td>\n",
       "      <td>Asian</td>\n",
       "      <td>4</td>\n",
       "      <td>H50</td>\n",
       "      <td>2</td>\n",
       "      <td>2</td>\n",
       "      <td>0</td>\n",
       "      <td>Territory</td>\n",
       "      <td>-1.632496</td>\n",
       "      <td>4.357254</td>\n",
       "    </tr>\n",
       "    <tr>\n",
       "      <th>12</th>\n",
       "      <td>1</td>\n",
       "      <td>also called grass, pot, or weed, one or more t...</td>\n",
       "      <td>0.182633</td>\n",
       "      <td>Total</td>\n",
       "      <td>White</td>\n",
       "      <td>0</td>\n",
       "      <td>H46</td>\n",
       "      <td>0</td>\n",
       "      <td>6</td>\n",
       "      <td>2</td>\n",
       "      <td>State</td>\n",
       "      <td>1.009103</td>\n",
       "      <td>-0.653032</td>\n",
       "    </tr>\n",
       "    <tr>\n",
       "      <th>13</th>\n",
       "      <td>1</td>\n",
       "      <td>also called \"smack,\" \"junk,\" or \"China White,\"...</td>\n",
       "      <td>-0.182122</td>\n",
       "      <td>Female</td>\n",
       "      <td>Black or African American</td>\n",
       "      <td>3</td>\n",
       "      <td>H51</td>\n",
       "      <td>1</td>\n",
       "      <td>3</td>\n",
       "      <td>1</td>\n",
       "      <td>State</td>\n",
       "      <td>0.676016</td>\n",
       "      <td>0.014704</td>\n",
       "    </tr>\n",
       "    <tr>\n",
       "      <th>14</th>\n",
       "      <td>0</td>\n",
       "      <td>other than a few sips</td>\n",
       "      <td>0.279263</td>\n",
       "      <td>Total</td>\n",
       "      <td>White</td>\n",
       "      <td>3</td>\n",
       "      <td>H41</td>\n",
       "      <td>0</td>\n",
       "      <td>6</td>\n",
       "      <td>1</td>\n",
       "      <td>State</td>\n",
       "      <td>1.009103</td>\n",
       "      <td>-0.653032</td>\n",
       "    </tr>\n",
       "    <tr>\n",
       "      <th>15</th>\n",
       "      <td>1</td>\n",
       "      <td>sniffed glue, breathed the contents of aerosol...</td>\n",
       "      <td>-0.366675</td>\n",
       "      <td>Male</td>\n",
       "      <td>White</td>\n",
       "      <td>1</td>\n",
       "      <td>H50</td>\n",
       "      <td>2</td>\n",
       "      <td>6</td>\n",
       "      <td>3</td>\n",
       "      <td>Local</td>\n",
       "      <td>0.509908</td>\n",
       "      <td>0.045017</td>\n",
       "    </tr>\n",
       "    <tr>\n",
       "      <th>16</th>\n",
       "      <td>1</td>\n",
       "      <td>sniffed glue, breathed the contents of aerosol...</td>\n",
       "      <td>-0.226519</td>\n",
       "      <td>Total</td>\n",
       "      <td>Black or African American</td>\n",
       "      <td>4</td>\n",
       "      <td>H50</td>\n",
       "      <td>0</td>\n",
       "      <td>3</td>\n",
       "      <td>0</td>\n",
       "      <td>State</td>\n",
       "      <td>0.820133</td>\n",
       "      <td>-0.166032</td>\n",
       "    </tr>\n",
       "    <tr>\n",
       "      <th>17</th>\n",
       "      <td>1</td>\n",
       "      <td>during the 12 months before the survey</td>\n",
       "      <td>-0.114220</td>\n",
       "      <td>Total</td>\n",
       "      <td>Native Hawaiian or Other Pacific Islander</td>\n",
       "      <td>3</td>\n",
       "      <td>H58</td>\n",
       "      <td>0</td>\n",
       "      <td>5</td>\n",
       "      <td>1</td>\n",
       "      <td>Territory</td>\n",
       "      <td>-2.212007</td>\n",
       "      <td>4.893243</td>\n",
       "    </tr>\n",
       "    <tr>\n",
       "      <th>18</th>\n",
       "      <td>1</td>\n",
       "      <td>pills or shots, one or more times during their...</td>\n",
       "      <td>-0.245671</td>\n",
       "      <td>Total</td>\n",
       "      <td>Total</td>\n",
       "      <td>2</td>\n",
       "      <td>H55</td>\n",
       "      <td>0</td>\n",
       "      <td>0</td>\n",
       "      <td>4</td>\n",
       "      <td>Local</td>\n",
       "      <td>0.515430</td>\n",
       "      <td>0.045700</td>\n",
       "    </tr>\n",
       "    <tr>\n",
       "      <th>19</th>\n",
       "      <td>0</td>\n",
       "      <td>at least one drink of alcohol, on at least 1 d...</td>\n",
       "      <td>1.377879</td>\n",
       "      <td>Male</td>\n",
       "      <td>Total</td>\n",
       "      <td>4</td>\n",
       "      <td>H42</td>\n",
       "      <td>2</td>\n",
       "      <td>0</td>\n",
       "      <td>0</td>\n",
       "      <td>State</td>\n",
       "      <td>0.403679</td>\n",
       "      <td>-0.695656</td>\n",
       "    </tr>\n",
       "    <tr>\n",
       "      <th>20</th>\n",
       "      <td>0</td>\n",
       "      <td>at least one drink of alcohol, on at least 1 d...</td>\n",
       "      <td>0.466428</td>\n",
       "      <td>Total</td>\n",
       "      <td>White</td>\n",
       "      <td>4</td>\n",
       "      <td>H42</td>\n",
       "      <td>0</td>\n",
       "      <td>6</td>\n",
       "      <td>0</td>\n",
       "      <td>State</td>\n",
       "      <td>0.576681</td>\n",
       "      <td>0.071744</td>\n",
       "    </tr>\n",
       "    <tr>\n",
       "      <th>21</th>\n",
       "      <td>0</td>\n",
       "      <td>at least one drink of alcohol, on at least 1 d...</td>\n",
       "      <td>-0.215202</td>\n",
       "      <td>Female</td>\n",
       "      <td>Black or African American</td>\n",
       "      <td>4</td>\n",
       "      <td>H40</td>\n",
       "      <td>1</td>\n",
       "      <td>3</td>\n",
       "      <td>0</td>\n",
       "      <td>State</td>\n",
       "      <td>-0.108658</td>\n",
       "      <td>-0.144612</td>\n",
       "    </tr>\n",
       "    <tr>\n",
       "      <th>22</th>\n",
       "      <td>1</td>\n",
       "      <td>also called \"smack,\" \"junk,\" or \"China White,\"...</td>\n",
       "      <td>-0.367546</td>\n",
       "      <td>Male</td>\n",
       "      <td>Total</td>\n",
       "      <td>1</td>\n",
       "      <td>H51</td>\n",
       "      <td>2</td>\n",
       "      <td>0</td>\n",
       "      <td>3</td>\n",
       "      <td>Local</td>\n",
       "      <td>-0.631097</td>\n",
       "      <td>-0.080329</td>\n",
       "    </tr>\n",
       "    <tr>\n",
       "      <th>23</th>\n",
       "      <td>1</td>\n",
       "      <td>also called grass, pot, or weed, one or more t...</td>\n",
       "      <td>-0.379733</td>\n",
       "      <td>Total</td>\n",
       "      <td>Black or African American</td>\n",
       "      <td>3</td>\n",
       "      <td>H48</td>\n",
       "      <td>0</td>\n",
       "      <td>3</td>\n",
       "      <td>1</td>\n",
       "      <td>State</td>\n",
       "      <td>0.346725</td>\n",
       "      <td>-0.320782</td>\n",
       "    </tr>\n",
       "    <tr>\n",
       "      <th>24</th>\n",
       "      <td>1</td>\n",
       "      <td>pills or shots, one or more times during their...</td>\n",
       "      <td>-0.196050</td>\n",
       "      <td>Total</td>\n",
       "      <td>Total</td>\n",
       "      <td>1</td>\n",
       "      <td>H55</td>\n",
       "      <td>0</td>\n",
       "      <td>0</td>\n",
       "      <td>3</td>\n",
       "      <td>State</td>\n",
       "      <td>0.647921</td>\n",
       "      <td>-0.345422</td>\n",
       "    </tr>\n",
       "    <tr>\n",
       "      <th>25</th>\n",
       "      <td>1</td>\n",
       "      <td>also called \"smack,\" \"junk,\" or \"China White,\"...</td>\n",
       "      <td>-0.314443</td>\n",
       "      <td>Total</td>\n",
       "      <td>White</td>\n",
       "      <td>0</td>\n",
       "      <td>H51</td>\n",
       "      <td>0</td>\n",
       "      <td>6</td>\n",
       "      <td>2</td>\n",
       "      <td>State</td>\n",
       "      <td>0.398170</td>\n",
       "      <td>-0.006291</td>\n",
       "    </tr>\n",
       "    <tr>\n",
       "      <th>26</th>\n",
       "      <td>0</td>\n",
       "      <td>at least one drink of alcohol, on at least 1 d...</td>\n",
       "      <td>0.211361</td>\n",
       "      <td>Female</td>\n",
       "      <td>Total</td>\n",
       "      <td>1</td>\n",
       "      <td>H42</td>\n",
       "      <td>1</td>\n",
       "      <td>0</td>\n",
       "      <td>3</td>\n",
       "      <td>State</td>\n",
       "      <td>-1.014916</td>\n",
       "      <td>-1.607586</td>\n",
       "    </tr>\n",
       "    <tr>\n",
       "      <th>27</th>\n",
       "      <td>1</td>\n",
       "      <td>any form of cocaine, such as powder, crack, or...</td>\n",
       "      <td>0.296673</td>\n",
       "      <td>Male</td>\n",
       "      <td>Total</td>\n",
       "      <td>3</td>\n",
       "      <td>H49</td>\n",
       "      <td>2</td>\n",
       "      <td>0</td>\n",
       "      <td>1</td>\n",
       "      <td>State</td>\n",
       "      <td>-0.017588</td>\n",
       "      <td>-0.093721</td>\n",
       "    </tr>\n",
       "    <tr>\n",
       "      <th>28</th>\n",
       "      <td>1</td>\n",
       "      <td>also called \"K2,\" \"Spice,\" \"fake weed,\" \"King ...</td>\n",
       "      <td>1.054910</td>\n",
       "      <td>Female</td>\n",
       "      <td>Total</td>\n",
       "      <td>1</td>\n",
       "      <td>H54</td>\n",
       "      <td>1</td>\n",
       "      <td>0</td>\n",
       "      <td>3</td>\n",
       "      <td>National</td>\n",
       "      <td>-2.688775</td>\n",
       "      <td>1.503571</td>\n",
       "    </tr>\n",
       "    <tr>\n",
       "      <th>29</th>\n",
       "      <td>1</td>\n",
       "      <td>pills or shots, one or more times during their...</td>\n",
       "      <td>-0.178640</td>\n",
       "      <td>Female</td>\n",
       "      <td>Total</td>\n",
       "      <td>1</td>\n",
       "      <td>H55</td>\n",
       "      <td>1</td>\n",
       "      <td>0</td>\n",
       "      <td>3</td>\n",
       "      <td>Local</td>\n",
       "      <td>-0.681261</td>\n",
       "      <td>-0.085587</td>\n",
       "    </tr>\n",
       "    <tr>\n",
       "      <th>...</th>\n",
       "      <td>...</td>\n",
       "      <td>...</td>\n",
       "      <td>...</td>\n",
       "      <td>...</td>\n",
       "      <td>...</td>\n",
       "      <td>...</td>\n",
       "      <td>...</td>\n",
       "      <td>...</td>\n",
       "      <td>...</td>\n",
       "      <td>...</td>\n",
       "      <td>...</td>\n",
       "      <td>...</td>\n",
       "      <td>...</td>\n",
       "    </tr>\n",
       "    <tr>\n",
       "      <th>55369</th>\n",
       "      <td>1</td>\n",
       "      <td>also called grass, pot, or weed</td>\n",
       "      <td>-0.209108</td>\n",
       "      <td>Total</td>\n",
       "      <td>Total</td>\n",
       "      <td>2</td>\n",
       "      <td>H47</td>\n",
       "      <td>0</td>\n",
       "      <td>0</td>\n",
       "      <td>4</td>\n",
       "      <td>Local</td>\n",
       "      <td>0.637080</td>\n",
       "      <td>-0.133145</td>\n",
       "    </tr>\n",
       "    <tr>\n",
       "      <th>55370</th>\n",
       "      <td>0</td>\n",
       "      <td>during the 30 days before the survey, among st...</td>\n",
       "      <td>-0.161229</td>\n",
       "      <td>Total</td>\n",
       "      <td>Hispanic or Latino</td>\n",
       "      <td>3</td>\n",
       "      <td>H43</td>\n",
       "      <td>0</td>\n",
       "      <td>4</td>\n",
       "      <td>1</td>\n",
       "      <td>National</td>\n",
       "      <td>-2.688775</td>\n",
       "      <td>1.503571</td>\n",
       "    </tr>\n",
       "    <tr>\n",
       "      <th>55371</th>\n",
       "      <td>1</td>\n",
       "      <td>pills or shots, one or more times during their...</td>\n",
       "      <td>-0.401497</td>\n",
       "      <td>Male</td>\n",
       "      <td>Black or African American</td>\n",
       "      <td>3</td>\n",
       "      <td>H55</td>\n",
       "      <td>2</td>\n",
       "      <td>3</td>\n",
       "      <td>1</td>\n",
       "      <td>State</td>\n",
       "      <td>-0.108658</td>\n",
       "      <td>-0.144612</td>\n",
       "    </tr>\n",
       "    <tr>\n",
       "      <th>55372</th>\n",
       "      <td>0</td>\n",
       "      <td>at least one drink of alcohol, on at least 1 d...</td>\n",
       "      <td>0.267946</td>\n",
       "      <td>Female</td>\n",
       "      <td>Total</td>\n",
       "      <td>4</td>\n",
       "      <td>H40</td>\n",
       "      <td>1</td>\n",
       "      <td>0</td>\n",
       "      <td>0</td>\n",
       "      <td>State</td>\n",
       "      <td>0.403679</td>\n",
       "      <td>-0.695656</td>\n",
       "    </tr>\n",
       "    <tr>\n",
       "      <th>55373</th>\n",
       "      <td>0</td>\n",
       "      <td>at least one drink of alcohol, on at least 1 d...</td>\n",
       "      <td>-0.344912</td>\n",
       "      <td>Male</td>\n",
       "      <td>Hispanic or Latino</td>\n",
       "      <td>3</td>\n",
       "      <td>H42</td>\n",
       "      <td>2</td>\n",
       "      <td>4</td>\n",
       "      <td>1</td>\n",
       "      <td>State</td>\n",
       "      <td>0.050541</td>\n",
       "      <td>-0.699138</td>\n",
       "    </tr>\n",
       "    <tr>\n",
       "      <th>55374</th>\n",
       "      <td>1</td>\n",
       "      <td>also called \"smack,\" \"junk,\" or \"China White,\"...</td>\n",
       "      <td>0.064240</td>\n",
       "      <td>Male</td>\n",
       "      <td>White</td>\n",
       "      <td>1</td>\n",
       "      <td>H51</td>\n",
       "      <td>2</td>\n",
       "      <td>6</td>\n",
       "      <td>3</td>\n",
       "      <td>State</td>\n",
       "      <td>0.738743</td>\n",
       "      <td>0.074349</td>\n",
       "    </tr>\n",
       "    <tr>\n",
       "      <th>55375</th>\n",
       "      <td>0</td>\n",
       "      <td>at least one drink of alcohol, on at least 1 d...</td>\n",
       "      <td>-0.095068</td>\n",
       "      <td>Total</td>\n",
       "      <td>Total</td>\n",
       "      <td>3</td>\n",
       "      <td>H40</td>\n",
       "      <td>0</td>\n",
       "      <td>0</td>\n",
       "      <td>1</td>\n",
       "      <td>State</td>\n",
       "      <td>-0.108658</td>\n",
       "      <td>-0.144612</td>\n",
       "    </tr>\n",
       "    <tr>\n",
       "      <th>55376</th>\n",
       "      <td>0</td>\n",
       "      <td>at least one drink of alcohol, on at least 1 d...</td>\n",
       "      <td>2.487813</td>\n",
       "      <td>Total</td>\n",
       "      <td>Total</td>\n",
       "      <td>3</td>\n",
       "      <td>H40</td>\n",
       "      <td>0</td>\n",
       "      <td>0</td>\n",
       "      <td>1</td>\n",
       "      <td>National</td>\n",
       "      <td>-2.688775</td>\n",
       "      <td>1.503571</td>\n",
       "    </tr>\n",
       "    <tr>\n",
       "      <th>55377</th>\n",
       "      <td>0</td>\n",
       "      <td>within a couple of hours, during the 30 days b...</td>\n",
       "      <td>-0.277881</td>\n",
       "      <td>Female</td>\n",
       "      <td>Total</td>\n",
       "      <td>1</td>\n",
       "      <td>H45</td>\n",
       "      <td>1</td>\n",
       "      <td>0</td>\n",
       "      <td>3</td>\n",
       "      <td>State</td>\n",
       "      <td>0.114571</td>\n",
       "      <td>-0.186925</td>\n",
       "    </tr>\n",
       "    <tr>\n",
       "      <th>55378</th>\n",
       "      <td>1</td>\n",
       "      <td>also called \"smack,\" \"junk,\" or \"China White,\"...</td>\n",
       "      <td>-0.354488</td>\n",
       "      <td>Male</td>\n",
       "      <td>Black or African American</td>\n",
       "      <td>4</td>\n",
       "      <td>H51</td>\n",
       "      <td>2</td>\n",
       "      <td>3</td>\n",
       "      <td>0</td>\n",
       "      <td>State</td>\n",
       "      <td>0.588122</td>\n",
       "      <td>0.093962</td>\n",
       "    </tr>\n",
       "    <tr>\n",
       "      <th>55379</th>\n",
       "      <td>1</td>\n",
       "      <td>also called \"smack,\" \"junk,\" or \"China White,\"...</td>\n",
       "      <td>-0.323149</td>\n",
       "      <td>Male</td>\n",
       "      <td>White</td>\n",
       "      <td>0</td>\n",
       "      <td>H51</td>\n",
       "      <td>2</td>\n",
       "      <td>6</td>\n",
       "      <td>2</td>\n",
       "      <td>State</td>\n",
       "      <td>0.632794</td>\n",
       "      <td>0.082921</td>\n",
       "    </tr>\n",
       "    <tr>\n",
       "      <th>55380</th>\n",
       "      <td>1</td>\n",
       "      <td>used a needle to inject any illegal drug into ...</td>\n",
       "      <td>-0.398015</td>\n",
       "      <td>Total</td>\n",
       "      <td>Native Hawaiian or Other Pacific Islander</td>\n",
       "      <td>0</td>\n",
       "      <td>H57</td>\n",
       "      <td>0</td>\n",
       "      <td>5</td>\n",
       "      <td>2</td>\n",
       "      <td>Territory</td>\n",
       "      <td>-2.098345</td>\n",
       "      <td>4.156005</td>\n",
       "    </tr>\n",
       "    <tr>\n",
       "      <th>55381</th>\n",
       "      <td>1</td>\n",
       "      <td>also called \"smack,\" \"junk,\" or \"China White,\"...</td>\n",
       "      <td>-0.392792</td>\n",
       "      <td>Female</td>\n",
       "      <td>Black or African American</td>\n",
       "      <td>3</td>\n",
       "      <td>H51</td>\n",
       "      <td>1</td>\n",
       "      <td>3</td>\n",
       "      <td>1</td>\n",
       "      <td>State</td>\n",
       "      <td>-0.108658</td>\n",
       "      <td>-0.144612</td>\n",
       "    </tr>\n",
       "    <tr>\n",
       "      <th>55382</th>\n",
       "      <td>1</td>\n",
       "      <td>also called grass, pot, or weed</td>\n",
       "      <td>-0.388439</td>\n",
       "      <td>Female</td>\n",
       "      <td>Black or African American</td>\n",
       "      <td>0</td>\n",
       "      <td>H47</td>\n",
       "      <td>1</td>\n",
       "      <td>3</td>\n",
       "      <td>2</td>\n",
       "      <td>Local</td>\n",
       "      <td>0.450182</td>\n",
       "      <td>0.022169</td>\n",
       "    </tr>\n",
       "    <tr>\n",
       "      <th>55383</th>\n",
       "      <td>1</td>\n",
       "      <td>also called grass, pot, or weed, one or more t...</td>\n",
       "      <td>-0.324019</td>\n",
       "      <td>Male</td>\n",
       "      <td>Total</td>\n",
       "      <td>0</td>\n",
       "      <td>H48</td>\n",
       "      <td>2</td>\n",
       "      <td>0</td>\n",
       "      <td>2</td>\n",
       "      <td>State</td>\n",
       "      <td>0.346725</td>\n",
       "      <td>-0.320782</td>\n",
       "    </tr>\n",
       "    <tr>\n",
       "      <th>55384</th>\n",
       "      <td>0</td>\n",
       "      <td>at least one drink of alcohol, on at least 1 d...</td>\n",
       "      <td>-0.110738</td>\n",
       "      <td>Total</td>\n",
       "      <td>Total</td>\n",
       "      <td>1</td>\n",
       "      <td>H40</td>\n",
       "      <td>0</td>\n",
       "      <td>0</td>\n",
       "      <td>3</td>\n",
       "      <td>State</td>\n",
       "      <td>1.041221</td>\n",
       "      <td>-0.469624</td>\n",
       "    </tr>\n",
       "    <tr>\n",
       "      <th>55385</th>\n",
       "      <td>0</td>\n",
       "      <td>at least one drink of alcohol, on at least 1 d...</td>\n",
       "      <td>0.139977</td>\n",
       "      <td>Female</td>\n",
       "      <td>Total</td>\n",
       "      <td>4</td>\n",
       "      <td>H42</td>\n",
       "      <td>1</td>\n",
       "      <td>0</td>\n",
       "      <td>0</td>\n",
       "      <td>State</td>\n",
       "      <td>0.647921</td>\n",
       "      <td>-0.345422</td>\n",
       "    </tr>\n",
       "    <tr>\n",
       "      <th>55386</th>\n",
       "      <td>1</td>\n",
       "      <td>pills or shots, one or more times during their...</td>\n",
       "      <td>-0.330113</td>\n",
       "      <td>Male</td>\n",
       "      <td>Total</td>\n",
       "      <td>1</td>\n",
       "      <td>H55</td>\n",
       "      <td>2</td>\n",
       "      <td>0</td>\n",
       "      <td>3</td>\n",
       "      <td>Local</td>\n",
       "      <td>0.398155</td>\n",
       "      <td>-0.006349</td>\n",
       "    </tr>\n",
       "    <tr>\n",
       "      <th>55387</th>\n",
       "      <td>1</td>\n",
       "      <td>during the 12 months before the survey</td>\n",
       "      <td>-0.104644</td>\n",
       "      <td>Female</td>\n",
       "      <td>Native Hawaiian or Other Pacific Islander</td>\n",
       "      <td>4</td>\n",
       "      <td>H58</td>\n",
       "      <td>1</td>\n",
       "      <td>5</td>\n",
       "      <td>0</td>\n",
       "      <td>Territory</td>\n",
       "      <td>-1.632496</td>\n",
       "      <td>4.357254</td>\n",
       "    </tr>\n",
       "    <tr>\n",
       "      <th>55388</th>\n",
       "      <td>1</td>\n",
       "      <td>also called grass, pot, or weed</td>\n",
       "      <td>-0.181251</td>\n",
       "      <td>Female</td>\n",
       "      <td>Total</td>\n",
       "      <td>2</td>\n",
       "      <td>H47</td>\n",
       "      <td>1</td>\n",
       "      <td>0</td>\n",
       "      <td>4</td>\n",
       "      <td>State</td>\n",
       "      <td>0.799067</td>\n",
       "      <td>-0.266585</td>\n",
       "    </tr>\n",
       "    <tr>\n",
       "      <th>55389</th>\n",
       "      <td>0</td>\n",
       "      <td>other than a few sips</td>\n",
       "      <td>-0.398885</td>\n",
       "      <td>Total</td>\n",
       "      <td>Asian</td>\n",
       "      <td>4</td>\n",
       "      <td>H41</td>\n",
       "      <td>0</td>\n",
       "      <td>2</td>\n",
       "      <td>0</td>\n",
       "      <td>State</td>\n",
       "      <td>0.738743</td>\n",
       "      <td>0.074349</td>\n",
       "    </tr>\n",
       "    <tr>\n",
       "      <th>55390</th>\n",
       "      <td>1</td>\n",
       "      <td>also called \"speed,\" \"crystal,\" \"crank,\" or \"i...</td>\n",
       "      <td>-0.344041</td>\n",
       "      <td>Total</td>\n",
       "      <td>Black or African American</td>\n",
       "      <td>2</td>\n",
       "      <td>H52</td>\n",
       "      <td>0</td>\n",
       "      <td>3</td>\n",
       "      <td>4</td>\n",
       "      <td>Local</td>\n",
       "      <td>0.692665</td>\n",
       "      <td>-0.228943</td>\n",
       "    </tr>\n",
       "    <tr>\n",
       "      <th>55391</th>\n",
       "      <td>0</td>\n",
       "      <td>other than a few sips</td>\n",
       "      <td>-0.337948</td>\n",
       "      <td>Male</td>\n",
       "      <td>White</td>\n",
       "      <td>0</td>\n",
       "      <td>H41</td>\n",
       "      <td>2</td>\n",
       "      <td>6</td>\n",
       "      <td>2</td>\n",
       "      <td>State</td>\n",
       "      <td>0.741144</td>\n",
       "      <td>0.094398</td>\n",
       "    </tr>\n",
       "    <tr>\n",
       "      <th>55392</th>\n",
       "      <td>1</td>\n",
       "      <td>also called grass, pot, or weed</td>\n",
       "      <td>2.626229</td>\n",
       "      <td>Total</td>\n",
       "      <td>White</td>\n",
       "      <td>2</td>\n",
       "      <td>H47</td>\n",
       "      <td>0</td>\n",
       "      <td>6</td>\n",
       "      <td>4</td>\n",
       "      <td>State</td>\n",
       "      <td>0.738743</td>\n",
       "      <td>0.074349</td>\n",
       "    </tr>\n",
       "    <tr>\n",
       "      <th>55393</th>\n",
       "      <td>1</td>\n",
       "      <td>also called grass, pot, or weed, one or more t...</td>\n",
       "      <td>-0.402367</td>\n",
       "      <td>Female</td>\n",
       "      <td>White</td>\n",
       "      <td>2</td>\n",
       "      <td>H48</td>\n",
       "      <td>1</td>\n",
       "      <td>6</td>\n",
       "      <td>4</td>\n",
       "      <td>State</td>\n",
       "      <td>0.349060</td>\n",
       "      <td>-0.087163</td>\n",
       "    </tr>\n",
       "    <tr>\n",
       "      <th>55394</th>\n",
       "      <td>0</td>\n",
       "      <td>other than a few sips</td>\n",
       "      <td>-0.021943</td>\n",
       "      <td>Total</td>\n",
       "      <td>Total</td>\n",
       "      <td>0</td>\n",
       "      <td>H41</td>\n",
       "      <td>0</td>\n",
       "      <td>0</td>\n",
       "      <td>2</td>\n",
       "      <td>State</td>\n",
       "      <td>0.576681</td>\n",
       "      <td>0.071744</td>\n",
       "    </tr>\n",
       "    <tr>\n",
       "      <th>55395</th>\n",
       "      <td>1</td>\n",
       "      <td>also called grass, pot, or weed, one or more t...</td>\n",
       "      <td>0.025066</td>\n",
       "      <td>Female</td>\n",
       "      <td>Total</td>\n",
       "      <td>3</td>\n",
       "      <td>H48</td>\n",
       "      <td>1</td>\n",
       "      <td>0</td>\n",
       "      <td>1</td>\n",
       "      <td>State</td>\n",
       "      <td>0.582839</td>\n",
       "      <td>-0.454789</td>\n",
       "    </tr>\n",
       "    <tr>\n",
       "      <th>55396</th>\n",
       "      <td>0</td>\n",
       "      <td>other than a few sips</td>\n",
       "      <td>-0.330983</td>\n",
       "      <td>Female</td>\n",
       "      <td>Total</td>\n",
       "      <td>1</td>\n",
       "      <td>H41</td>\n",
       "      <td>1</td>\n",
       "      <td>0</td>\n",
       "      <td>3</td>\n",
       "      <td>Territory</td>\n",
       "      <td>-2.212007</td>\n",
       "      <td>4.893243</td>\n",
       "    </tr>\n",
       "    <tr>\n",
       "      <th>55397</th>\n",
       "      <td>0</td>\n",
       "      <td>at least one drink of alcohol, on at least 1 d...</td>\n",
       "      <td>0.470781</td>\n",
       "      <td>Total</td>\n",
       "      <td>Total</td>\n",
       "      <td>0</td>\n",
       "      <td>H40</td>\n",
       "      <td>0</td>\n",
       "      <td>0</td>\n",
       "      <td>2</td>\n",
       "      <td>State</td>\n",
       "      <td>-0.188203</td>\n",
       "      <td>-0.455992</td>\n",
       "    </tr>\n",
       "    <tr>\n",
       "      <th>55398</th>\n",
       "      <td>1</td>\n",
       "      <td>used a needle to inject any illegal drug into ...</td>\n",
       "      <td>-0.189957</td>\n",
       "      <td>Male</td>\n",
       "      <td>Hispanic or Latino</td>\n",
       "      <td>4</td>\n",
       "      <td>H57</td>\n",
       "      <td>2</td>\n",
       "      <td>4</td>\n",
       "      <td>0</td>\n",
       "      <td>Local</td>\n",
       "      <td>-0.113609</td>\n",
       "      <td>-0.404163</td>\n",
       "    </tr>\n",
       "  </tbody>\n",
       "</table>\n",
       "<p>55399 rows × 13 columns</p>\n",
       "</div>"
      ],
      "text/plain": [
       "       Subtopic                                        Description  \\\n",
       "0             1  any form of cocaine, such as powder, crack, or...   \n",
       "1             0  at least one drink of alcohol, on at least 1 d...   \n",
       "2             0                              other than a few sips   \n",
       "3             1  any form of cocaine, such as powder, crack, or...   \n",
       "4             1  pills or shots, one or more times during their...   \n",
       "5             1  sniffed glue, breathed the contents of aerosol...   \n",
       "6             0  at least one drink of alcohol, on at least 1 d...   \n",
       "7             0  at least one drink of alcohol, on at least 1 d...   \n",
       "8             1             during the 12 months before the survey   \n",
       "9             1  sniffed glue, breathed the contents of aerosol...   \n",
       "10            0                              other than a few sips   \n",
       "11            1  sniffed glue, breathed the contents of aerosol...   \n",
       "12            1  also called grass, pot, or weed, one or more t...   \n",
       "13            1  also called \"smack,\" \"junk,\" or \"China White,\"...   \n",
       "14            0                              other than a few sips   \n",
       "15            1  sniffed glue, breathed the contents of aerosol...   \n",
       "16            1  sniffed glue, breathed the contents of aerosol...   \n",
       "17            1             during the 12 months before the survey   \n",
       "18            1  pills or shots, one or more times during their...   \n",
       "19            0  at least one drink of alcohol, on at least 1 d...   \n",
       "20            0  at least one drink of alcohol, on at least 1 d...   \n",
       "21            0  at least one drink of alcohol, on at least 1 d...   \n",
       "22            1  also called \"smack,\" \"junk,\" or \"China White,\"...   \n",
       "23            1  also called grass, pot, or weed, one or more t...   \n",
       "24            1  pills or shots, one or more times during their...   \n",
       "25            1  also called \"smack,\" \"junk,\" or \"China White,\"...   \n",
       "26            0  at least one drink of alcohol, on at least 1 d...   \n",
       "27            1  any form of cocaine, such as powder, crack, or...   \n",
       "28            1  also called \"K2,\" \"Spice,\" \"fake weed,\" \"King ...   \n",
       "29            1  pills or shots, one or more times during their...   \n",
       "...         ...                                                ...   \n",
       "55369         1                    also called grass, pot, or weed   \n",
       "55370         0  during the 30 days before the survey, among st...   \n",
       "55371         1  pills or shots, one or more times during their...   \n",
       "55372         0  at least one drink of alcohol, on at least 1 d...   \n",
       "55373         0  at least one drink of alcohol, on at least 1 d...   \n",
       "55374         1  also called \"smack,\" \"junk,\" or \"China White,\"...   \n",
       "55375         0  at least one drink of alcohol, on at least 1 d...   \n",
       "55376         0  at least one drink of alcohol, on at least 1 d...   \n",
       "55377         0  within a couple of hours, during the 30 days b...   \n",
       "55378         1  also called \"smack,\" \"junk,\" or \"China White,\"...   \n",
       "55379         1  also called \"smack,\" \"junk,\" or \"China White,\"...   \n",
       "55380         1  used a needle to inject any illegal drug into ...   \n",
       "55381         1  also called \"smack,\" \"junk,\" or \"China White,\"...   \n",
       "55382         1                    also called grass, pot, or weed   \n",
       "55383         1  also called grass, pot, or weed, one or more t...   \n",
       "55384         0  at least one drink of alcohol, on at least 1 d...   \n",
       "55385         0  at least one drink of alcohol, on at least 1 d...   \n",
       "55386         1  pills or shots, one or more times during their...   \n",
       "55387         1             during the 12 months before the survey   \n",
       "55388         1                    also called grass, pot, or weed   \n",
       "55389         0                              other than a few sips   \n",
       "55390         1  also called \"speed,\" \"crystal,\" \"crank,\" or \"i...   \n",
       "55391         0                              other than a few sips   \n",
       "55392         1                    also called grass, pot, or weed   \n",
       "55393         1  also called grass, pot, or weed, one or more t...   \n",
       "55394         0                              other than a few sips   \n",
       "55395         1  also called grass, pot, or weed, one or more t...   \n",
       "55396         0                              other than a few sips   \n",
       "55397         0  at least one drink of alcohol, on at least 1 d...   \n",
       "55398         1  used a needle to inject any illegal drug into ...   \n",
       "\n",
       "       Sample_Size     Sex                                       Race  Grade  \\\n",
       "0        -0.201274  Female                         Hispanic or Latino      4   \n",
       "1        -0.160358   Total                  Black or African American      4   \n",
       "2        -0.322278  Female                                      White      0   \n",
       "3        -0.402367    Male                                      Asian      4   \n",
       "4        -0.405850  Female                              Multiple Race      4   \n",
       "5        -0.398885    Male                  Black or African American      3   \n",
       "6        -0.292680  Female                                      Total      1   \n",
       "7        -0.336207    Male                                      Total      1   \n",
       "8        -0.121184   Total                                      Total      1   \n",
       "9        -0.219555   Total                                      Total      1   \n",
       "10       -0.395403    Male                                      Asian      2   \n",
       "11       -0.407591    Male                                      Asian      4   \n",
       "12        0.182633   Total                                      White      0   \n",
       "13       -0.182122  Female                  Black or African American      3   \n",
       "14        0.279263   Total                                      White      3   \n",
       "15       -0.366675    Male                                      White      1   \n",
       "16       -0.226519   Total                  Black or African American      4   \n",
       "17       -0.114220   Total  Native Hawaiian or Other Pacific Islander      3   \n",
       "18       -0.245671   Total                                      Total      2   \n",
       "19        1.377879    Male                                      Total      4   \n",
       "20        0.466428   Total                                      White      4   \n",
       "21       -0.215202  Female                  Black or African American      4   \n",
       "22       -0.367546    Male                                      Total      1   \n",
       "23       -0.379733   Total                  Black or African American      3   \n",
       "24       -0.196050   Total                                      Total      1   \n",
       "25       -0.314443   Total                                      White      0   \n",
       "26        0.211361  Female                                      Total      1   \n",
       "27        0.296673    Male                                      Total      3   \n",
       "28        1.054910  Female                                      Total      1   \n",
       "29       -0.178640  Female                                      Total      1   \n",
       "...            ...     ...                                        ...    ...   \n",
       "55369    -0.209108   Total                                      Total      2   \n",
       "55370    -0.161229   Total                         Hispanic or Latino      3   \n",
       "55371    -0.401497    Male                  Black or African American      3   \n",
       "55372     0.267946  Female                                      Total      4   \n",
       "55373    -0.344912    Male                         Hispanic or Latino      3   \n",
       "55374     0.064240    Male                                      White      1   \n",
       "55375    -0.095068   Total                                      Total      3   \n",
       "55376     2.487813   Total                                      Total      3   \n",
       "55377    -0.277881  Female                                      Total      1   \n",
       "55378    -0.354488    Male                  Black or African American      4   \n",
       "55379    -0.323149    Male                                      White      0   \n",
       "55380    -0.398015   Total  Native Hawaiian or Other Pacific Islander      0   \n",
       "55381    -0.392792  Female                  Black or African American      3   \n",
       "55382    -0.388439  Female                  Black or African American      0   \n",
       "55383    -0.324019    Male                                      Total      0   \n",
       "55384    -0.110738   Total                                      Total      1   \n",
       "55385     0.139977  Female                                      Total      4   \n",
       "55386    -0.330113    Male                                      Total      1   \n",
       "55387    -0.104644  Female  Native Hawaiian or Other Pacific Islander      4   \n",
       "55388    -0.181251  Female                                      Total      2   \n",
       "55389    -0.398885   Total                                      Asian      4   \n",
       "55390    -0.344041   Total                  Black or African American      2   \n",
       "55391    -0.337948    Male                                      White      0   \n",
       "55392     2.626229   Total                                      White      2   \n",
       "55393    -0.402367  Female                                      White      2   \n",
       "55394    -0.021943   Total                                      Total      0   \n",
       "55395     0.025066  Female                                      Total      3   \n",
       "55396    -0.330983  Female                                      Total      1   \n",
       "55397     0.470781   Total                                      Total      0   \n",
       "55398    -0.189957    Male                         Hispanic or Latino      4   \n",
       "\n",
       "      QuestionCode  StratID1  StratID2  StratID3 StratificationType  latitude  \\\n",
       "0              H49         1         4         0              Local -0.350586   \n",
       "1              H42         0         3         0              Local -0.350586   \n",
       "2              H41         1         6         2              State  0.414092   \n",
       "3              H49         2         2         0              State  0.516268   \n",
       "4              H55         1         7         0              Local  0.279090   \n",
       "5              H50         2         3         1              Local  0.450182   \n",
       "6              H42         1         0         3              Local -0.118396   \n",
       "7              H42         2         0         3              State  0.403679   \n",
       "8              H58         0         0         3              State  0.349060   \n",
       "9              H50         0         0         3              State -1.014916   \n",
       "10             H41         2         2         4              Local  0.509908   \n",
       "11             H50         2         2         0          Territory -1.632496   \n",
       "12             H46         0         6         2              State  1.009103   \n",
       "13             H51         1         3         1              State  0.676016   \n",
       "14             H41         0         6         1              State  1.009103   \n",
       "15             H50         2         6         3              Local  0.509908   \n",
       "16             H50         0         3         0              State  0.820133   \n",
       "17             H58         0         5         1          Territory -2.212007   \n",
       "18             H55         0         0         4              Local  0.515430   \n",
       "19             H42         2         0         0              State  0.403679   \n",
       "20             H42         0         6         0              State  0.576681   \n",
       "21             H40         1         3         0              State -0.108658   \n",
       "22             H51         2         0         3              Local -0.631097   \n",
       "23             H48         0         3         1              State  0.346725   \n",
       "24             H55         0         0         3              State  0.647921   \n",
       "25             H51         0         6         2              State  0.398170   \n",
       "26             H42         1         0         3              State -1.014916   \n",
       "27             H49         2         0         1              State -0.017588   \n",
       "28             H54         1         0         3           National -2.688775   \n",
       "29             H55         1         0         3              Local -0.681261   \n",
       "...            ...       ...       ...       ...                ...       ...   \n",
       "55369          H47         0         0         4              Local  0.637080   \n",
       "55370          H43         0         4         1           National -2.688775   \n",
       "55371          H55         2         3         1              State -0.108658   \n",
       "55372          H40         1         0         0              State  0.403679   \n",
       "55373          H42         2         4         1              State  0.050541   \n",
       "55374          H51         2         6         3              State  0.738743   \n",
       "55375          H40         0         0         1              State -0.108658   \n",
       "55376          H40         0         0         1           National -2.688775   \n",
       "55377          H45         1         0         3              State  0.114571   \n",
       "55378          H51         2         3         0              State  0.588122   \n",
       "55379          H51         2         6         2              State  0.632794   \n",
       "55380          H57         0         5         2          Territory -2.098345   \n",
       "55381          H51         1         3         1              State -0.108658   \n",
       "55382          H47         1         3         2              Local  0.450182   \n",
       "55383          H48         2         0         2              State  0.346725   \n",
       "55384          H40         0         0         3              State  1.041221   \n",
       "55385          H42         1         0         0              State  0.647921   \n",
       "55386          H55         2         0         3              Local  0.398155   \n",
       "55387          H58         1         5         0          Territory -1.632496   \n",
       "55388          H47         1         0         4              State  0.799067   \n",
       "55389          H41         0         2         0              State  0.738743   \n",
       "55390          H52         0         3         4              Local  0.692665   \n",
       "55391          H41         2         6         2              State  0.741144   \n",
       "55392          H47         0         6         4              State  0.738743   \n",
       "55393          H48         1         6         4              State  0.349060   \n",
       "55394          H41         0         0         2              State  0.576681   \n",
       "55395          H48         1         0         1              State  0.582839   \n",
       "55396          H41         1         0         3          Territory -2.212007   \n",
       "55397          H40         0         0         2              State -0.188203   \n",
       "55398          H57         2         4         0              Local -0.113609   \n",
       "\n",
       "       longitude  \n",
       "0      -0.376035  \n",
       "1      -0.376035  \n",
       "2      -0.803752  \n",
       "3      -0.030955  \n",
       "4      -0.909146  \n",
       "5       0.022169  \n",
       "6      -0.805511  \n",
       "7      -0.695656  \n",
       "8      -0.087163  \n",
       "9      -1.607586  \n",
       "10      0.045017  \n",
       "11      4.357254  \n",
       "12     -0.653032  \n",
       "13      0.014704  \n",
       "14     -0.653032  \n",
       "15      0.045017  \n",
       "16     -0.166032  \n",
       "17      4.893243  \n",
       "18      0.045700  \n",
       "19     -0.695656  \n",
       "20      0.071744  \n",
       "21     -0.144612  \n",
       "22     -0.080329  \n",
       "23     -0.320782  \n",
       "24     -0.345422  \n",
       "25     -0.006291  \n",
       "26     -1.607586  \n",
       "27     -0.093721  \n",
       "28      1.503571  \n",
       "29     -0.085587  \n",
       "...          ...  \n",
       "55369  -0.133145  \n",
       "55370   1.503571  \n",
       "55371  -0.144612  \n",
       "55372  -0.695656  \n",
       "55373  -0.699138  \n",
       "55374   0.074349  \n",
       "55375  -0.144612  \n",
       "55376   1.503571  \n",
       "55377  -0.186925  \n",
       "55378   0.093962  \n",
       "55379   0.082921  \n",
       "55380   4.156005  \n",
       "55381  -0.144612  \n",
       "55382   0.022169  \n",
       "55383  -0.320782  \n",
       "55384  -0.469624  \n",
       "55385  -0.345422  \n",
       "55386  -0.006349  \n",
       "55387   4.357254  \n",
       "55388  -0.266585  \n",
       "55389   0.074349  \n",
       "55390  -0.228943  \n",
       "55391   0.094398  \n",
       "55392   0.074349  \n",
       "55393  -0.087163  \n",
       "55394   0.071744  \n",
       "55395  -0.454789  \n",
       "55396   4.893243  \n",
       "55397  -0.455992  \n",
       "55398  -0.404163  \n",
       "\n",
       "[55399 rows x 13 columns]"
      ]
     },
     "execution_count": 38,
     "metadata": {
      "tags": []
     },
     "output_type": "execute_result"
    }
   ],
   "source": [
    "X"
   ]
  },
  {
   "cell_type": "code",
   "execution_count": null,
   "metadata": {
    "colab": {},
    "colab_type": "code",
    "id": "1JjQLl5Wb4yG"
   },
   "outputs": [],
   "source": [
    "import tensorflow as tf"
   ]
  },
  {
   "cell_type": "code",
   "execution_count": null,
   "metadata": {
    "colab": {},
    "colab_type": "code",
    "id": "FH_HdDBib6Qb"
   },
   "outputs": [],
   "source": [
    "tf.keras.backend.clear_session()"
   ]
  },
  {
   "cell_type": "code",
   "execution_count": null,
   "metadata": {
    "colab": {},
    "colab_type": "code",
    "id": "r5xrSvQcbzGV"
   },
   "outputs": [],
   "source": [
    "#Input layer for Continuous value columns\n",
    "input_1 = tf.keras.layers.Input(shape=(3,))"
   ]
  },
  {
   "cell_type": "code",
   "execution_count": null,
   "metadata": {
    "colab": {},
    "colab_type": "code",
    "id": "hw0NAEGRb9-5"
   },
   "outputs": [],
   "source": [
    "#Subtopic column\n",
    "input_2 = tf.keras.layers.Input(shape=(1,))\n",
    "embed_2 = tf.keras.layers.Embedding(input_dim=2, \n",
    "                                    output_dim=5, \n",
    "                                    input_length=1\n",
    "                                   )(input_2)"
   ]
  },
  {
   "cell_type": "code",
   "execution_count": null,
   "metadata": {
    "colab": {},
    "colab_type": "code",
    "id": "gyouzxxNg7Kk"
   },
   "outputs": [],
   "source": [
    "#Sex column\n",
    "input_3 = tf.keras.layers.Input(shape=(1,))\n",
    "embed_3 = tf.keras.layers.Embedding(input_dim=3, \n",
    "                                    output_dim=5, \n",
    "                                    input_length=1\n",
    "                                   )(input_3)"
   ]
  },
  {
   "cell_type": "code",
   "execution_count": null,
   "metadata": {
    "colab": {},
    "colab_type": "code",
    "id": "ba5oeRPMg7RJ"
   },
   "outputs": [],
   "source": [
    "#Race column\n",
    "input_5 = tf.keras.layers.Input(shape=(1,))\n",
    "embed_5 = tf.keras.layers.Embedding(input_dim=8, \n",
    "                                    output_dim=10, \n",
    "                                    input_length=1\n",
    "                                   )(input_5)"
   ]
  },
  {
   "cell_type": "code",
   "execution_count": null,
   "metadata": {
    "colab": {},
    "colab_type": "code",
    "id": "U4GxAlemg7WZ"
   },
   "outputs": [],
   "source": [
    "#Grade column\n",
    "input_6 = tf.keras.layers.Input(shape=(1,))\n",
    "embed_6 = tf.keras.layers.Embedding(input_dim=5, \n",
    "                                    output_dim=10, \n",
    "                                    input_length=1\n",
    "                                   )(input_6)"
   ]
  },
  {
   "cell_type": "code",
   "execution_count": null,
   "metadata": {
    "colab": {},
    "colab_type": "code",
    "id": "B4DxH8DJg7b2"
   },
   "outputs": [],
   "source": [
    "#QuestionCode column\n",
    "input_7 = tf.keras.layers.Input(shape=(1,))\n",
    "embed_7 = tf.keras.layers.Embedding(input_dim=20, \n",
    "                                    output_dim=20, \n",
    "                                    input_length=1\n",
    "                                   )(input_7)"
   ]
  },
  {
   "cell_type": "code",
   "execution_count": null,
   "metadata": {
    "colab": {},
    "colab_type": "code",
    "id": "yHj5GVMsg7hG"
   },
   "outputs": [],
   "source": [
    "#StratID1 column\n",
    "input_8 = tf.keras.layers.Input(shape=(1,))\n",
    "embed_8 = tf.keras.layers.Embedding(input_dim=3, \n",
    "                                    output_dim=5, \n",
    "                                    input_length=1\n",
    "                                   )(input_8)"
   ]
  },
  {
   "cell_type": "code",
   "execution_count": null,
   "metadata": {
    "colab": {},
    "colab_type": "code",
    "id": "ikQVZYfKg7lu"
   },
   "outputs": [],
   "source": [
    "#StratID2 column\n",
    "input_9 = tf.keras.layers.Input(shape=(1,))\n",
    "embed_9 = tf.keras.layers.Embedding(input_dim=8, \n",
    "                                    output_dim=10, \n",
    "                                    input_length=1\n",
    "                                   )(input_9)"
   ]
  },
  {
   "cell_type": "code",
   "execution_count": null,
   "metadata": {
    "colab": {},
    "colab_type": "code",
    "id": "_gV4eEIzg7rF"
   },
   "outputs": [],
   "source": [
    "#StratID3 column\n",
    "input_10 = tf.keras.layers.Input(shape=(1,))\n",
    "embed_10 = tf.keras.layers.Embedding(input_dim=5, \n",
    "                                    output_dim=5, \n",
    "                                    input_length=1\n",
    "                                   )(input_10)"
   ]
  },
  {
   "cell_type": "code",
   "execution_count": null,
   "metadata": {
    "colab": {},
    "colab_type": "code",
    "id": "src3i3P0g7wZ"
   },
   "outputs": [],
   "source": [
    "#StratificationType column\n",
    "input_11 = tf.keras.layers.Input(shape=(1,))\n",
    "embed_11 = tf.keras.layers.Embedding(input_dim=5, \n",
    "                                    output_dim=5, \n",
    "                                    input_length=1\n",
    "                                   )(input_11)"
   ]
  },
  {
   "cell_type": "code",
   "execution_count": 274,
   "metadata": {
    "colab": {
     "base_uri": "https://localhost:8080/",
     "height": 34
    },
    "colab_type": "code",
    "id": "UO0O6GFHmJtp",
    "outputId": "d1b3bfc3-6780-4bfa-e2ba-b6caf5ef2981"
   },
   "outputs": [
    {
     "data": {
      "text/plain": [
       "TensorShape([Dimension(None), Dimension(1), Dimension(5)])"
      ]
     },
     "execution_count": 274,
     "metadata": {
      "tags": []
     },
     "output_type": "execute_result"
    }
   ],
   "source": [
    "embed_11.shape"
   ]
  },
  {
   "cell_type": "code",
   "execution_count": null,
   "metadata": {
    "colab": {},
    "colab_type": "code",
    "id": "AIXUDgewjGpP"
   },
   "outputs": [],
   "source": [
    "# Text Embidding for Description column\n",
    "\n",
    "#Description\n",
    "\n",
    "from tensorflow.python.keras.preprocessing.text import Tokenizer\n",
    "from tensorflow.python.keras.layers import Dense, Input, LSTM, Embedding, Dropout, Activation,GRU\n",
    "from tensorflow.python.keras.layers import Bidirectional, GlobalMaxPool1D\n",
    "from tensorflow.python.keras.models import Model\n",
    "from tensorflow.python.keras import initializers, regularizers, constraints, optimizers, layers\n",
    "\n",
    "#Vocab size\n",
    "top_words = 500\n",
    "\n",
    "t = Tokenizer(num_words=top_words)\n",
    "t.fit_on_texts(X.Description.tolist())\n",
    "\n",
    "#Get the word index for each of the word in the review\n",
    "desc = t.texts_to_sequences(X.Description.tolist())\n"
   ]
  },
  {
   "cell_type": "code",
   "execution_count": 276,
   "metadata": {
    "colab": {
     "base_uri": "https://localhost:8080/",
     "height": 34
    },
    "colab_type": "code",
    "id": "jUSFtUuskim1",
    "outputId": "af0ff307-0d1e-451c-b77d-a40daab3fcd6"
   },
   "outputs": [
    {
     "data": {
      "text/plain": [
       "18"
      ]
     },
     "execution_count": 276,
     "metadata": {
      "tags": []
     },
     "output_type": "execute_result"
    }
   ],
   "source": [
    "len(desc[1])"
   ]
  },
  {
   "cell_type": "code",
   "execution_count": null,
   "metadata": {
    "colab": {},
    "colab_type": "code",
    "id": "ok69atDtkt2v"
   },
   "outputs": [],
   "source": [
    "from tensorflow.python.keras.preprocessing import sequence\n",
    "\n",
    "#Each review size\n",
    "max_review_length = 100\n",
    "\n",
    "desc = sequence.pad_sequences(desc,maxlen=max_review_length,padding='post')\n"
   ]
  },
  {
   "cell_type": "code",
   "execution_count": null,
   "metadata": {
    "colab": {},
    "colab_type": "code",
    "id": "qkb5TnVTk5hP"
   },
   "outputs": [],
   "source": [
    "input_12 = tf.keras.layers.Input(shape=(max_review_length,))\n",
    "embed_12 = tf.keras.layers.Embedding(top_words, 20,   input_length=max_review_length)(input_12)\n",
    "#embed_12 = Bidirectional(GRU(128, dropout=0.3, recurrent_dropout=0.3, kernel_regularizer=regularizers.l2(0.01)))(embed_12)"
   ]
  },
  {
   "cell_type": "code",
   "execution_count": null,
   "metadata": {
    "colab": {},
    "colab_type": "code",
    "id": "Sl2NCe-klkRI"
   },
   "outputs": [],
   "source": [
    "embedding=tf.keras.layers.Flatten()(embed_12)"
   ]
  },
  {
   "cell_type": "code",
   "execution_count": null,
   "metadata": {
    "colab": {},
    "colab_type": "code",
    "id": "UJRinmRKmDhe"
   },
   "outputs": [],
   "source": [
    "x1 = tf.keras.layers.concatenate([embed_2, embed_3, embed_5, embed_6,embed_7, embed_8, embed_9, embed_10, embed_11])\n",
    "\n",
    "#x1 = tf.keras.layers.concatenate([embed_2, embed_3])\n",
    "\n",
    "#x1=tf.keras.layers.Flatten()(embed_2)"
   ]
  },
  {
   "cell_type": "code",
   "execution_count": null,
   "metadata": {
    "colab": {},
    "colab_type": "code",
    "id": "l14385FSvzrB"
   },
   "outputs": [],
   "source": [
    "embed_2=tf.keras.layers.Flatten()(embed_2)"
   ]
  },
  {
   "cell_type": "code",
   "execution_count": null,
   "metadata": {
    "colab": {},
    "colab_type": "code",
    "id": "4aOpuJtUnplY"
   },
   "outputs": [],
   "source": [
    "x1=tf.keras.layers.Flatten()(x1)"
   ]
  },
  {
   "cell_type": "code",
   "execution_count": 111,
   "metadata": {
    "colab": {
     "base_uri": "https://localhost:8080/",
     "height": 34
    },
    "colab_type": "code",
    "id": "kZUw0OaEwJRX",
    "outputId": "8b12c1a6-e0c5-44e4-aa20-991d46f6b8cf"
   },
   "outputs": [
    {
     "data": {
      "text/plain": [
       "tensorflow.python.framework.ops.Tensor"
      ]
     },
     "execution_count": 111,
     "metadata": {
      "tags": []
     },
     "output_type": "execute_result"
    }
   ],
   "source": [
    "type(x1)"
   ]
  },
  {
   "cell_type": "code",
   "execution_count": 97,
   "metadata": {
    "colab": {
     "base_uri": "https://localhost:8080/",
     "height": 34
    },
    "colab_type": "code",
    "id": "07swpYndn1wo",
    "outputId": "6bd21fe3-06e4-4dda-80d5-d2cd682303c9"
   },
   "outputs": [
    {
     "data": {
      "text/plain": [
       "TensorShape([Dimension(None), Dimension(10)])"
      ]
     },
     "execution_count": 97,
     "metadata": {
      "tags": []
     },
     "output_type": "execute_result"
    }
   ],
   "source": [
    "x1.shape"
   ]
  },
  {
   "cell_type": "code",
   "execution_count": 98,
   "metadata": {
    "colab": {
     "base_uri": "https://localhost:8080/",
     "height": 34
    },
    "colab_type": "code",
    "id": "1Xnt_yH6n31p",
    "outputId": "8a971cf2-41f8-43b8-aace-754af0631bee"
   },
   "outputs": [
    {
     "data": {
      "text/plain": [
       "TensorShape([Dimension(None), Dimension(3)])"
      ]
     },
     "execution_count": 98,
     "metadata": {
      "tags": []
     },
     "output_type": "execute_result"
    }
   ],
   "source": [
    "input_1.shape"
   ]
  },
  {
   "cell_type": "code",
   "execution_count": null,
   "metadata": {
    "colab": {},
    "colab_type": "code",
    "id": "3QqAEvC7n_V8"
   },
   "outputs": [],
   "source": [
    "x = tf.keras.layers.concatenate([input_1, x1,embedding])\n",
    "#x = tf.keras.layers.concatenate([input_1, embed_2])\n",
    "\n",
    "#x  = tf.keras.layers.concatenate([ x1,embedding])"
   ]
  },
  {
   "cell_type": "code",
   "execution_count": null,
   "metadata": {
    "colab": {},
    "colab_type": "code",
    "id": "Phu_jDkuoFcU"
   },
   "outputs": [],
   "source": [
    "initialization=tf.keras.initializers.he_uniform(1)"
   ]
  },
  {
   "cell_type": "code",
   "execution_count": null,
   "metadata": {
    "colab": {},
    "colab_type": "code",
    "id": "3jK67XU4oGrY"
   },
   "outputs": [],
   "source": [
    "#Add hidden layers with dropout\n",
    "\n",
    "x= tf.keras.layers.BatchNormalization()(x)\n",
    "\n",
    "x = tf.keras.layers.Dense(30, activation='relu')(x)\n",
    "x= tf.keras.layers.BatchNormalization()(x)"
   ]
  },
  {
   "cell_type": "code",
   "execution_count": null,
   "metadata": {
    "colab": {},
    "colab_type": "code",
    "id": "Jx6uL0GNqaRU"
   },
   "outputs": [],
   "source": [
    "#tf.keras.layers.Dense"
   ]
  },
  {
   "cell_type": "code",
   "execution_count": null,
   "metadata": {
    "colab": {},
    "colab_type": "code",
    "id": "jSqFjzMuoQeQ"
   },
   "outputs": [],
   "source": [
    "# Add output \n",
    "model_output = tf.keras.layers.Dense(1)(x)"
   ]
  },
  {
   "cell_type": "code",
   "execution_count": null,
   "metadata": {
    "colab": {},
    "colab_type": "code",
    "id": "KT_-b6ceoQg8"
   },
   "outputs": [],
   "source": [
    "model = tf.keras.Model(inputs=[input_1, input_2, input_3, input_5, input_6,input_7, input_8, input_9, input_10, input_11,input_12], \n",
    "                       outputs=model_output)\n",
    "\n",
    "#model = tf.keras.Model(inputs=[input_2,input_12], outputs=model_output)"
   ]
  },
  {
   "cell_type": "markdown",
   "metadata": {
    "colab_type": "text",
    "id": "CNKyw23bsTz-"
   },
   "source": []
  },
  {
   "cell_type": "code",
   "execution_count": null,
   "metadata": {
    "colab": {},
    "colab_type": "code",
    "id": "XVpj2mCXoQm3"
   },
   "outputs": [],
   "source": [
    "model.compile(optimizer='adam', loss='mse')"
   ]
  },
  {
   "cell_type": "code",
   "execution_count": 294,
   "metadata": {
    "colab": {
     "base_uri": "https://localhost:8080/",
     "height": 1350
    },
    "colab_type": "code",
    "id": "zJYhIfcRo-uT",
    "outputId": "270c4bbb-9dc1-4de9-e2a5-ed943d3fcf6d"
   },
   "outputs": [
    {
     "name": "stdout",
     "output_type": "stream",
     "text": [
      "__________________________________________________________________________________________________\n",
      "Layer (type)                    Output Shape         Param #     Connected to                     \n",
      "==================================================================================================\n",
      "input_13 (InputLayer)           (None, 1)            0                                            \n",
      "__________________________________________________________________________________________________\n",
      "input_14 (InputLayer)           (None, 1)            0                                            \n",
      "__________________________________________________________________________________________________\n",
      "input_15 (InputLayer)           (None, 1)            0                                            \n",
      "__________________________________________________________________________________________________\n",
      "input_16 (InputLayer)           (None, 1)            0                                            \n",
      "__________________________________________________________________________________________________\n",
      "input_17 (InputLayer)           (None, 1)            0                                            \n",
      "__________________________________________________________________________________________________\n",
      "input_18 (InputLayer)           (None, 1)            0                                            \n",
      "__________________________________________________________________________________________________\n",
      "input_19 (InputLayer)           (None, 1)            0                                            \n",
      "__________________________________________________________________________________________________\n",
      "input_20 (InputLayer)           (None, 1)            0                                            \n",
      "__________________________________________________________________________________________________\n",
      "input_21 (InputLayer)           (None, 1)            0                                            \n",
      "__________________________________________________________________________________________________\n",
      "embedding_11 (Embedding)        (None, 1, 5)         10          input_13[0][0]                   \n",
      "__________________________________________________________________________________________________\n",
      "embedding_12 (Embedding)        (None, 1, 5)         15          input_14[0][0]                   \n",
      "__________________________________________________________________________________________________\n",
      "embedding_13 (Embedding)        (None, 1, 10)        80          input_15[0][0]                   \n",
      "__________________________________________________________________________________________________\n",
      "embedding_14 (Embedding)        (None, 1, 10)        50          input_16[0][0]                   \n",
      "__________________________________________________________________________________________________\n",
      "embedding_15 (Embedding)        (None, 1, 20)        400         input_17[0][0]                   \n",
      "__________________________________________________________________________________________________\n",
      "embedding_16 (Embedding)        (None, 1, 5)         15          input_18[0][0]                   \n",
      "__________________________________________________________________________________________________\n",
      "embedding_17 (Embedding)        (None, 1, 10)        80          input_19[0][0]                   \n",
      "__________________________________________________________________________________________________\n",
      "embedding_18 (Embedding)        (None, 1, 5)         25          input_20[0][0]                   \n",
      "__________________________________________________________________________________________________\n",
      "embedding_19 (Embedding)        (None, 1, 5)         25          input_21[0][0]                   \n",
      "__________________________________________________________________________________________________\n",
      "input_22 (InputLayer)           (None, 100)          0                                            \n",
      "__________________________________________________________________________________________________\n",
      "concatenate_18 (Concatenate)    (None, 1, 75)        0           embedding_11[0][0]               \n",
      "                                                                 embedding_12[0][0]               \n",
      "                                                                 embedding_13[0][0]               \n",
      "                                                                 embedding_14[0][0]               \n",
      "                                                                 embedding_15[0][0]               \n",
      "                                                                 embedding_16[0][0]               \n",
      "                                                                 embedding_17[0][0]               \n",
      "                                                                 embedding_18[0][0]               \n",
      "                                                                 embedding_19[0][0]               \n",
      "__________________________________________________________________________________________________\n",
      "embedding_20 (Embedding)        (None, 100, 20)      10000       input_22[0][0]                   \n",
      "__________________________________________________________________________________________________\n",
      "input_1 (InputLayer)            (None, 3)            0                                            \n",
      "__________________________________________________________________________________________________\n",
      "flatten_12 (Flatten)            (None, 75)           0           concatenate_18[0][0]             \n",
      "__________________________________________________________________________________________________\n",
      "flatten_11 (Flatten)            (None, 2000)         0           embedding_20[0][0]               \n",
      "__________________________________________________________________________________________________\n",
      "concatenate_20 (Concatenate)    (None, 2078)         0           input_1[0][0]                    \n",
      "                                                                 flatten_12[0][0]                 \n",
      "                                                                 flatten_11[0][0]                 \n",
      "__________________________________________________________________________________________________\n",
      "batch_normalization_v1_54 (Batc (None, 2078)         8312        concatenate_20[0][0]             \n",
      "__________________________________________________________________________________________________\n",
      "dense_53 (Dense)                (None, 30)           62370       batch_normalization_v1_54[0][0]  \n",
      "__________________________________________________________________________________________________\n",
      "batch_normalization_v1_55 (Batc (None, 30)           120         dense_53[0][0]                   \n",
      "__________________________________________________________________________________________________\n",
      "dense_54 (Dense)                (None, 1)            31          batch_normalization_v1_55[0][0]  \n",
      "==================================================================================================\n",
      "Total params: 81,533\n",
      "Trainable params: 77,317\n",
      "Non-trainable params: 4,216\n",
      "__________________________________________________________________________________________________\n"
     ]
    }
   ],
   "source": [
    "#Check Model\n",
    "model.summary()"
   ]
  },
  {
   "cell_type": "code",
   "execution_count": null,
   "metadata": {
    "colab": {},
    "colab_type": "code",
    "id": "KAcZfIU9VK2Z"
   },
   "outputs": [],
   "source": [
    "callbacks = tf.keras.callbacks.EarlyStopping(monitor='val_loss', patience=20)"
   ]
  },
  {
   "cell_type": "code",
   "execution_count": 296,
   "metadata": {
    "colab": {
     "base_uri": "https://localhost:8080/",
     "height": 3607
    },
    "colab_type": "code",
    "id": "pZcwRC7TpCF4",
    "outputId": "f974ce76-665b-4cb0-8e01-7aaacd67ed78"
   },
   "outputs": [
    {
     "name": "stdout",
     "output_type": "stream",
     "text": [
      "Train on 44319 samples, validate on 11080 samples\n",
      "Epoch 1/100\n",
      "44319/44319 [==============================] - 7s 161us/sample - loss: 530.5559 - val_loss: 607.6071\n",
      "Epoch 2/100\n",
      "44319/44319 [==============================] - 4s 94us/sample - loss: 134.3713 - val_loss: 56.5946\n",
      "Epoch 3/100\n",
      "44319/44319 [==============================] - 4s 85us/sample - loss: 57.5149 - val_loss: 57.6516\n",
      "Epoch 4/100\n",
      "44319/44319 [==============================] - 4s 84us/sample - loss: 55.1796 - val_loss: 57.9398\n",
      "Epoch 5/100\n",
      "44319/44319 [==============================] - 4s 84us/sample - loss: 54.2456 - val_loss: 53.4465\n",
      "Epoch 6/100\n",
      "44319/44319 [==============================] - 4s 84us/sample - loss: 53.8207 - val_loss: 56.8835\n",
      "Epoch 7/100\n",
      "44319/44319 [==============================] - 4s 83us/sample - loss: 53.3544 - val_loss: 52.3185\n",
      "Epoch 8/100\n",
      "44319/44319 [==============================] - 4s 84us/sample - loss: 52.2344 - val_loss: 53.8075\n",
      "Epoch 9/100\n",
      "44319/44319 [==============================] - 4s 83us/sample - loss: 52.0921 - val_loss: 51.6361\n",
      "Epoch 10/100\n",
      "44319/44319 [==============================] - 4s 88us/sample - loss: 51.7215 - val_loss: 51.7398\n",
      "Epoch 11/100\n",
      "44319/44319 [==============================] - 4s 96us/sample - loss: 51.0607 - val_loss: 52.8486\n",
      "Epoch 12/100\n",
      "44319/44319 [==============================] - 4s 97us/sample - loss: 50.6086 - val_loss: 49.7196\n",
      "Epoch 13/100\n",
      "44319/44319 [==============================] - 4s 85us/sample - loss: 50.4714 - val_loss: 51.8735\n",
      "Epoch 14/100\n",
      "44319/44319 [==============================] - 4s 83us/sample - loss: 50.8819 - val_loss: 50.3462\n",
      "Epoch 15/100\n",
      "44319/44319 [==============================] - 4s 83us/sample - loss: 49.5755 - val_loss: 54.7994\n",
      "Epoch 16/100\n",
      "44319/44319 [==============================] - 4s 84us/sample - loss: 50.1580 - val_loss: 51.4729\n",
      "Epoch 17/100\n",
      "44319/44319 [==============================] - 4s 84us/sample - loss: 49.2091 - val_loss: 48.6373\n",
      "Epoch 18/100\n",
      "44319/44319 [==============================] - 4s 83us/sample - loss: 49.3799 - val_loss: 50.3966\n",
      "Epoch 19/100\n",
      "44319/44319 [==============================] - 4s 83us/sample - loss: 49.5279 - val_loss: 48.5741\n",
      "Epoch 20/100\n",
      "44319/44319 [==============================] - 4s 84us/sample - loss: 49.4298 - val_loss: 49.4216\n",
      "Epoch 21/100\n",
      "44319/44319 [==============================] - 4s 88us/sample - loss: 48.9613 - val_loss: 51.6945\n",
      "Epoch 22/100\n",
      "44319/44319 [==============================] - 4s 93us/sample - loss: 49.0199 - val_loss: 54.0614\n",
      "Epoch 23/100\n",
      "44319/44319 [==============================] - 4s 94us/sample - loss: 48.2166 - val_loss: 53.7014\n",
      "Epoch 24/100\n",
      "44319/44319 [==============================] - 4s 83us/sample - loss: 49.5124 - val_loss: 47.7920\n",
      "Epoch 25/100\n",
      "44319/44319 [==============================] - 4s 83us/sample - loss: 48.8396 - val_loss: 47.5841\n",
      "Epoch 26/100\n",
      "44319/44319 [==============================] - 4s 83us/sample - loss: 49.0134 - val_loss: 49.1129\n",
      "Epoch 27/100\n",
      "44319/44319 [==============================] - 4s 82us/sample - loss: 49.2528 - val_loss: 51.1607\n",
      "Epoch 28/100\n",
      "44319/44319 [==============================] - 4s 82us/sample - loss: 48.8918 - val_loss: 47.2926\n",
      "Epoch 29/100\n",
      "44319/44319 [==============================] - 4s 83us/sample - loss: 48.1534 - val_loss: 47.4429\n",
      "Epoch 30/100\n",
      "44319/44319 [==============================] - 4s 82us/sample - loss: 48.4202 - val_loss: 54.9579\n",
      "Epoch 31/100\n",
      "44319/44319 [==============================] - 4s 83us/sample - loss: 47.6654 - val_loss: 49.3045\n",
      "Epoch 32/100\n",
      "44319/44319 [==============================] - 4s 81us/sample - loss: 47.8150 - val_loss: 48.6748\n",
      "Epoch 33/100\n",
      "44319/44319 [==============================] - 4s 83us/sample - loss: 47.9493 - val_loss: 51.2221\n",
      "Epoch 34/100\n",
      "44319/44319 [==============================] - 4s 83us/sample - loss: 48.1412 - val_loss: 48.0736\n",
      "Epoch 35/100\n",
      "44319/44319 [==============================] - 4s 82us/sample - loss: 48.2890 - val_loss: 47.3360\n",
      "Epoch 36/100\n",
      "44319/44319 [==============================] - 4s 83us/sample - loss: 47.6626 - val_loss: 47.3958\n",
      "Epoch 37/100\n",
      "44319/44319 [==============================] - 4s 82us/sample - loss: 48.0293 - val_loss: 47.7605\n",
      "Epoch 38/100\n",
      "44319/44319 [==============================] - 4s 82us/sample - loss: 47.1338 - val_loss: 48.6921\n",
      "Epoch 39/100\n",
      "44319/44319 [==============================] - 4s 81us/sample - loss: 48.0149 - val_loss: 50.2453\n",
      "Epoch 40/100\n",
      "44319/44319 [==============================] - 4s 82us/sample - loss: 47.7059 - val_loss: 46.9151\n",
      "Epoch 41/100\n",
      "44319/44319 [==============================] - 4s 82us/sample - loss: 47.3459 - val_loss: 51.2580\n",
      "Epoch 42/100\n",
      "44319/44319 [==============================] - 4s 82us/sample - loss: 47.8329 - val_loss: 48.5600\n",
      "Epoch 43/100\n",
      "44319/44319 [==============================] - 4s 90us/sample - loss: 47.5511 - val_loss: 47.7519\n",
      "Epoch 44/100\n",
      "44319/44319 [==============================] - 4s 93us/sample - loss: 47.6959 - val_loss: 47.4938\n",
      "Epoch 45/100\n",
      "44319/44319 [==============================] - 4s 90us/sample - loss: 47.5123 - val_loss: 46.8554\n",
      "Epoch 46/100\n",
      "44319/44319 [==============================] - 4s 81us/sample - loss: 47.8806 - val_loss: 48.3087\n",
      "Epoch 47/100\n",
      "44319/44319 [==============================] - 4s 81us/sample - loss: 46.9285 - val_loss: 47.6307\n",
      "Epoch 48/100\n",
      "44319/44319 [==============================] - 4s 82us/sample - loss: 47.3173 - val_loss: 46.5490\n",
      "Epoch 49/100\n",
      "44319/44319 [==============================] - 4s 82us/sample - loss: 46.9461 - val_loss: 46.9923\n",
      "Epoch 50/100\n",
      "44319/44319 [==============================] - 4s 82us/sample - loss: 47.0497 - val_loss: 46.7193\n",
      "Epoch 51/100\n",
      "44319/44319 [==============================] - 4s 82us/sample - loss: 47.1486 - val_loss: 46.5391\n",
      "Epoch 52/100\n",
      "44319/44319 [==============================] - 4s 82us/sample - loss: 47.3267 - val_loss: 46.4066\n",
      "Epoch 53/100\n",
      "44319/44319 [==============================] - 4s 82us/sample - loss: 47.0984 - val_loss: 47.1606\n",
      "Epoch 54/100\n",
      "44319/44319 [==============================] - 4s 81us/sample - loss: 46.8592 - val_loss: 47.2762\n",
      "Epoch 55/100\n",
      "44319/44319 [==============================] - 4s 81us/sample - loss: 46.7846 - val_loss: 50.1859\n",
      "Epoch 56/100\n",
      "44319/44319 [==============================] - 4s 81us/sample - loss: 46.9511 - val_loss: 47.9245\n",
      "Epoch 57/100\n",
      "44319/44319 [==============================] - 4s 81us/sample - loss: 46.8649 - val_loss: 50.2056\n",
      "Epoch 58/100\n",
      "44319/44319 [==============================] - 4s 81us/sample - loss: 46.7371 - val_loss: 47.0361\n",
      "Epoch 59/100\n",
      "44319/44319 [==============================] - 4s 81us/sample - loss: 46.7998 - val_loss: 47.1820\n",
      "Epoch 60/100\n",
      "44319/44319 [==============================] - 4s 82us/sample - loss: 46.7735 - val_loss: 46.3556\n",
      "Epoch 61/100\n",
      "44319/44319 [==============================] - 4s 82us/sample - loss: 46.5952 - val_loss: 46.8897\n",
      "Epoch 62/100\n",
      "44319/44319 [==============================] - 4s 82us/sample - loss: 46.6624 - val_loss: 47.1466\n",
      "Epoch 63/100\n",
      "44319/44319 [==============================] - 4s 81us/sample - loss: 46.9723 - val_loss: 46.5225\n",
      "Epoch 64/100\n",
      "44319/44319 [==============================] - 4s 81us/sample - loss: 46.7780 - val_loss: 48.3567\n",
      "Epoch 65/100\n",
      "44319/44319 [==============================] - 4s 92us/sample - loss: 46.6459 - val_loss: 47.0917\n",
      "Epoch 66/100\n",
      "44319/44319 [==============================] - 4s 93us/sample - loss: 46.6962 - val_loss: 46.2934\n",
      "Epoch 67/100\n",
      "44319/44319 [==============================] - 4s 88us/sample - loss: 46.2255 - val_loss: 50.5791\n",
      "Epoch 68/100\n",
      "44319/44319 [==============================] - 4s 82us/sample - loss: 46.3469 - val_loss: 47.9884\n",
      "Epoch 69/100\n",
      "44319/44319 [==============================] - 4s 81us/sample - loss: 46.9407 - val_loss: 46.7498\n",
      "Epoch 70/100\n",
      "44319/44319 [==============================] - 4s 81us/sample - loss: 46.7703 - val_loss: 47.0505\n",
      "Epoch 71/100\n",
      "44319/44319 [==============================] - 4s 81us/sample - loss: 46.7362 - val_loss: 51.9921\n",
      "Epoch 72/100\n",
      "44319/44319 [==============================] - 4s 82us/sample - loss: 47.0925 - val_loss: 46.9371\n",
      "Epoch 73/100\n",
      "44319/44319 [==============================] - 4s 81us/sample - loss: 46.2483 - val_loss: 48.6397\n",
      "Epoch 74/100\n",
      "44319/44319 [==============================] - 4s 81us/sample - loss: 46.7862 - val_loss: 48.9418\n",
      "Epoch 75/100\n",
      "44319/44319 [==============================] - 4s 84us/sample - loss: 46.4453 - val_loss: 47.5942\n",
      "Epoch 76/100\n",
      "44319/44319 [==============================] - 4s 95us/sample - loss: 46.3234 - val_loss: 47.2237\n",
      "Epoch 77/100\n",
      "44319/44319 [==============================] - 4s 82us/sample - loss: 46.1919 - val_loss: 47.6147\n",
      "Epoch 78/100\n",
      "44319/44319 [==============================] - 4s 81us/sample - loss: 46.3799 - val_loss: 46.5626\n",
      "Epoch 79/100\n",
      "44319/44319 [==============================] - 4s 81us/sample - loss: 46.2628 - val_loss: 48.8977\n",
      "Epoch 80/100\n",
      "44319/44319 [==============================] - 4s 82us/sample - loss: 46.5568 - val_loss: 46.1051\n",
      "Epoch 81/100\n",
      "44319/44319 [==============================] - 4s 81us/sample - loss: 46.3410 - val_loss: 46.6727\n",
      "Epoch 82/100\n",
      "44319/44319 [==============================] - 4s 81us/sample - loss: 47.1752 - val_loss: 46.6553\n",
      "Epoch 83/100\n",
      "44319/44319 [==============================] - 4s 81us/sample - loss: 46.4896 - val_loss: 46.6681\n",
      "Epoch 84/100\n",
      "44319/44319 [==============================] - 4s 81us/sample - loss: 45.6025 - val_loss: 50.0788\n",
      "Epoch 85/100\n",
      "44319/44319 [==============================] - 4s 82us/sample - loss: 45.6595 - val_loss: 46.8962\n",
      "Epoch 86/100\n",
      "44319/44319 [==============================] - 4s 82us/sample - loss: 46.3406 - val_loss: 47.8367\n",
      "Epoch 87/100\n",
      "44319/44319 [==============================] - 4s 93us/sample - loss: 45.9300 - val_loss: 48.0829\n",
      "Epoch 88/100\n",
      "44319/44319 [==============================] - 4s 93us/sample - loss: 46.6441 - val_loss: 45.7609\n",
      "Epoch 89/100\n",
      "44319/44319 [==============================] - 4s 86us/sample - loss: 46.7021 - val_loss: 48.4529\n",
      "Epoch 90/100\n",
      "44319/44319 [==============================] - 4s 81us/sample - loss: 46.3413 - val_loss: 50.5401\n",
      "Epoch 91/100\n",
      "44319/44319 [==============================] - 4s 82us/sample - loss: 46.0075 - val_loss: 50.3050\n",
      "Epoch 92/100\n",
      "44319/44319 [==============================] - 4s 81us/sample - loss: 46.2011 - val_loss: 45.7438\n",
      "Epoch 93/100\n",
      "44319/44319 [==============================] - 4s 81us/sample - loss: 46.4343 - val_loss: 55.7944\n",
      "Epoch 94/100\n",
      "44319/44319 [==============================] - 4s 94us/sample - loss: 45.6905 - val_loss: 45.8706\n",
      "Epoch 95/100\n",
      "44319/44319 [==============================] - 4s 96us/sample - loss: 45.9930 - val_loss: 47.7367\n",
      "Epoch 96/100\n",
      "44319/44319 [==============================] - 4s 91us/sample - loss: 46.0084 - val_loss: 47.4636\n",
      "Epoch 97/100\n",
      "44319/44319 [==============================] - 4s 81us/sample - loss: 46.0427 - val_loss: 45.6008\n",
      "Epoch 98/100\n",
      "44319/44319 [==============================] - 4s 81us/sample - loss: 46.1033 - val_loss: 46.0920\n",
      "Epoch 99/100\n",
      "44319/44319 [==============================] - 4s 81us/sample - loss: 45.9497 - val_loss: 45.4624\n",
      "Epoch 100/100\n",
      "44319/44319 [==============================] - 4s 82us/sample - loss: 45.6575 - val_loss: 50.5925\n"
     ]
    },
    {
     "data": {
      "text/plain": [
       "<tensorflow.python.keras.callbacks.History at 0x7fdf2a4b62e8>"
      ]
     },
     "execution_count": 296,
     "metadata": {
      "tags": []
     },
     "output_type": "execute_result"
    }
   ],
   "source": [
    "model.fit([X[['Sample_Size','latitude','longitude']],X[['Subtopic']],X11[['Sex']],X11[['Race']],X[['Grade']],X11[['QuestionCode']],X[['StratID1']],X[['StratID2']],X[['StratID3']],X11[['StratificationType']],desc],\n",
    "          Y, \n",
    "          validation_split=0.2,\n",
    "          epochs=100, \n",
    "          batch_size=100,callbacks=[callbacks])"
   ]
  },
  {
   "cell_type": "code",
   "execution_count": null,
   "metadata": {
    "colab": {},
    "colab_type": "code",
    "id": "ZPtVGw3ssjbB"
   },
   "outputs": [],
   "source": [
    "#model.fit([X[['Subtopic']],X11[['Sex']],desc],\n",
    "#          Y, \n",
    "#          validation_split=0.2,\n",
    "#          epochs=100, \n",
    "#          batch_size=100,callbacks=[callbacks])"
   ]
  },
  {
   "cell_type": "code",
   "execution_count": null,
   "metadata": {
    "colab": {},
    "colab_type": "code",
    "id": "WOTgk3LLy6-F"
   },
   "outputs": [],
   "source": [
    "test=pd.read_csv('test_file.csv')"
   ]
  },
  {
   "cell_type": "code",
   "execution_count": 299,
   "metadata": {
    "colab": {
     "base_uri": "https://localhost:8080/",
     "height": 484
    },
    "colab_type": "code",
    "id": "9H5GFxTqnsGZ",
    "outputId": "24d3f8a4-8d3b-4897-8561-b5aa07eca78b"
   },
   "outputs": [
    {
     "data": {
      "text/html": [
       "<div>\n",
       "<style scoped>\n",
       "    .dataframe tbody tr th:only-of-type {\n",
       "        vertical-align: middle;\n",
       "    }\n",
       "\n",
       "    .dataframe tbody tr th {\n",
       "        vertical-align: top;\n",
       "    }\n",
       "\n",
       "    .dataframe thead th {\n",
       "        text-align: right;\n",
       "    }\n",
       "</style>\n",
       "<table border=\"1\" class=\"dataframe\">\n",
       "  <thead>\n",
       "    <tr style=\"text-align: right;\">\n",
       "      <th></th>\n",
       "      <th>Patient_ID</th>\n",
       "      <th>YEAR</th>\n",
       "      <th>LocationDesc</th>\n",
       "      <th>Subtopic</th>\n",
       "      <th>Greater_Risk_Question</th>\n",
       "      <th>Description</th>\n",
       "      <th>Sample_Size</th>\n",
       "      <th>Sex</th>\n",
       "      <th>Race</th>\n",
       "      <th>Grade</th>\n",
       "      <th>GeoLocation</th>\n",
       "      <th>QuestionCode</th>\n",
       "      <th>StratID1</th>\n",
       "      <th>StratID2</th>\n",
       "      <th>StratID3</th>\n",
       "      <th>StratificationType</th>\n",
       "    </tr>\n",
       "  </thead>\n",
       "  <tbody>\n",
       "    <tr>\n",
       "      <th>0</th>\n",
       "      <td>55400</td>\n",
       "      <td>2007</td>\n",
       "      <td>Navajo</td>\n",
       "      <td>1</td>\n",
       "      <td>Ever used marijuana</td>\n",
       "      <td>also called grass, pot, or weed, one or more t...</td>\n",
       "      <td>157.0</td>\n",
       "      <td>Male</td>\n",
       "      <td>Hispanic or Latino</td>\n",
       "      <td>3</td>\n",
       "      <td>NaN</td>\n",
       "      <td>H46</td>\n",
       "      <td>2</td>\n",
       "      <td>4</td>\n",
       "      <td>1</td>\n",
       "      <td>Other</td>\n",
       "    </tr>\n",
       "    <tr>\n",
       "      <th>1</th>\n",
       "      <td>55401</td>\n",
       "      <td>2001</td>\n",
       "      <td>Florida</td>\n",
       "      <td>1</td>\n",
       "      <td>Currently used marijuana</td>\n",
       "      <td>also called grass, pot, or weed, one or more t...</td>\n",
       "      <td>724.0</td>\n",
       "      <td>Total</td>\n",
       "      <td>Total</td>\n",
       "      <td>2</td>\n",
       "      <td>(28.932040377000476, -81.92896053899966)</td>\n",
       "      <td>H48</td>\n",
       "      <td>0</td>\n",
       "      <td>0</td>\n",
       "      <td>4</td>\n",
       "      <td>State</td>\n",
       "    </tr>\n",
       "    <tr>\n",
       "      <th>2</th>\n",
       "      <td>55402</td>\n",
       "      <td>2005</td>\n",
       "      <td>Charlotte-Mecklenburg County, NC</td>\n",
       "      <td>1</td>\n",
       "      <td>Were offered, sold, or given an illegal drug o...</td>\n",
       "      <td>during the 12 months before the survey</td>\n",
       "      <td>105.0</td>\n",
       "      <td>Male</td>\n",
       "      <td>Hispanic or Latino</td>\n",
       "      <td>4</td>\n",
       "      <td>(35.227087, -80.843127)</td>\n",
       "      <td>H58</td>\n",
       "      <td>2</td>\n",
       "      <td>4</td>\n",
       "      <td>0</td>\n",
       "      <td>Local</td>\n",
       "    </tr>\n",
       "    <tr>\n",
       "      <th>3</th>\n",
       "      <td>55403</td>\n",
       "      <td>2017</td>\n",
       "      <td>Nevada</td>\n",
       "      <td>1</td>\n",
       "      <td>Ever used synthetic marijuana</td>\n",
       "      <td>also called \"K2,\" \"Spice,\" \"fake weed,\" \"King ...</td>\n",
       "      <td>157.0</td>\n",
       "      <td>Male</td>\n",
       "      <td>Total</td>\n",
       "      <td>2</td>\n",
       "      <td>(39.493240390000494, -117.07184056399967)</td>\n",
       "      <td>H54</td>\n",
       "      <td>2</td>\n",
       "      <td>0</td>\n",
       "      <td>4</td>\n",
       "      <td>State</td>\n",
       "    </tr>\n",
       "    <tr>\n",
       "      <th>4</th>\n",
       "      <td>55404</td>\n",
       "      <td>2007</td>\n",
       "      <td>Illinois</td>\n",
       "      <td>1</td>\n",
       "      <td>Ever used heroin</td>\n",
       "      <td>also called \"smack,\" \"junk,\" or \"China White,\"...</td>\n",
       "      <td>174.0</td>\n",
       "      <td>Total</td>\n",
       "      <td>Black or African American</td>\n",
       "      <td>1</td>\n",
       "      <td>(40.48501028300046, -88.99771017799969)</td>\n",
       "      <td>H51</td>\n",
       "      <td>0</td>\n",
       "      <td>3</td>\n",
       "      <td>3</td>\n",
       "      <td>State</td>\n",
       "    </tr>\n",
       "  </tbody>\n",
       "</table>\n",
       "</div>"
      ],
      "text/plain": [
       "   Patient_ID  YEAR                      LocationDesc  Subtopic  \\\n",
       "0       55400  2007                            Navajo         1   \n",
       "1       55401  2001                           Florida         1   \n",
       "2       55402  2005  Charlotte-Mecklenburg County, NC         1   \n",
       "3       55403  2017                            Nevada         1   \n",
       "4       55404  2007                          Illinois         1   \n",
       "\n",
       "                               Greater_Risk_Question  \\\n",
       "0                                Ever used marijuana   \n",
       "1                           Currently used marijuana   \n",
       "2  Were offered, sold, or given an illegal drug o...   \n",
       "3                      Ever used synthetic marijuana   \n",
       "4                                   Ever used heroin   \n",
       "\n",
       "                                         Description  Sample_Size    Sex  \\\n",
       "0  also called grass, pot, or weed, one or more t...        157.0   Male   \n",
       "1  also called grass, pot, or weed, one or more t...        724.0  Total   \n",
       "2             during the 12 months before the survey        105.0   Male   \n",
       "3  also called \"K2,\" \"Spice,\" \"fake weed,\" \"King ...        157.0   Male   \n",
       "4  also called \"smack,\" \"junk,\" or \"China White,\"...        174.0  Total   \n",
       "\n",
       "                        Race  Grade  \\\n",
       "0         Hispanic or Latino      3   \n",
       "1                      Total      2   \n",
       "2         Hispanic or Latino      4   \n",
       "3                      Total      2   \n",
       "4  Black or African American      1   \n",
       "\n",
       "                                 GeoLocation QuestionCode  StratID1  StratID2  \\\n",
       "0                                        NaN          H46         2         4   \n",
       "1   (28.932040377000476, -81.92896053899966)          H48         0         0   \n",
       "2                    (35.227087, -80.843127)          H58         2         4   \n",
       "3  (39.493240390000494, -117.07184056399967)          H54         2         0   \n",
       "4    (40.48501028300046, -88.99771017799969)          H51         0         3   \n",
       "\n",
       "   StratID3 StratificationType  \n",
       "0         1              Other  \n",
       "1         4              State  \n",
       "2         0              Local  \n",
       "3         4              State  \n",
       "4         3              State  "
      ]
     },
     "execution_count": 299,
     "metadata": {
      "tags": []
     },
     "output_type": "execute_result"
    }
   ],
   "source": [
    "test.head()"
   ]
  },
  {
   "cell_type": "code",
   "execution_count": null,
   "metadata": {
    "colab": {},
    "colab_type": "code",
    "id": "uegNtwxqnsL1"
   },
   "outputs": [],
   "source": [
    "test=test.fillna('(0,0)')"
   ]
  },
  {
   "cell_type": "code",
   "execution_count": null,
   "metadata": {
    "colab": {},
    "colab_type": "code",
    "id": "sdkvQGXwnsSA"
   },
   "outputs": [],
   "source": [
    "\n",
    "XX=test.drop(['Patient_ID','YEAR','LocationDesc','Greater_Risk_Question'], axis=1)"
   ]
  },
  {
   "cell_type": "code",
   "execution_count": 302,
   "metadata": {
    "colab": {
     "base_uri": "https://localhost:8080/",
     "height": 127
    },
    "colab_type": "code",
    "id": "8XV96GALoZGx",
    "outputId": "49fbf819-a8d9-4855-f773-383ac6e68e04"
   },
   "outputs": [
    {
     "data": {
      "text/html": [
       "<div>\n",
       "<style scoped>\n",
       "    .dataframe tbody tr th:only-of-type {\n",
       "        vertical-align: middle;\n",
       "    }\n",
       "\n",
       "    .dataframe tbody tr th {\n",
       "        vertical-align: top;\n",
       "    }\n",
       "\n",
       "    .dataframe thead th {\n",
       "        text-align: right;\n",
       "    }\n",
       "</style>\n",
       "<table border=\"1\" class=\"dataframe\">\n",
       "  <thead>\n",
       "    <tr style=\"text-align: right;\">\n",
       "      <th></th>\n",
       "      <th>Subtopic</th>\n",
       "      <th>Description</th>\n",
       "      <th>Sample_Size</th>\n",
       "      <th>Sex</th>\n",
       "      <th>Race</th>\n",
       "      <th>Grade</th>\n",
       "      <th>GeoLocation</th>\n",
       "      <th>QuestionCode</th>\n",
       "      <th>StratID1</th>\n",
       "      <th>StratID2</th>\n",
       "      <th>StratID3</th>\n",
       "      <th>StratificationType</th>\n",
       "    </tr>\n",
       "  </thead>\n",
       "  <tbody>\n",
       "    <tr>\n",
       "      <th>0</th>\n",
       "      <td>1</td>\n",
       "      <td>also called grass, pot, or weed, one or more t...</td>\n",
       "      <td>157.0</td>\n",
       "      <td>Male</td>\n",
       "      <td>Hispanic or Latino</td>\n",
       "      <td>3</td>\n",
       "      <td>(0,0)</td>\n",
       "      <td>H46</td>\n",
       "      <td>2</td>\n",
       "      <td>4</td>\n",
       "      <td>1</td>\n",
       "      <td>Other</td>\n",
       "    </tr>\n",
       "  </tbody>\n",
       "</table>\n",
       "</div>"
      ],
      "text/plain": [
       "   Subtopic                                        Description  Sample_Size  \\\n",
       "0         1  also called grass, pot, or weed, one or more t...        157.0   \n",
       "\n",
       "    Sex                Race  Grade GeoLocation QuestionCode  StratID1  \\\n",
       "0  Male  Hispanic or Latino      3       (0,0)          H46         2   \n",
       "\n",
       "   StratID2  StratID3 StratificationType  \n",
       "0         4         1              Other  "
      ]
     },
     "execution_count": 302,
     "metadata": {
      "tags": []
     },
     "output_type": "execute_result"
    }
   ],
   "source": [
    "XX.head(1)"
   ]
  },
  {
   "cell_type": "code",
   "execution_count": null,
   "metadata": {
    "colab": {},
    "colab_type": "code",
    "id": "_x3BeJ-xoLf_"
   },
   "outputs": [],
   "source": [
    "# We will split GeoLocation in to 2 columns\n",
    "XX['GeoLocation']=XX['GeoLocation'].str.replace(\" \", \"\").str.strip('(').str.strip(')')\n",
    "XX['latitude']=XX['GeoLocation'].str.split(',').str[0].astype(float)\n",
    "XX['longitude']=XX['GeoLocation'].str.split(',').str[1].astype(float)"
   ]
  },
  {
   "cell_type": "code",
   "execution_count": null,
   "metadata": {
    "colab": {},
    "colab_type": "code",
    "id": "qXaM7JHE_vpz"
   },
   "outputs": [],
   "source": [
    "XXC=XX[['Sample_Size','latitude','longitude']]\n",
    "scaler = preprocessing.StandardScaler()\n",
    "scaled_df = scaler.fit_transform(XXC)\n",
    "XX[['Sample_Size','latitude','longitude']] = pd.DataFrame(scaled_df, columns=['Sample_Size','latitude','longitude'])"
   ]
  },
  {
   "cell_type": "code",
   "execution_count": null,
   "metadata": {
    "colab": {},
    "colab_type": "code",
    "id": "e9FEwtk1oLu1"
   },
   "outputs": [],
   "source": [
    "XX=XX.drop('GeoLocation',axis=1)"
   ]
  },
  {
   "cell_type": "code",
   "execution_count": null,
   "metadata": {
    "colab": {},
    "colab_type": "code",
    "id": "Wp3LL1P_o8VW"
   },
   "outputs": [],
   "source": [
    "XX11=XX[['Sex','Race','QuestionCode','StratificationType']]"
   ]
  },
  {
   "cell_type": "code",
   "execution_count": null,
   "metadata": {
    "colab": {},
    "colab_type": "code",
    "id": "vqrLgejJnsYQ"
   },
   "outputs": [],
   "source": [
    "XX11=XX11.apply(label.fit_transform)"
   ]
  },
  {
   "cell_type": "code",
   "execution_count": null,
   "metadata": {
    "colab": {},
    "colab_type": "code",
    "id": "WPLavnPHpmPX"
   },
   "outputs": [],
   "source": [
    "desc1 = t.texts_to_sequences(XX.Description.tolist())"
   ]
  },
  {
   "cell_type": "code",
   "execution_count": null,
   "metadata": {
    "colab": {},
    "colab_type": "code",
    "id": "4MJ7QJiTr1mR"
   },
   "outputs": [],
   "source": [
    "desc1 = sequence.pad_sequences(desc1,maxlen=max_review_length,padding='post')"
   ]
  },
  {
   "cell_type": "code",
   "execution_count": null,
   "metadata": {
    "colab": {},
    "colab_type": "code",
    "id": "hQpmEoxXsAw6"
   },
   "outputs": [],
   "source": [
    "#Prediction\n",
    "test['Greater_Risk_Probability']=model.predict([XX[['Sample_Size','latitude','longitude']],XX[['Subtopic']],XX11[['Sex']],XX11[['Race']],XX[['Grade']],XX11[['QuestionCode']],XX[['StratID1']],XX[['StratID2']],XX[['StratID3']],XX11[['StratificationType']],desc1])"
   ]
  },
  {
   "cell_type": "code",
   "execution_count": null,
   "metadata": {
    "colab": {},
    "colab_type": "code",
    "id": "1mZ8Ss7JzeUR"
   },
   "outputs": [],
   "source": [
    "#Prediction\n",
    "#test['Greater_Risk_Probability']=model.predict([XX[['Subtopic']],XX11[['Sex']],desc1])"
   ]
  },
  {
   "cell_type": "code",
   "execution_count": 314,
   "metadata": {
    "colab": {
     "base_uri": "https://localhost:8080/",
     "height": 197
    },
    "colab_type": "code",
    "id": "fZZAW3HFs1iX",
    "outputId": "bf096872-a6fe-43d8-8c63-5979cc522ae1"
   },
   "outputs": [
    {
     "data": {
      "text/html": [
       "<div>\n",
       "<style scoped>\n",
       "    .dataframe tbody tr th:only-of-type {\n",
       "        vertical-align: middle;\n",
       "    }\n",
       "\n",
       "    .dataframe tbody tr th {\n",
       "        vertical-align: top;\n",
       "    }\n",
       "\n",
       "    .dataframe thead th {\n",
       "        text-align: right;\n",
       "    }\n",
       "</style>\n",
       "<table border=\"1\" class=\"dataframe\">\n",
       "  <thead>\n",
       "    <tr style=\"text-align: right;\">\n",
       "      <th></th>\n",
       "      <th>Patient_ID</th>\n",
       "      <th>Greater_Risk_Probability</th>\n",
       "    </tr>\n",
       "  </thead>\n",
       "  <tbody>\n",
       "    <tr>\n",
       "      <th>0</th>\n",
       "      <td>55400</td>\n",
       "      <td>51.308701</td>\n",
       "    </tr>\n",
       "    <tr>\n",
       "      <th>1</th>\n",
       "      <td>55401</td>\n",
       "      <td>25.545303</td>\n",
       "    </tr>\n",
       "    <tr>\n",
       "      <th>2</th>\n",
       "      <td>55402</td>\n",
       "      <td>42.188129</td>\n",
       "    </tr>\n",
       "    <tr>\n",
       "      <th>3</th>\n",
       "      <td>55403</td>\n",
       "      <td>15.795937</td>\n",
       "    </tr>\n",
       "    <tr>\n",
       "      <th>4</th>\n",
       "      <td>55404</td>\n",
       "      <td>6.808461</td>\n",
       "    </tr>\n",
       "  </tbody>\n",
       "</table>\n",
       "</div>"
      ],
      "text/plain": [
       "   Patient_ID  Greater_Risk_Probability\n",
       "0       55400                 51.308701\n",
       "1       55401                 25.545303\n",
       "2       55402                 42.188129\n",
       "3       55403                 15.795937\n",
       "4       55404                  6.808461"
      ]
     },
     "execution_count": 314,
     "metadata": {
      "tags": []
     },
     "output_type": "execute_result"
    }
   ],
   "source": [
    "test[['Patient_ID','Greater_Risk_Probability']].head()"
   ]
  },
  {
   "cell_type": "code",
   "execution_count": null,
   "metadata": {
    "colab": {},
    "colab_type": "code",
    "id": "aIjr_WMFnsd3"
   },
   "outputs": [],
   "source": [
    "test[['Patient_ID','Greater_Risk_Probability']].to_csv('output.csv', index=False)"
   ]
  },
  {
   "cell_type": "code",
   "execution_count": null,
   "metadata": {
    "colab": {},
    "colab_type": "code",
    "id": "lr_hD6Fknskc"
   },
   "outputs": [],
   "source": []
  },
  {
   "cell_type": "code",
   "execution_count": null,
   "metadata": {
    "colab": {},
    "colab_type": "code",
    "id": "n5Rd8I-MnssU"
   },
   "outputs": [],
   "source": []
  },
  {
   "cell_type": "code",
   "execution_count": null,
   "metadata": {
    "colab": {},
    "colab_type": "code",
    "id": "Xnfj5prqnsqW"
   },
   "outputs": [],
   "source": []
  },
  {
   "cell_type": "code",
   "execution_count": null,
   "metadata": {
    "colab": {},
    "colab_type": "code",
    "id": "2RhTpeg3nsEX"
   },
   "outputs": [],
   "source": []
  }
 ],
 "metadata": {
  "accelerator": "GPU",
  "colab": {
   "collapsed_sections": [],
   "name": "INCEDO_ML.ipynb",
   "provenance": [],
   "version": "0.3.2"
  },
  "kernelspec": {
   "display_name": "Python 3",
   "language": "python",
   "name": "python3"
  },
  "language_info": {
   "codemirror_mode": {
    "name": "ipython",
    "version": 3
   },
   "file_extension": ".py",
   "mimetype": "text/x-python",
   "name": "python",
   "nbconvert_exporter": "python",
   "pygments_lexer": "ipython3",
   "version": "3.7.3"
  }
 },
 "nbformat": 4,
 "nbformat_minor": 2
}
