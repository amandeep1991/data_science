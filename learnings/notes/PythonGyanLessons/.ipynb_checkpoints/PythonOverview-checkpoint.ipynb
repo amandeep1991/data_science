{
 "cells": [
  {
   "cell_type": "markdown",
   "metadata": {
    "collapsed": true
   },
   "source": [
    "# Things to be covered:\n",
    ">    1. About Interpreted Languages, Advantages/Disadvantages of Python, pydoc.\n",
    ">    2. Starting Python, Interpreter PATH, Using the Interpreter\n",
    ">    3. Running a Python Script, Python Scripts on UNIX/Windows, Python Editors and IDEs.\n",
    ">    4. Using Variables, Keywords, Built-in Functions, Strings, Different Literals, Math Operators and Expressions, Writing to the Screen, String Formatting, Command Line Parameters and Flow Control."
   ]
  },
  {
   "cell_type": "markdown",
   "metadata": {},
   "source": [
    " "
   ]
  },
  {
   "attachments": {},
   "cell_type": "markdown",
   "metadata": {},
   "source": [
    "## 1.1. About Interpreted Languages\n",
    "\n",
    ">### 1. Interpreter Languages:\n",
    ">> * An interpreted language is a type of programming language for which most of its implementations execute instructions directly and freely, without previously compiling a program into machine-language instructions. \n",
    ">> * The interpreter executes the program directly, translating each statement into a sequence of one or more subroutines, and then into another language (often machine code).\n",
    "\n",
    "\n",
    ">### 2. Compiler vs Interpreter:\n",
    ">> * Compiler and Interpreter are two different ways to execute a program written in a programming or scripting language. \n",
    ">> * In general, interpreted programs run slower than the compiled programs.\n",
    "\n",
    ">>#### 1. Compiler\n",
    ">>> * A compiler takes entire program and converts it into object code which is typically stored in a file. The object code is also refereed as binary code and can be directly executed by the machine after linking. Examples of compiled programming languages are C and C++. \n",
    ">>> * Once a program is compiled, its source code is not useful for running the code. \n",
    "    \n",
    ">>#### 2. Interpreter:\n",
    ">>> * An Interpreter directly executes instructions written in a programming or scripting language without previously converting them to an object code or machine code. Examples of interpreted languages are Perl, Python and Matlab.\n",
    ">>> * For interpreted programs, the source code is needed to run the program every time.\n",
    "\n",
    "\n",
    ">### 3. Python is an interpreter language:\n",
    ">> * Python language is an interpreted language. \n",
    ">> * Python program runs directly from the source code. \n",
    ">> * It converts the source code that is written by the programmer into an intermediate language **(line by line)**, which is again translated into machine language that has to be executed.\n",
    "\n",
    "<div class=\"alert alert-block alert-info\">\n",
    "<b>Remember:</b> \n",
    "<ul>\n",
    "<li> Python as a programming language has no saying about if it's an compiled or interpreted programming language, only the implementation of it. \n",
    "<li> The terms interpreted or compiled is not a property of the language but a property of the implementation. \n",
    "\n",
    "<li> Python program runs directly from the source code . So, Python will fall under byte code interpreted. \n",
    "<ul>\n",
    "<li> The .py source code is first compiled to byte code as .pyc. \n",
    "<li> This byte code can be interpreted (official CPython), or JIT compiled (PyPy). \n",
    "<li> Python source code (.py) can be compiled to different byte code also like IronPython (.Net) or Jython (JVM). \n",
    "<li> There are multiple implementations of Python language . \n",
    "<li> The official one is a byte code interpreted one. There are byte code JIT compiled implementations too.\n",
    "</ul>\n",
    "<li> As concluding remarks, Python(Cpython) is neither a true compiled time nor pure interpreted language but it is called interpreted language.\n",
    "</div>\n"
   ]
  },
  {
   "cell_type": "markdown",
   "metadata": {},
   "source": [
    "> Text that will be indented when the Markdown is rendered."
   ]
  }
 ],
 "metadata": {
  "kernelspec": {
   "display_name": "Python 3",
   "language": "python",
   "name": "python3"
  },
  "language_info": {
   "codemirror_mode": {
    "name": "ipython",
    "version": 3
   },
   "file_extension": ".py",
   "mimetype": "text/x-python",
   "name": "python",
   "nbconvert_exporter": "python",
   "pygments_lexer": "ipython3",
   "version": "3.6.2"
  }
 },
 "nbformat": 4,
 "nbformat_minor": 1
}
